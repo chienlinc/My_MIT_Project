{
 "cells": [
  {
   "cell_type": "code",
   "execution_count": 72,
   "metadata": {},
   "outputs": [],
   "source": [
    "import numpy as np"
   ]
  },
  {
   "cell_type": "code",
   "execution_count": 73,
   "metadata": {},
   "outputs": [],
   "source": [
    "import matplotlib.pyplot as plt"
   ]
  },
  {
   "cell_type": "code",
   "execution_count": 205,
   "metadata": {},
   "outputs": [],
   "source": [
    "Space_AO_11_s1 = open(\"Space_Output_all_10^8_z_11_s1.txt\", \"r\")\n",
    "Space_O_11_s1 = open(\"Space_Output_10^8_z_11_s1.txt\", \"r\")\n",
    "Space_T_11_s1 = open(\"Space_Output_time_10^8_z_11_s1.txt\", \"r\")\n",
    "Space_M_11_s1 = open(\"Space_Output_memory_10^8_z_11_s1.txt\", \"r\")\n",
    "Space_Max_11_s1 = open(\"Space_Output_max_10^8_z_11_s1.txt\", \"r\")\n",
    "\n",
    "Space_AO_14_s1 = open(\"Space_Output_all_10^8_z_14_s1.txt\", \"r\")\n",
    "Space_O_14_s1 = open(\"Space_Output_10^8_z_14_s1.txt\", \"r\")\n",
    "Space_T_14_s1 = open(\"Space_Output_time_10^8_z_14_s1.txt\", \"r\")\n",
    "Space_M_14_s1 = open(\"Space_Output_memory_10^8_z_14_s1.txt\", \"r\")\n",
    "Space_Max_14_s1 = open(\"Space_Output_max_10^8_z_14_s1.txt\", \"r\")\n",
    "\n",
    "Space_AO_17_s1 = open(\"Space_Output_all_10^8_z_17_s1.txt\", \"r\")\n",
    "Space_O_17_s1 = open(\"Space_Output_10^8_z_17_s1.txt\", \"r\")\n",
    "Space_T_17_s1 = open(\"Space_Output_time_10^8_z_17_s1.txt\", \"r\")\n",
    "Space_M_17_s1 = open(\"Space_Output_memory_10^8_z_17_s1.txt\", \"r\")\n",
    "Space_Max_17_s1 = open(\"Space_Output_max_10^8_z_17_s1.txt\", \"r\")\n",
    "\n",
    "Space_AO_20_s1 = open(\"Space_Output_all_10^8_z_20_s1.txt\", \"r\")\n",
    "Space_O_20_s1 = open(\"Space_Output_10^8_z_20_s1.txt\", \"r\")\n",
    "Space_T_20_s1 = open(\"Space_Output_time_10^8_z_20_s1.txt\", \"r\")\n",
    "Space_M_20_s1 = open(\"Space_Output_memory_10^8_z_20_s1.txt\", \"r\")\n",
    "Space_Max_20_s1 = open(\"Space_Output_max_10^8_z_20_s1.txt\", \"r\")"
   ]
  },
  {
   "cell_type": "code",
   "execution_count": 206,
   "metadata": {},
   "outputs": [],
   "source": [
    "Space_AO_11_s2 = open(\"Space_Output_all_10^8_z_11_s2.txt\", \"r\")\n",
    "Space_O_11_s2 = open(\"Space_Output_10^8_z_11_s2.txt\", \"r\")\n",
    "Space_T_11_s2 = open(\"Space_Output_time_10^8_z_11_s2.txt\", \"r\")\n",
    "Space_M_11_s2 = open(\"Space_Output_memory_10^8_z_11_s2.txt\", \"r\")\n",
    "Space_Max_11_s2 = open(\"Space_Output_max_10^8_z_11_s2.txt\", \"r\")\n",
    "\n",
    "Space_AO_14_s2 = open(\"Space_Output_all_10^8_z_14_s2.txt\", \"r\")\n",
    "Space_O_14_s2 = open(\"Space_Output_10^8_z_14_s2.txt\", \"r\")\n",
    "Space_T_14_s2 = open(\"Space_Output_time_10^8_z_14_s2.txt\", \"r\")\n",
    "Space_M_14_s2 = open(\"Space_Output_memory_10^8_z_14_s2.txt\", \"r\")\n",
    "Space_Max_14_s2 = open(\"Space_Output_max_10^8_z_14_s2.txt\", \"r\")\n",
    "\n",
    "Space_AO_17_s2 = open(\"Space_Output_all_10^8_z_17_s2.txt\", \"r\")\n",
    "Space_O_17_s2 = open(\"Space_Output_10^8_z_17_s2.txt\", \"r\")\n",
    "Space_T_17_s2 = open(\"Space_Output_time_10^8_z_17_s2.txt\", \"r\")\n",
    "Space_M_17_s2 = open(\"Space_Output_memory_10^8_z_17_s2.txt\", \"r\")\n",
    "Space_Max_17_s2 = open(\"Space_Output_max_10^8_z_17_s2.txt\", \"r\")\n",
    "\n",
    "Space_AO_20_s2 = open(\"Space_Output_all_10^8_z_20_s2.txt\", \"r\")\n",
    "Space_O_20_s2 = open(\"Space_Output_10^8_z_20_s2.txt\", \"r\")\n",
    "Space_T_20_s2 = open(\"Space_Output_time_10^8_z_20_s2.txt\", \"r\")\n",
    "Space_M_20_s2 = open(\"Space_Output_memory_10^8_z_20_s2.txt\", \"r\")\n",
    "Space_Max_20_s2 = open(\"Space_Output_max_10^8_z_20_s2.txt\", \"r\")"
   ]
  },
  {
   "cell_type": "code",
   "execution_count": 207,
   "metadata": {},
   "outputs": [],
   "source": [
    "Space_AO_11_s3 = open(\"Space_Output_all_10^8_z_11_s3.txt\", \"r\")\n",
    "Space_O_11_s3 = open(\"Space_Output_10^8_z_11_s3.txt\", \"r\")\n",
    "Space_T_11_s3 = open(\"Space_Output_time_10^8_z_11_s3.txt\", \"r\")\n",
    "Space_M_11_s3 = open(\"Space_Output_memory_10^8_z_11_s3.txt\", \"r\")\n",
    "Space_Max_11_s3 = open(\"Space_Output_max_10^8_z_11_s3.txt\", \"r\")\n",
    "\n",
    "Space_AO_14_s3 = open(\"Space_Output_all_10^8_z_14_s3.txt\", \"r\")\n",
    "Space_O_14_s3 = open(\"Space_Output_10^8_z_14_s3.txt\", \"r\")\n",
    "Space_T_14_s3 = open(\"Space_Output_time_10^8_z_14_s3.txt\", \"r\")\n",
    "Space_M_14_s3 = open(\"Space_Output_memory_10^8_z_14_s3.txt\", \"r\")\n",
    "Space_Max_14_s3 = open(\"Space_Output_max_10^8_z_14_s3.txt\", \"r\")\n",
    "\n",
    "Space_AO_17_s3 = open(\"Space_Output_all_10^8_z_17_s3.txt\", \"r\")\n",
    "Space_O_17_s3 = open(\"Space_Output_10^8_z_17_s3.txt\", \"r\")\n",
    "Space_T_17_s3 = open(\"Space_Output_time_10^8_z_17_s3.txt\", \"r\")\n",
    "Space_M_17_s3 = open(\"Space_Output_memory_10^8_z_17_s3.txt\", \"r\")\n",
    "Space_Max_17_s3 = open(\"Space_Output_max_10^8_z_17_s3.txt\", \"r\")\n",
    "\n",
    "Space_AO_20_s3 = open(\"Space_Output_all_10^8_z_20_s3.txt\", \"r\")\n",
    "Space_O_20_s3 = open(\"Space_Output_10^8_z_20_s3.txt\", \"r\")\n",
    "Space_T_20_s3 = open(\"Space_Output_time_10^8_z_20_s3.txt\", \"r\")\n",
    "Space_M_20_s3 = open(\"Space_Output_memory_10^8_z_20_s3.txt\", \"r\")\n",
    "Space_Max_20_s3 = open(\"Space_Output_max_10^8_z_20_s3.txt\", \"r\")"
   ]
  },
  {
   "cell_type": "code",
   "execution_count": 208,
   "metadata": {},
   "outputs": [],
   "source": [
    "Space_AO_11_s4 = open(\"Space_Output_all_10^8_z_11_s4.txt\", \"r\")\n",
    "Space_O_11_s4 = open(\"Space_Output_10^8_z_11_s4.txt\", \"r\")\n",
    "Space_T_11_s4 = open(\"Space_Output_time_10^8_z_11_s4.txt\", \"r\")\n",
    "Space_M_11_s4 = open(\"Space_Output_memory_10^8_z_11_s4.txt\", \"r\")\n",
    "Space_Max_11_s4 = open(\"Space_Output_max_10^8_z_11_s4.txt\", \"r\")\n",
    "\n",
    "Space_AO_14_s4 = open(\"Space_Output_all_10^8_z_14_s4.txt\", \"r\")\n",
    "Space_O_14_s4 = open(\"Space_Output_10^8_z_14_s4.txt\", \"r\")\n",
    "Space_T_14_s4 = open(\"Space_Output_time_10^8_z_14_s4.txt\", \"r\")\n",
    "Space_M_14_s4 = open(\"Space_Output_memory_10^8_z_14_s4.txt\", \"r\")\n",
    "Space_Max_14_s4 = open(\"Space_Output_max_10^8_z_14_s4.txt\", \"r\")\n",
    "\n",
    "Space_AO_17_s4 = open(\"Space_Output_all_10^8_z_17_s4.txt\", \"r\")\n",
    "Space_O_17_s4 = open(\"Space_Output_10^8_z_17_s4.txt\", \"r\")\n",
    "Space_T_17_s4 = open(\"Space_Output_time_10^8_z_17_s4.txt\", \"r\")\n",
    "Space_M_17_s4 = open(\"Space_Output_memory_10^8_z_17_s4.txt\", \"r\")\n",
    "Space_Max_17_s4 = open(\"Space_Output_max_10^8_z_17_s4.txt\", \"r\")\n",
    "\n",
    "Space_AO_20_s4 = open(\"Space_Output_all_10^8_z_20_s4.txt\", \"r\")\n",
    "Space_O_20_s4 = open(\"Space_Output_10^8_z_20_s4.txt\", \"r\")\n",
    "Space_T_20_s4 = open(\"Space_Output_time_10^8_z_20_s4.txt\", \"r\")\n",
    "Space_M_20_s4 = open(\"Space_Output_memory_10^8_z_20_s4.txt\", \"r\")\n",
    "Space_Max_20_s4 = open(\"Space_Output_max_10^8_z_20_s4.txt\", \"r\")"
   ]
  },
  {
   "cell_type": "code",
   "execution_count": 209,
   "metadata": {},
   "outputs": [],
   "source": [
    "Space_AO_11_s5 = open(\"Space_Output_all_10^8_z_11_s5.txt\", \"r\")\n",
    "Space_O_11_s5 = open(\"Space_Output_10^8_z_11_s5.txt\", \"r\")\n",
    "Space_T_11_s5 = open(\"Space_Output_time_10^8_z_11_s5.txt\", \"r\")\n",
    "Space_M_11_s5 = open(\"Space_Output_memory_10^8_z_11_s5.txt\", \"r\")\n",
    "Space_Max_11_s5 = open(\"Space_Output_max_10^8_z_11_s5.txt\", \"r\")\n",
    "\n",
    "Space_AO_14_s5 = open(\"Space_Output_all_10^8_z_14_s5.txt\", \"r\")\n",
    "Space_O_14_s5 = open(\"Space_Output_10^8_z_14_s5.txt\", \"r\")\n",
    "Space_T_14_s5 = open(\"Space_Output_time_10^8_z_14_s5.txt\", \"r\")\n",
    "Space_M_14_s5 = open(\"Space_Output_memory_10^8_z_14_s5.txt\", \"r\")\n",
    "Space_Max_14_s5 = open(\"Space_Output_max_10^8_z_14_s5.txt\", \"r\")\n",
    "\n",
    "Space_AO_17_s5 = open(\"Space_Output_all_10^8_z_17_s5.txt\", \"r\")\n",
    "Space_O_17_s5 = open(\"Space_Output_10^8_z_17_s5.txt\", \"r\")\n",
    "Space_T_17_s5 = open(\"Space_Output_time_10^8_z_17_s5.txt\", \"r\")\n",
    "Space_M_17_s5 = open(\"Space_Output_memory_10^8_z_17_s5.txt\", \"r\")\n",
    "Space_Max_17_s5 = open(\"Space_Output_max_10^8_z_17_s5.txt\", \"r\")\n",
    "\n",
    "Space_AO_20_s5 = open(\"Space_Output_all_10^8_z_20_s5.txt\", \"r\")\n",
    "Space_O_20_s5 = open(\"Space_Output_10^8_z_20_s5.txt\", \"r\")\n",
    "Space_T_20_s5 = open(\"Space_Output_time_10^8_z_20_s5.txt\", \"r\")\n",
    "Space_M_20_s5 = open(\"Space_Output_memory_10^8_z_20_s5.txt\", \"r\")\n",
    "Space_Max_20_s5 = open(\"Space_Output_max_10^8_z_20_s5.txt\", \"r\")"
   ]
  },
  {
   "cell_type": "code",
   "execution_count": 210,
   "metadata": {},
   "outputs": [],
   "source": [
    "Z_11_time = [Space_T_11_s1, Space_T_11_s2, Space_T_11_s3, Space_T_11_s4, Space_T_11_s5]\n",
    "Z_14_time = [Space_T_14_s1, Space_T_14_s2, Space_T_14_s3, Space_T_14_s4, Space_T_14_s5]\n",
    "Z_17_time = [Space_T_17_s1, Space_T_17_s2, Space_T_17_s3, Space_T_17_s4, Space_T_17_s5]\n",
    "Z_20_time = [Space_T_20_s1, Space_T_20_s2, Space_T_20_s3, Space_T_20_s4, Space_T_20_s5]\n",
    "\n",
    "Z_11_memory = [Space_M_11_s1, Space_M_11_s2, Space_M_11_s3, Space_M_11_s4, Space_M_11_s5]\n",
    "Z_14_memory = [Space_M_14_s1, Space_M_14_s2, Space_M_14_s3, Space_M_14_s4, Space_M_14_s5]\n",
    "Z_17_memory = [Space_M_17_s1, Space_M_17_s2, Space_M_17_s3, Space_M_17_s4, Space_M_17_s5]\n",
    "Z_20_memory = [Space_M_20_s1, Space_M_20_s2, Space_M_20_s3, Space_M_20_s4, Space_M_20_s5]\n",
    "\n",
    "Z_11_max= [Space_Max_11_s1, Space_Max_11_s2, Space_Max_11_s3, Space_Max_11_s4, Space_Max_11_s5]\n",
    "Z_14_max = [Space_Max_14_s1, Space_Max_14_s2, Space_Max_14_s3, Space_Max_14_s4, Space_Max_14_s5]\n",
    "Z_17_max = [Space_Max_17_s1, Space_Max_17_s2, Space_Max_17_s3, Space_Max_17_s4, Space_Max_17_s5]\n",
    "Z_20_max = [Space_Max_20_s1, Space_Max_20_s2, Space_Max_20_s3, Space_Max_20_s4, Space_Max_20_s5]"
   ]
  },
  {
   "cell_type": "code",
   "execution_count": 211,
   "metadata": {},
   "outputs": [],
   "source": [
    "def get_memory(time_list):\n",
    "    all_time = []\n",
    "    \n",
    "    for time in time_list:\n",
    "        for output in time:\n",
    "            all_time.append(int(output.rstrip(\"\\n\"))/1000) # kb\n",
    "    return all_time"
   ]
  },
  {
   "cell_type": "code",
   "execution_count": 212,
   "metadata": {},
   "outputs": [],
   "source": [
    "Z_11_memory_result = get_memory(Z_11_memory)\n",
    "Z_14_memory_result = get_memory(Z_14_memory)\n",
    "Z_17_memory_result = get_memory(Z_17_memory)\n",
    "Z_20_memory_result = get_memory(Z_20_memory)"
   ]
  },
  {
   "cell_type": "code",
   "execution_count": 213,
   "metadata": {},
   "outputs": [
    {
     "data": {
      "text/plain": [
       "[1023.808, 1030.864, 1100.592, 1804.976, 10316.568]"
      ]
     },
     "execution_count": 213,
     "metadata": {},
     "output_type": "execute_result"
    }
   ],
   "source": [
    "Z_11_memory_result"
   ]
  },
  {
   "cell_type": "code",
   "execution_count": 214,
   "metadata": {},
   "outputs": [
    {
     "data": {
      "text/plain": [
       "[1023.664, 1030.048, 1100.352, 1805.584, 8832.584]"
      ]
     },
     "execution_count": 214,
     "metadata": {},
     "output_type": "execute_result"
    }
   ],
   "source": [
    "Z_14_memory_result"
   ]
  },
  {
   "cell_type": "code",
   "execution_count": 215,
   "metadata": {},
   "outputs": [
    {
     "data": {
      "text/plain": [
       "[1023.664, 1029.616, 1100.448, 1676.464, 6104.232]"
      ]
     },
     "execution_count": 215,
     "metadata": {},
     "output_type": "execute_result"
    }
   ],
   "source": [
    "Z_17_memory_result"
   ]
  },
  {
   "cell_type": "code",
   "execution_count": 216,
   "metadata": {},
   "outputs": [
    {
     "data": {
      "text/plain": [
       "[1023.64, 1029.624, 1100.352, 1656.72, 1928.144]"
      ]
     },
     "execution_count": 216,
     "metadata": {},
     "output_type": "execute_result"
    }
   ],
   "source": [
    "Z_20_memory_result"
   ]
  },
  {
   "cell_type": "code",
   "execution_count": 87,
   "metadata": {},
   "outputs": [],
   "source": [
    "all_s_memory_result_list = [Z_11_memory_result, Z_14_memory_result, Z_17_memory_result, Z_20_memory_result]\n",
    "s1_memory_result_list = []\n",
    "s2_memory_result_list = []\n",
    "s3_memory_result_list = []\n",
    "s4_memory_result_list = []\n",
    "s5_memory_result_list = []\n",
    "\n",
    "for s_list in all_s_memory_result_list:\n",
    "    s1_memory_result_list.append(s_list[0])\n",
    "    s2_memory_result_list.append(s_list[1])\n",
    "    s3_memory_result_list.append(s_list[2])\n",
    "    s4_memory_result_list.append(s_list[3])\n",
    "    s5_memory_result_list.append(s_list[4])"
   ]
  },
  {
   "cell_type": "code",
   "execution_count": 88,
   "metadata": {},
   "outputs": [
    {
     "data": {
      "text/plain": [
       "[1023.808, 1023.664, 1023.664, 1023.64]"
      ]
     },
     "execution_count": 88,
     "metadata": {},
     "output_type": "execute_result"
    }
   ],
   "source": [
    "s1_memory_result_list"
   ]
  },
  {
   "cell_type": "code",
   "execution_count": 89,
   "metadata": {},
   "outputs": [
    {
     "data": {
      "text/plain": [
       "[1030.864, 1030.048, 1029.616, 1029.624]"
      ]
     },
     "execution_count": 89,
     "metadata": {},
     "output_type": "execute_result"
    }
   ],
   "source": [
    "s2_memory_result_list"
   ]
  },
  {
   "cell_type": "code",
   "execution_count": 90,
   "metadata": {},
   "outputs": [
    {
     "data": {
      "text/plain": [
       "[1100.592, 1100.352, 1100.448, 1100.352]"
      ]
     },
     "execution_count": 90,
     "metadata": {},
     "output_type": "execute_result"
    }
   ],
   "source": [
    "s3_memory_result_list"
   ]
  },
  {
   "cell_type": "code",
   "execution_count": 91,
   "metadata": {},
   "outputs": [
    {
     "data": {
      "text/plain": [
       "[1804.976, 1805.584, 1676.464, 1656.72]"
      ]
     },
     "execution_count": 91,
     "metadata": {},
     "output_type": "execute_result"
    }
   ],
   "source": [
    "s4_memory_result_list"
   ]
  },
  {
   "cell_type": "code",
   "execution_count": 92,
   "metadata": {},
   "outputs": [
    {
     "data": {
      "text/plain": [
       "[10316.568, 8832.584, 6104.232, 1928.144]"
      ]
     },
     "execution_count": 92,
     "metadata": {},
     "output_type": "execute_result"
    }
   ],
   "source": [
    "s5_memory_result_list"
   ]
  },
  {
   "cell_type": "code",
   "execution_count": 93,
   "metadata": {},
   "outputs": [],
   "source": [
    "def get_time(time_list):\n",
    "    all_time = []\n",
    "    \n",
    "    for time in time_list:\n",
    "        for output in time:\n",
    "            all_time.append(int(output.rstrip(\"\\n\"))/1000000000) # second\n",
    "    return all_time"
   ]
  },
  {
   "cell_type": "code",
   "execution_count": 94,
   "metadata": {},
   "outputs": [],
   "source": [
    "Z_11_time_result = get_time(Z_11_time)\n",
    "Z_14_time_result = get_time(Z_14_time)\n",
    "Z_17_time_result = get_time(Z_17_time)\n",
    "Z_20_time_result = get_time(Z_20_time)"
   ]
  },
  {
   "cell_type": "code",
   "execution_count": 95,
   "metadata": {},
   "outputs": [
    {
     "data": {
      "text/plain": [
       "[357.018546596,\n",
       " 364.872559633,\n",
       " 1075.185069189,\n",
       " 13691.275138872,\n",
       " 212822.056480694]"
      ]
     },
     "execution_count": 95,
     "metadata": {},
     "output_type": "execute_result"
    }
   ],
   "source": [
    "Z_11_time_result"
   ]
  },
  {
   "cell_type": "code",
   "execution_count": 96,
   "metadata": {},
   "outputs": [
    {
     "data": {
      "text/plain": [
       "[180.835494488, 94.203681796, 87.30294484, 898.615902494, 4096.863879777]"
      ]
     },
     "execution_count": 96,
     "metadata": {},
     "output_type": "execute_result"
    }
   ],
   "source": [
    "Z_14_time_result"
   ]
  },
  {
   "cell_type": "code",
   "execution_count": 97,
   "metadata": {},
   "outputs": [
    {
     "data": {
      "text/plain": [
       "[92.694913261, 25.302058048, 15.588743947, 45.305462054, 6.587837228]"
      ]
     },
     "execution_count": 97,
     "metadata": {},
     "output_type": "execute_result"
    }
   ],
   "source": [
    "Z_17_time_result"
   ]
  },
  {
   "cell_type": "code",
   "execution_count": 98,
   "metadata": {},
   "outputs": [
    {
     "data": {
      "text/plain": [
       "[39.245047387, 8.990419612, 6.654463339, 6.639759983, 4.80706928]"
      ]
     },
     "execution_count": 98,
     "metadata": {},
     "output_type": "execute_result"
    }
   ],
   "source": [
    "Z_20_time_result"
   ]
  },
  {
   "cell_type": "code",
   "execution_count": 100,
   "metadata": {},
   "outputs": [],
   "source": [
    "all_s_time_result_list = [Z_11_time_result, Z_14_time_result, Z_17_time_result, Z_20_time_result]\n",
    "s1_time_result_list = []\n",
    "s2_time_result_list = []\n",
    "s3_time_result_list = []\n",
    "s4_time_result_list = []\n",
    "s5_time_result_list = []\n",
    "\n",
    "for s_list in all_s_time_result_list:\n",
    "    s1_time_result_list.append(s_list[0])\n",
    "    s2_time_result_list.append(s_list[1])\n",
    "    s3_time_result_list.append(s_list[2])\n",
    "    s4_time_result_list.append(s_list[3])\n",
    "    s5_time_result_list.append(s_list[4])"
   ]
  },
  {
   "cell_type": "code",
   "execution_count": 101,
   "metadata": {},
   "outputs": [
    {
     "data": {
      "text/plain": [
       "[357.018546596, 180.835494488, 92.694913261, 39.245047387]"
      ]
     },
     "execution_count": 101,
     "metadata": {},
     "output_type": "execute_result"
    }
   ],
   "source": [
    "s1_time_result_list"
   ]
  },
  {
   "cell_type": "code",
   "execution_count": 102,
   "metadata": {},
   "outputs": [
    {
     "data": {
      "text/plain": [
       "[364.872559633, 94.203681796, 25.302058048, 8.990419612]"
      ]
     },
     "execution_count": 102,
     "metadata": {},
     "output_type": "execute_result"
    }
   ],
   "source": [
    "s2_time_result_list"
   ]
  },
  {
   "cell_type": "code",
   "execution_count": 103,
   "metadata": {},
   "outputs": [
    {
     "data": {
      "text/plain": [
       "[1075.185069189, 87.30294484, 15.588743947, 6.654463339]"
      ]
     },
     "execution_count": 103,
     "metadata": {},
     "output_type": "execute_result"
    }
   ],
   "source": [
    "s3_time_result_list"
   ]
  },
  {
   "cell_type": "code",
   "execution_count": 104,
   "metadata": {},
   "outputs": [
    {
     "data": {
      "text/plain": [
       "[13691.275138872, 898.615902494, 45.305462054, 6.639759983]"
      ]
     },
     "execution_count": 104,
     "metadata": {},
     "output_type": "execute_result"
    }
   ],
   "source": [
    "s4_time_result_list"
   ]
  },
  {
   "cell_type": "code",
   "execution_count": 105,
   "metadata": {},
   "outputs": [
    {
     "data": {
      "text/plain": [
       "[212822.056480694, 4096.863879777, 6.587837228, 4.80706928]"
      ]
     },
     "execution_count": 105,
     "metadata": {},
     "output_type": "execute_result"
    }
   ],
   "source": [
    "s5_time_result_list"
   ]
  },
  {
   "cell_type": "code",
   "execution_count": 106,
   "metadata": {},
   "outputs": [],
   "source": [
    "def get_max_tracked(max_list):\n",
    "    all_max = []\n",
    "    \n",
    "    for max_i in max_list:\n",
    "        for output in max_i:\n",
    "            all_max.append(int(output.rstrip(\"\\n\")))\n",
    "    return all_max"
   ]
  },
  {
   "cell_type": "code",
   "execution_count": 107,
   "metadata": {},
   "outputs": [],
   "source": [
    "Z_11_max_result = get_max_tracked(Z_11_max)\n",
    "Z_14_max_result = get_max_tracked(Z_14_max)\n",
    "Z_17_max_result = get_max_tracked(Z_17_max)\n",
    "Z_20_max_result = get_max_tracked(Z_20_max)"
   ]
  },
  {
   "cell_type": "code",
   "execution_count": 108,
   "metadata": {},
   "outputs": [
    {
     "data": {
      "text/plain": [
       "[10, 100, 1000, 10000, 100000]"
      ]
     },
     "execution_count": 108,
     "metadata": {},
     "output_type": "execute_result"
    }
   ],
   "source": [
    "Z_11_max_result"
   ]
  },
  {
   "cell_type": "code",
   "execution_count": 109,
   "metadata": {},
   "outputs": [
    {
     "data": {
      "text/plain": [
       "[10, 100, 1000, 10000, 100000]"
      ]
     },
     "execution_count": 109,
     "metadata": {},
     "output_type": "execute_result"
    }
   ],
   "source": [
    "Z_14_max_result"
   ]
  },
  {
   "cell_type": "code",
   "execution_count": 110,
   "metadata": {},
   "outputs": [
    {
     "data": {
      "text/plain": [
       "[10, 100, 1000, 10000, 71524]"
      ]
     },
     "execution_count": 110,
     "metadata": {},
     "output_type": "execute_result"
    }
   ],
   "source": [
    "Z_17_max_result"
   ]
  },
  {
   "cell_type": "code",
   "execution_count": 111,
   "metadata": {},
   "outputs": [
    {
     "data": {
      "text/plain": [
       "[10, 100, 1000, 10000, 13687]"
      ]
     },
     "execution_count": 111,
     "metadata": {},
     "output_type": "execute_result"
    }
   ],
   "source": [
    "Z_20_max_result"
   ]
  },
  {
   "cell_type": "code",
   "execution_count": 113,
   "metadata": {},
   "outputs": [],
   "source": [
    "all_s_max_result_list = [Z_11_max_result, Z_14_max_result, Z_17_max_result, Z_20_max_result]\n",
    "s1_max_result_list = []\n",
    "s2_max_result_list = []\n",
    "s3_max_result_list = []\n",
    "s4_max_result_list = []\n",
    "s5_max_result_list = []\n",
    "\n",
    "for s_list in all_s_max_result_list:\n",
    "    s1_max_result_list.append(s_list[0])\n",
    "    s2_max_result_list.append(s_list[1])\n",
    "    s3_max_result_list.append(s_list[2])\n",
    "    s4_max_result_list.append(s_list[3])\n",
    "    s5_max_result_list.append(s_list[4])"
   ]
  },
  {
   "cell_type": "code",
   "execution_count": 114,
   "metadata": {},
   "outputs": [
    {
     "data": {
      "text/plain": [
       "[10, 10, 10, 10]"
      ]
     },
     "execution_count": 114,
     "metadata": {},
     "output_type": "execute_result"
    }
   ],
   "source": [
    "s1_max_result_list"
   ]
  },
  {
   "cell_type": "code",
   "execution_count": 115,
   "metadata": {},
   "outputs": [
    {
     "data": {
      "text/plain": [
       "[100, 100, 100, 100]"
      ]
     },
     "execution_count": 115,
     "metadata": {},
     "output_type": "execute_result"
    }
   ],
   "source": [
    "s2_max_result_list"
   ]
  },
  {
   "cell_type": "code",
   "execution_count": 116,
   "metadata": {},
   "outputs": [
    {
     "data": {
      "text/plain": [
       "[1000, 1000, 1000, 1000]"
      ]
     },
     "execution_count": 116,
     "metadata": {},
     "output_type": "execute_result"
    }
   ],
   "source": [
    "s3_max_result_list"
   ]
  },
  {
   "cell_type": "code",
   "execution_count": 117,
   "metadata": {},
   "outputs": [
    {
     "data": {
      "text/plain": [
       "[10000, 10000, 10000, 10000]"
      ]
     },
     "execution_count": 117,
     "metadata": {},
     "output_type": "execute_result"
    }
   ],
   "source": [
    "s4_max_result_list"
   ]
  },
  {
   "cell_type": "code",
   "execution_count": 118,
   "metadata": {},
   "outputs": [
    {
     "data": {
      "text/plain": [
       "[100000, 100000, 71524, 13687]"
      ]
     },
     "execution_count": 118,
     "metadata": {},
     "output_type": "execute_result"
    }
   ],
   "source": [
    "s5_max_result_list"
   ]
  },
  {
   "cell_type": "code",
   "execution_count": 119,
   "metadata": {},
   "outputs": [],
   "source": [
    "def get_item_freq(s):\n",
    "    item_freq = {}\n",
    "    for item in s:\n",
    "        if item in item_freq:\n",
    "            item_freq[item] += 1\n",
    "        else:\n",
    "            item_freq[item] = 1\n",
    "    \n",
    "    return item_freq\n",
    "\n",
    "def get_at_least_percent_items(item_freq, num_data, percent):\n",
    "    at_least_percent_items = []\n",
    "    at_least_percent_items_values = []\n",
    "    \n",
    "    \n",
    "    sorted_item_freq = sorted(item_freq.items(),key=lambda x: x[1], reverse=True)\n",
    "    \n",
    "    for item_freq in sorted_item_freq:\n",
    "        if item_freq[1] >= num_data*percent:\n",
    "            at_least_percent_items.append(item_freq[0])\n",
    "            at_least_percent_items_values.append(item_freq[1])\n",
    "        else:\n",
    "            break\n",
    "\n",
    "    return (at_least_percent_items, at_least_percent_items_values)\n",
    "\n",
    "def find_real_heavy_hitter(filename, num_data, percent):\n",
    "    \n",
    "    s = []\n",
    "    for output in filename:\n",
    "        s.append(int(output.rstrip(\"\\n\")))\n",
    "        \n",
    "    item_freq = get_item_freq(s)\n",
    "    \n",
    "    at_least_percent_items_set = get_at_least_percent_items(item_freq, num_data, percent)\n",
    "    \n",
    "    print(filename)\n",
    "    print(at_least_percent_items_set[0])\n",
    "    print(at_least_percent_items_set[1])\n",
    "    print(\"_______________________________________________________________________________________________________\")\n",
    "        \n",
    "    return at_least_percent_items_set\n",
    "        \n",
    "    "
   ]
  },
  {
   "cell_type": "code",
   "execution_count": 120,
   "metadata": {},
   "outputs": [],
   "source": [
    "num_data = 100000000"
   ]
  },
  {
   "cell_type": "code",
   "execution_count": 121,
   "metadata": {},
   "outputs": [],
   "source": [
    "Z_11 = open(\"10^8_z_11.txt\", \"r\")\n",
    "Z_14 = open(\"10^8_z_14.txt\", \"r\")\n",
    "Z_17 = open(\"10^8_z_17.txt\", \"r\")\n",
    "Z_20 = open(\"10^8_z_20.txt\", \"r\")"
   ]
  },
  {
   "cell_type": "code",
   "execution_count": 122,
   "metadata": {},
   "outputs": [
    {
     "name": "stdout",
     "output_type": "stream",
     "text": [
      "<_io.TextIOWrapper name='10^8_z_11.txt' mode='r' encoding='UTF-8'>\n",
      "[]\n",
      "[]\n",
      "_______________________________________________________________________________________________________\n",
      "<_io.TextIOWrapper name='10^8_z_14.txt' mode='r' encoding='UTF-8'>\n",
      "[1, 2]\n",
      "[32206349, 12206257]\n",
      "_______________________________________________________________________________________________________\n",
      "<_io.TextIOWrapper name='10^8_z_17.txt' mode='r' encoding='UTF-8'>\n",
      "[1, 2]\n",
      "[48675018, 14983674]\n",
      "_______________________________________________________________________________________________________\n",
      "<_io.TextIOWrapper name='10^8_z_20.txt' mode='r' encoding='UTF-8'>\n",
      "[1, 2]\n",
      "[60789065, 15200361]\n",
      "_______________________________________________________________________________________________________\n"
     ]
    }
   ],
   "source": [
    "percent = 0.1\n",
    "real_heavy_hitter_11_s1 = find_real_heavy_hitter(Z_11, num_data, percent)\n",
    "real_heavy_hitter_14_s1 = find_real_heavy_hitter(Z_14, num_data, percent)\n",
    "real_heavy_hitter_17_s1 = find_real_heavy_hitter(Z_17, num_data, percent)\n",
    "real_heavy_hitter_20_s1 = find_real_heavy_hitter(Z_20, num_data, percent)"
   ]
  },
  {
   "cell_type": "code",
   "execution_count": 123,
   "metadata": {},
   "outputs": [],
   "source": [
    "Z_11 = open(\"10^8_z_11.txt\", \"r\")\n",
    "Z_14 = open(\"10^8_z_14.txt\", \"r\")\n",
    "Z_17 = open(\"10^8_z_17.txt\", \"r\")\n",
    "Z_20 = open(\"10^8_z_20.txt\", \"r\")"
   ]
  },
  {
   "cell_type": "code",
   "execution_count": 124,
   "metadata": {},
   "outputs": [
    {
     "name": "stdout",
     "output_type": "stream",
     "text": [
      "<_io.TextIOWrapper name='10^8_z_11.txt' mode='r' encoding='UTF-8'>\n",
      "[1, 2, 3, 4, 5, 6, 7]\n",
      "[9472468, 4422755, 2834239, 2063295, 1613111, 1322278, 1115002]\n",
      "_______________________________________________________________________________________________________\n",
      "<_io.TextIOWrapper name='10^8_z_14.txt' mode='r' encoding='UTF-8'>\n",
      "[1, 2, 3, 4, 5, 6, 7, 8, 9, 10, 11]\n",
      "[32206349, 12206257, 6919123, 4619932, 3382019, 2620927, 2111860, 1751968, 1484928, 1282038, 1120691]\n",
      "_______________________________________________________________________________________________________\n",
      "<_io.TextIOWrapper name='10^8_z_17.txt' mode='r' encoding='UTF-8'>\n",
      "[1, 2, 3, 4, 5, 6, 7, 8, 9]\n",
      "[48675018, 14983674, 7516540, 4612182, 3156691, 2314469, 1780683, 1418702, 1163566]\n",
      "_______________________________________________________________________________________________________\n",
      "<_io.TextIOWrapper name='10^8_z_20.txt' mode='r' encoding='UTF-8'>\n",
      "[1, 2, 3, 4, 5, 6, 7]\n",
      "[60789065, 15200361, 6755060, 3796533, 2430400, 1688135, 1242311]\n",
      "_______________________________________________________________________________________________________\n"
     ]
    }
   ],
   "source": [
    "percent = 0.01\n",
    "real_heavy_hitter_11_s2 = find_real_heavy_hitter(Z_11, num_data, percent)\n",
    "real_heavy_hitter_14_s2 = find_real_heavy_hitter(Z_14, num_data, percent)\n",
    "real_heavy_hitter_17_s2 = find_real_heavy_hitter(Z_17, num_data, percent)\n",
    "real_heavy_hitter_20_s2 = find_real_heavy_hitter(Z_20, num_data, percent)"
   ]
  },
  {
   "cell_type": "code",
   "execution_count": 125,
   "metadata": {},
   "outputs": [],
   "source": [
    "Z_11 = open(\"10^8_z_11.txt\", \"r\")\n",
    "Z_14 = open(\"10^8_z_14.txt\", \"r\")\n",
    "Z_17 = open(\"10^8_z_17.txt\", \"r\")\n",
    "Z_20 = open(\"10^8_z_20.txt\", \"r\")"
   ]
  },
  {
   "cell_type": "code",
   "execution_count": 126,
   "metadata": {},
   "outputs": [
    {
     "name": "stdout",
     "output_type": "stream",
     "text": [
      "<_io.TextIOWrapper name='10^8_z_11.txt' mode='r' encoding='UTF-8'>\n",
      "[1, 2, 3, 4, 5, 6, 7, 8, 9, 10, 11, 12, 13, 14, 15, 16, 17, 18, 19, 20, 21, 22, 23, 24, 25, 26, 27, 28, 29, 30, 31, 32, 33, 34, 35, 36, 37, 38, 39, 40, 41, 42, 43, 44, 45, 46, 47, 48, 49, 50, 51, 52, 53, 54, 55, 56, 57, 58, 59, 60, 61, 62]\n",
      "[9472468, 4422755, 2834239, 2063295, 1613111, 1322278, 1115002, 964493, 844829, 753434, 677623, 617095, 565062, 520915, 482338, 449252, 419245, 395035, 371497, 352336, 332829, 317296, 300732, 287790, 275768, 262923, 252660, 242201, 233583, 224616, 216584, 209649, 202339, 196635, 190662, 184433, 178540, 173574, 168328, 164359, 159939, 155149, 151209, 147873, 144268, 140662, 136877, 134363, 130771, 127940, 125523, 122635, 120666, 117700, 115741, 112905, 110617, 108971, 106531, 104589, 102925, 101187]\n",
      "_______________________________________________________________________________________________________\n",
      "<_io.TextIOWrapper name='10^8_z_14.txt' mode='r' encoding='UTF-8'>\n",
      "[1, 2, 3, 4, 5, 6, 7, 8, 9, 10, 11, 12, 13, 14, 15, 16, 17, 18, 19, 20, 21, 22, 23, 24, 25, 26, 27, 28, 29, 30, 31, 32, 33, 34, 35, 36, 37, 38, 39, 40, 41, 42, 43, 44, 45, 46, 47, 48, 49, 50, 51, 52, 53, 54, 55, 56, 57, 58, 59, 60, 61]\n",
      "[32206349, 12206257, 6919123, 4619932, 3382019, 2620927, 2111860, 1751968, 1484928, 1282038, 1120691, 993768, 886212, 799160, 726744, 662285, 609153, 563203, 521051, 486226, 453773, 424295, 400014, 376553, 354840, 336629, 319359, 303158, 289378, 274388, 264245, 251866, 241184, 231051, 221834, 212605, 205864, 197766, 191012, 183777, 177819, 172502, 165931, 160769, 156257, 150914, 146721, 142064, 138543, 134588, 130605, 127045, 123832, 120981, 117701, 115153, 112304, 109250, 106921, 103883, 102141]\n",
      "_______________________________________________________________________________________________________\n",
      "<_io.TextIOWrapper name='10^8_z_17.txt' mode='r' encoding='UTF-8'>\n",
      "[1, 2, 3, 4, 5, 6, 7, 8, 9, 10, 11, 12, 13, 14, 15, 16, 17, 18, 19, 20, 21, 22, 23, 24, 25, 26, 27, 28, 29, 30, 31, 32, 33, 34, 35, 36, 37, 38]\n",
      "[48675018, 14983674, 7516540, 4612182, 3156691, 2314469, 1780683, 1418702, 1163566, 973375, 826086, 712852, 621705, 548736, 487524, 437997, 392482, 358198, 325397, 299177, 274935, 253565, 235511, 219511, 204820, 192432, 178926, 169380, 160184, 150371, 141617, 135111, 128243, 120996, 115387, 110759, 104969, 100272]\n",
      "_______________________________________________________________________________________________________\n",
      "<_io.TextIOWrapper name='10^8_z_20.txt' mode='r' encoding='UTF-8'>\n",
      "[1, 2, 3, 4, 5, 6, 7, 8, 9, 10, 11, 12, 13, 14, 15, 16, 17, 18, 19, 20, 21, 22, 23, 24]\n",
      "[60789065, 15200361, 6755060, 3796533, 2430400, 1688135, 1242311, 950505, 751103, 608129, 502371, 423332, 361217, 310596, 270076, 237268, 210496, 187388, 168748, 152282, 138145, 125395, 114784, 105498]\n",
      "_______________________________________________________________________________________________________\n"
     ]
    }
   ],
   "source": [
    "percent = 0.001\n",
    "real_heavy_hitter_11_s3 = find_real_heavy_hitter(Z_11, num_data, percent)\n",
    "real_heavy_hitter_14_s3 = find_real_heavy_hitter(Z_14, num_data, percent)\n",
    "real_heavy_hitter_17_s3 = find_real_heavy_hitter(Z_17, num_data, percent)\n",
    "real_heavy_hitter_20_s3 = find_real_heavy_hitter(Z_20, num_data, percent)"
   ]
  },
  {
   "cell_type": "code",
   "execution_count": 127,
   "metadata": {},
   "outputs": [],
   "source": [
    "Z_11 = open(\"10^8_z_11.txt\", \"r\")\n",
    "Z_14 = open(\"10^8_z_14.txt\", \"r\")\n",
    "Z_17 = open(\"10^8_z_17.txt\", \"r\")\n",
    "Z_20 = open(\"10^8_z_20.txt\", \"r\")"
   ]
  },
  {
   "cell_type": "code",
   "execution_count": 128,
   "metadata": {},
   "outputs": [
    {
     "name": "stdout",
     "output_type": "stream",
     "text": [
      "<_io.TextIOWrapper name='10^8_z_11.txt' mode='r' encoding='UTF-8'>\n",
      "[1, 2, 3, 4, 5, 6, 7, 8, 9, 10, 11, 12, 13, 14, 15, 16, 17, 18, 19, 20, 21, 22, 23, 24, 25, 26, 27, 28, 29, 30, 31, 32, 33, 34, 35, 36, 37, 38, 39, 40, 41, 42, 43, 44, 45, 46, 47, 48, 49, 50, 51, 52, 53, 54, 55, 56, 57, 58, 59, 60, 61, 62, 63, 64, 65, 66, 67, 68, 69, 70, 71, 72, 73, 74, 75, 76, 77, 78, 79, 80, 81, 82, 83, 84, 85, 86, 87, 88, 89, 90, 91, 92, 93, 94, 95, 96, 97, 98, 99, 100, 101, 102, 103, 104, 105, 106, 107, 108, 109, 110, 111, 112, 113, 114, 115, 116, 117, 118, 119, 120, 121, 122, 123, 124, 125, 126, 127, 128, 129, 130, 131, 132, 133, 134, 135, 136, 137, 138, 140, 139, 142, 141, 143, 144, 145, 146, 147, 148, 149, 150, 151, 153, 152, 154, 155, 156, 157, 158, 159, 160, 161, 162, 163, 165, 164, 166, 167, 168, 169, 171, 170, 174, 173, 172, 175, 177, 176, 179, 178, 180, 181, 182, 183, 184, 186, 185, 187, 188, 189, 191, 190, 192, 193, 195, 194, 196, 197, 199, 198, 201, 200, 202, 204, 203, 205, 206, 207, 210, 209, 208, 211, 212, 215, 213, 217, 216, 214, 218, 219, 220, 222, 221, 224, 225, 223, 226, 227, 228, 229, 230, 233, 232, 231, 234, 237, 235, 236, 239, 240, 242, 238, 243, 241, 245, 244, 248, 246, 247, 252, 249, 251, 250, 253, 254, 256, 255, 260, 258, 257, 261, 262, 259, 264, 263, 265, 272, 267, 266, 269, 268, 270, 271, 273, 275, 278, 274, 276, 277, 279, 280, 281, 282, 283, 286, 285, 284, 287, 289, 288, 291, 290, 292, 295, 294, 296, 293, 298, 299, 297, 301, 300, 303, 305, 302, 304, 306, 310, 307, 308, 309, 312, 311, 317, 313, 314, 318, 315, 319, 316, 320, 322, 326, 323, 324, 321, 325, 328, 327, 329, 332, 333, 331, 336, 330, 334, 337, 338, 342, 335, 344, 340, 346, 341, 339, 345, 349, 343, 347, 348, 350, 354, 355, 353, 351, 356, 352, 357, 359, 362, 365, 364, 366, 358, 361, 363, 360, 368, 369, 371, 370, 367, 372, 375, 374, 377, 376, 378, 373, 383, 379, 380, 381, 382, 386, 385, 384, 391, 388, 387, 393, 390, 389, 394, 392, 397, 395, 403, 405, 396, 404, 399, 401, 402, 398, 400, 407, 406, 409, 415, 410, 416, 412, 413, 408, 411, 419, 414, 425, 417, 423, 418, 424, 420, 422, 426, 432, 433, 421, 427, 429, 430, 428, 439, 437, 436, 438, 431, 434, 440, 435, 443, 444, 442, 441, 446, 448, 447, 445, 449, 451, 453, 452, 450, 454, 456, 457, 458, 460, 459, 463, 461, 455, 465, 466, 467, 462, 468, 473, 464, 474, 472, 469, 476, 477, 479, 471, 475, 470, 478, 482, 480, 481, 483, 489, 486, 492, 498, 497, 487, 484, 499, 491, 494, 501, 493, 490, 488, 485, 500, 496, 495, 505, 511, 504, 510, 506, 502, 507]\n",
      "[9472468, 4422755, 2834239, 2063295, 1613111, 1322278, 1115002, 964493, 844829, 753434, 677623, 617095, 565062, 520915, 482338, 449252, 419245, 395035, 371497, 352336, 332829, 317296, 300732, 287790, 275768, 262923, 252660, 242201, 233583, 224616, 216584, 209649, 202339, 196635, 190662, 184433, 178540, 173574, 168328, 164359, 159939, 155149, 151209, 147873, 144268, 140662, 136877, 134363, 130771, 127940, 125523, 122635, 120666, 117700, 115741, 112905, 110617, 108971, 106531, 104589, 102925, 101187, 99238, 97869, 96012, 94612, 92670, 91637, 90375, 88492, 87182, 86375, 84635, 83249, 82325, 80626, 79534, 78374, 77249, 76625, 75345, 75049, 73320, 72668, 71334, 70794, 69776, 68829, 68097, 67654, 66222, 65718, 64913, 64134, 63612, 62831, 61927, 60936, 60562, 59958, 59132, 58518, 57864, 57634, 56748, 55904, 55174, 55098, 54423, 54055, 53311, 52804, 52288, 51563, 51219, 50827, 50646, 49970, 49485, 49368, 48741, 48437, 47594, 47379, 46666, 46413, 46284, 45507, 45458, 44599, 44577, 44269, 43479, 43336, 43054, 42527, 42000, 41626, 41293, 41234, 40883, 40729, 40320, 40070, 39474, 39415, 39251, 39023, 38480, 38076, 37995, 37606, 37507, 37390, 36733, 36370, 36286, 36283, 35950, 35892, 35431, 35095, 35018, 34561, 34454, 34265, 34199, 33838, 33452, 33331, 33192, 32984, 32937, 32524, 32319, 32115, 32039, 31837, 31836, 31252, 31047, 30938, 30887, 30534, 30489, 30307, 30246, 29948, 29756, 29627, 29338, 29310, 28830, 28782, 28766, 28562, 28450, 28374, 28117, 27675, 27571, 27558, 27542, 27462, 27314, 26774, 26772, 26604, 26600, 26478, 26372, 26090, 26064, 26012, 25746, 25701, 25605, 25552, 25173, 24969, 24919, 24888, 24622, 24549, 24531, 24369, 24272, 24115, 24111, 23882, 23812, 23778, 23742, 23459, 23259, 23173, 23145, 22954, 22935, 22898, 22801, 22737, 22714, 22503, 22209, 22024, 21980, 21852, 21830, 21783, 21771, 21574, 21518, 21455, 21263, 21251, 21065, 21040, 20974, 20909, 20897, 20830, 20680, 20600, 20537, 20245, 20232, 20196, 20163, 20110, 19950, 19918, 19824, 19788, 19652, 19613, 19518, 19492, 19437, 19342, 19317, 19191, 19127, 18972, 18957, 18943, 18896, 18821, 18463, 18438, 18431, 18254, 18230, 18224, 18206, 18135, 18014, 18000, 17882, 17820, 17817, 17717, 17626, 17549, 17532, 17423, 17340, 17323, 17296, 17216, 17120, 17082, 16992, 16963, 16953, 16900, 16804, 16718, 16667, 16571, 16559, 16475, 16463, 16443, 16328, 16239, 16226, 16169, 16118, 16012, 15971, 15940, 15917, 15891, 15798, 15741, 15684, 15670, 15666, 15598, 15593, 15458, 15454, 15387, 15288, 15286, 15274, 15225, 15125, 15010, 14972, 14944, 14914, 14870, 14811, 14804, 14672, 14648, 14628, 14603, 14598, 14580, 14576, 14559, 14545, 14419, 14326, 14255, 14249, 14217, 14195, 14152, 14150, 14081, 14041, 14029, 13900, 13890, 13800, 13792, 13752, 13729, 13632, 13607, 13595, 13545, 13543, 13475, 13471, 13446, 13394, 13378, 13328, 13187, 13166, 13162, 13006, 12968, 12960, 12918, 12912, 12911, 12904, 12857, 12830, 12779, 12769, 12667, 12656, 12654, 12637, 12633, 12633, 12610, 12503, 12475, 12423, 12384, 12333, 12276, 12255, 12243, 12177, 12162, 12143, 12140, 12140, 12111, 12019, 12004, 11928, 11917, 11886, 11873, 11868, 11861, 11851, 11848, 11837, 11793, 11750, 11727, 11692, 11667, 11647, 11627, 11524, 11522, 11494, 11460, 11413, 11399, 11350, 11344, 11325, 11299, 11264, 11247, 11206, 11185, 11182, 11174, 11167, 11150, 11055, 11012, 10932, 10918, 10881, 10879, 10875, 10859, 10836, 10774, 10760, 10724, 10716, 10714, 10671, 10627, 10610, 10593, 10577, 10551, 10499, 10460, 10450, 10437, 10379, 10377, 10374, 10355, 10352, 10346, 10337, 10317, 10313, 10296, 10276, 10254, 10226, 10207, 10196, 10099, 10088, 10058, 10056, 10029]\n",
      "_______________________________________________________________________________________________________\n",
      "<_io.TextIOWrapper name='10^8_z_14.txt' mode='r' encoding='UTF-8'>\n",
      "[1, 2, 3, 4, 5, 6, 7, 8, 9, 10, 11, 12, 13, 14, 15, 16, 17, 18, 19, 20, 21, 22, 23, 24, 25, 26, 27, 28, 29, 30, 31, 32, 33, 34, 35, 36, 37, 38, 39, 40, 41, 42, 43, 44, 45, 46, 47, 48, 49, 50, 51, 52, 53, 54, 55, 56, 57, 58, 59, 60, 61, 62, 63, 64, 65, 66, 67, 68, 69, 70, 71, 72, 73, 74, 75, 76, 77, 78, 79, 80, 81, 82, 83, 84, 85, 86, 87, 88, 89, 90, 91, 92, 93, 94, 95, 96, 97, 98, 99, 100, 101, 102, 103, 104, 105, 106, 107, 108, 109, 110, 111, 112, 113, 114, 115, 116, 117, 118, 119, 120, 121, 122, 123, 124, 125, 126, 127, 128, 129, 130, 131, 132, 133, 134, 135, 136, 137, 138, 139, 140, 141, 142, 143, 144, 145, 146, 147, 149, 148, 150, 151, 152, 154, 153, 155, 156, 157, 158, 159, 160, 161, 162, 163, 164, 165, 166, 167, 168, 169, 170, 171, 173, 172, 174, 175, 176, 177, 179, 178, 180, 182, 181, 183, 184, 185, 186, 188, 187, 189, 190, 191, 193, 192, 194, 195, 196, 197, 198, 199, 200, 201, 203, 202, 204, 205, 206, 207, 209, 208, 211, 210, 212, 213, 216, 215, 214, 218, 217, 221, 219, 220, 224, 223, 222, 225, 226, 227, 228, 229, 230, 231, 232, 235, 234, 233, 238, 236, 237, 240, 239, 244, 242, 243, 247, 241, 246, 245, 248, 250, 251, 252, 249, 253, 255, 254, 258, 256, 257, 261, 259, 262, 260, 264, 263, 265, 267, 271, 268, 266, 269, 270, 272, 276, 279, 278, 277, 273, 275, 274, 282, 281, 280, 283, 284, 285, 288, 286, 287, 293, 290, 289, 292, 294, 291, 295, 296, 299, 301, 297, 300, 298, 302, 303, 309, 306, 304, 305, 307, 308, 310, 311, 312, 313, 314, 316, 315, 318, 320, 317, 319]\n",
      "[32206349, 12206257, 6919123, 4619932, 3382019, 2620927, 2111860, 1751968, 1484928, 1282038, 1120691, 993768, 886212, 799160, 726744, 662285, 609153, 563203, 521051, 486226, 453773, 424295, 400014, 376553, 354840, 336629, 319359, 303158, 289378, 274388, 264245, 251866, 241184, 231051, 221834, 212605, 205864, 197766, 191012, 183777, 177819, 172502, 165931, 160769, 156257, 150914, 146721, 142064, 138543, 134588, 130605, 127045, 123832, 120981, 117701, 115153, 112304, 109250, 106921, 103883, 102141, 99454, 96998, 95382, 93190, 91700, 89726, 87567, 86081, 84389, 82374, 81103, 79696, 77718, 76469, 74927, 73822, 72448, 70799, 69970, 68816, 67384, 66440, 65371, 64049, 62770, 62059, 61010, 60058, 59196, 58580, 57198, 56419, 55747, 54936, 54410, 53241, 52346, 51712, 50793, 50085, 49623, 49379, 48128, 48023, 46758, 46462, 45895, 45381, 44374, 43995, 43314, 42770, 42704, 41816, 41433, 40963, 40583, 40301, 39503, 39127, 38764, 38069, 37864, 37317, 36625, 36563, 36318, 35737, 35282, 35056, 34685, 34388, 33831, 33250, 33177, 33016, 32686, 32329, 31926, 31593, 31210, 30818, 30710, 30253, 30037, 29619, 29311, 29230, 28848, 28615, 28557, 28099, 28091, 27909, 27298, 27120, 26870, 26428, 26427, 26269, 25928, 25761, 25743, 25552, 25177, 24992, 24532, 24272, 24096, 24094, 23920, 23891, 23628, 23409, 23166, 22978, 22788, 22724, 22458, 22242, 22067, 21950, 21694, 21651, 21620, 21198, 21118, 20766, 20702, 20671, 20614, 20450, 20371, 20103, 20003, 19771, 19673, 19513, 19290, 19245, 19048, 18945, 18916, 18852, 18636, 18578, 18363, 18214, 18053, 17875, 17734, 17710, 17521, 17520, 17265, 17227, 17046, 17007, 16856, 16839, 16761, 16719, 16663, 16520, 16497, 16211, 15961, 15948, 15868, 15767, 15762, 15540, 15500, 15498, 15311, 15294, 15177, 15096, 14951, 14819, 14817, 14717, 14659, 14644, 14546, 14348, 14304, 14187, 14108, 14091, 14058, 13915, 13772, 13725, 13604, 13602, 13505, 13503, 13406, 13289, 13258, 13188, 13077, 13058, 12972, 12839, 12836, 12808, 12792, 12672, 12476, 12367, 12343, 12327, 12259, 12253, 12252, 12166, 12143, 12133, 12096, 11911, 11813, 11748, 11695, 11619, 11523, 11459, 11434, 11426, 11408, 11372, 11215, 11211, 11087, 11064, 11053, 11049, 11018, 10897, 10896, 10742, 10723, 10681, 10673, 10645, 10627, 10501, 10418, 10411, 10390, 10366, 10365, 10298, 10275, 10152, 10152, 10083, 10080]\n",
      "_______________________________________________________________________________________________________\n"
     ]
    },
    {
     "name": "stdout",
     "output_type": "stream",
     "text": [
      "<_io.TextIOWrapper name='10^8_z_17.txt' mode='r' encoding='UTF-8'>\n",
      "[1, 2, 3, 4, 5, 6, 7, 8, 9, 10, 11, 12, 13, 14, 15, 16, 17, 18, 19, 20, 21, 22, 23, 24, 25, 26, 27, 28, 29, 30, 31, 32, 33, 34, 35, 36, 37, 38, 39, 40, 41, 42, 43, 44, 45, 46, 47, 48, 49, 50, 51, 52, 53, 54, 55, 56, 57, 58, 59, 60, 61, 62, 63, 64, 65, 66, 67, 68, 69, 70, 71, 72, 73, 74, 75, 76, 77, 78, 79, 80, 81, 82, 83, 84, 85, 86, 87, 88, 89, 90, 91, 92, 93, 94, 95, 96, 97, 98, 99, 100, 101, 102, 103, 104, 105, 106, 107, 108, 109, 110, 111, 112, 113, 114, 115, 116, 117, 118, 119, 120, 121, 122, 123, 124, 125, 126, 128, 127, 129, 130, 132, 131, 133, 134, 135, 136, 137, 138, 139, 140, 142, 141, 143, 144, 145, 147, 146]\n",
      "[48675018, 14983674, 7516540, 4612182, 3156691, 2314469, 1780683, 1418702, 1163566, 973375, 826086, 712852, 621705, 548736, 487524, 437997, 392482, 358198, 325397, 299177, 274935, 253565, 235511, 219511, 204820, 192432, 178926, 169380, 160184, 150371, 141617, 135111, 128243, 120996, 115387, 110759, 104969, 100272, 95923, 91804, 88062, 84484, 81707, 78420, 75287, 72715, 70127, 66893, 65126, 62746, 60930, 59013, 56720, 54949, 53605, 51717, 50425, 49031, 47420, 45963, 45218, 43834, 42598, 41301, 40189, 38723, 38309, 37454, 36382, 35557, 34341, 33843, 32971, 32369, 31543, 30968, 30185, 29443, 29375, 28278, 27669, 27179, 26809, 26126, 25399, 24921, 24673, 23882, 23506, 23076, 22455, 22210, 21778, 21506, 21050, 20650, 20402, 20130, 19742, 19412, 19115, 18799, 18401, 18130, 18022, 17663, 17053, 16885, 16751, 16589, 16509, 16084, 15758, 15383, 15194, 15033, 14910, 14852, 14539, 14216, 14102, 13869, 13761, 13470, 13140, 13096, 12757, 12742, 12508, 12357, 12231, 12178, 12052, 11749, 11533, 11494, 11324, 11173, 10916, 10872, 10772, 10620, 10568, 10358, 10318, 10044, 10009]\n",
      "_______________________________________________________________________________________________________\n",
      "<_io.TextIOWrapper name='10^8_z_20.txt' mode='r' encoding='UTF-8'>\n",
      "[1, 2, 3, 4, 5, 6, 7, 8, 9, 10, 11, 12, 13, 14, 15, 16, 17, 18, 19, 20, 21, 22, 23, 24, 25, 26, 27, 28, 29, 30, 31, 32, 33, 34, 35, 36, 37, 38, 39, 40, 41, 42, 43, 44, 45, 46, 47, 48, 49, 50, 51, 52, 53, 54, 55, 56, 57, 58, 59, 60, 61, 62, 63, 64, 65, 66, 67, 68, 69, 70, 71, 72, 73, 74, 75, 76, 77]\n",
      "[60789065, 15200361, 6755060, 3796533, 2430400, 1688135, 1242311, 950505, 751103, 608129, 502371, 423332, 361217, 310596, 270076, 237268, 210496, 187388, 168748, 152282, 138145, 125395, 114784, 105498, 97052, 89881, 83657, 77575, 72234, 67977, 63434, 59400, 56009, 52072, 49790, 47116, 43974, 41913, 40020, 37890, 36500, 34434, 32884, 31105, 30039, 28275, 27637, 26379, 25609, 24473, 23530, 22460, 21632, 20607, 20221, 19457, 18709, 18126, 17258, 16919, 16044, 15774, 15467, 14524, 14463, 13908, 13227, 12865, 12713, 12478, 12184, 11796, 11203, 11131, 10858, 10373, 10156]\n",
      "_______________________________________________________________________________________________________\n"
     ]
    }
   ],
   "source": [
    "percent = 0.0001\n",
    "real_heavy_hitter_11_s4 = find_real_heavy_hitter(Z_11, num_data, percent)\n",
    "real_heavy_hitter_14_s4 = find_real_heavy_hitter(Z_14, num_data, percent)\n",
    "real_heavy_hitter_17_s4 = find_real_heavy_hitter(Z_17, num_data, percent)\n",
    "real_heavy_hitter_20_s4 = find_real_heavy_hitter(Z_20, num_data, percent)"
   ]
  },
  {
   "cell_type": "code",
   "execution_count": 129,
   "metadata": {},
   "outputs": [],
   "source": [
    "Z_11 = open(\"10^8_z_11.txt\", \"r\")\n",
    "Z_14 = open(\"10^8_z_14.txt\", \"r\")\n",
    "Z_17 = open(\"10^8_z_17.txt\", \"r\")\n",
    "Z_20 = open(\"10^8_z_20.txt\", \"r\")"
   ]
  },
  {
   "cell_type": "code",
   "execution_count": 130,
   "metadata": {},
   "outputs": [
    {
     "name": "stdout",
     "output_type": "stream",
     "text": [
      "<_io.TextIOWrapper name='10^8_z_11.txt' mode='r' encoding='UTF-8'>\n",
      "[1, 2, 3, 4, 5, 6, 7, 8, 9, 10, 11, 12, 13, 14, 15, 16, 17, 18, 19, 20, 21, 22, 23, 24, 25, 26, 27, 28, 29, 30, 31, 32, 33, 34, 35, 36, 37, 38, 39, 40, 41, 42, 43, 44, 45, 46, 47, 48, 49, 50, 51, 52, 53, 54, 55, 56, 57, 58, 59, 60, 61, 62, 63, 64, 65, 66, 67, 68, 69, 70, 71, 72, 73, 74, 75, 76, 77, 78, 79, 80, 81, 82, 83, 84, 85, 86, 87, 88, 89, 90, 91, 92, 93, 94, 95, 96, 97, 98, 99, 100, 101, 102, 103, 104, 105, 106, 107, 108, 109, 110, 111, 112, 113, 114, 115, 116, 117, 118, 119, 120, 121, 122, 123, 124, 125, 126, 127, 128, 129, 130, 131, 132, 133, 134, 135, 136, 137, 138, 140, 139, 142, 141, 143, 144, 145, 146, 147, 148, 149, 150, 151, 153, 152, 154, 155, 156, 157, 158, 159, 160, 161, 162, 163, 165, 164, 166, 167, 168, 169, 171, 170, 174, 173, 172, 175, 177, 176, 179, 178, 180, 181, 182, 183, 184, 186, 185, 187, 188, 189, 191, 190, 192, 193, 195, 194, 196, 197, 199, 198, 201, 200, 202, 204, 203, 205, 206, 207, 210, 209, 208, 211, 212, 215, 213, 217, 216, 214, 218, 219, 220, 222, 221, 224, 225, 223, 226, 227, 228, 229, 230, 233, 232, 231, 234, 237, 235, 236, 239, 240, 242, 238, 243, 241, 245, 244, 248, 246, 247, 252, 249, 251, 250, 253, 254, 256, 255, 260, 258, 257, 261, 262, 259, 264, 263, 265, 272, 267, 266, 269, 268, 270, 271, 273, 275, 278, 274, 276, 277, 279, 280, 281, 282, 283, 286, 285, 284, 287, 289, 288, 291, 290, 292, 295, 294, 296, 293, 298, 299, 297, 301, 300, 303, 305, 302, 304, 306, 310, 307, 308, 309, 312, 311, 317, 313, 314, 318, 315, 319, 316, 320, 322, 326, 323, 324, 321, 325, 328, 327, 329, 332, 333, 331, 336, 330, 334, 337, 338, 342, 335, 344, 340, 346, 341, 339, 345, 349, 343, 347, 348, 350, 354, 355, 353, 351, 356, 352, 357, 359, 362, 365, 364, 366, 358, 361, 363, 360, 368, 369, 371, 370, 367, 372, 375, 374, 377, 376, 378, 373, 383, 379, 380, 381, 382, 386, 385, 384, 391, 388, 387, 393, 390, 389, 394, 392, 397, 395, 403, 405, 396, 404, 399, 401, 402, 398, 400, 407, 406, 409, 415, 410, 416, 412, 413, 408, 411, 419, 414, 425, 417, 423, 418, 424, 420, 422, 426, 432, 433, 421, 427, 429, 430, 428, 439, 437, 436, 438, 431, 434, 440, 435, 443, 444, 442, 441, 446, 448, 447, 445, 449, 451, 453, 452, 450, 454, 456, 457, 458, 460, 459, 463, 461, 455, 465, 466, 467, 462, 468, 473, 464, 474, 472, 469, 476, 477, 479, 471, 475, 470, 478, 482, 480, 481, 483, 489, 486, 492, 498, 497, 487, 484, 499, 491, 494, 501, 493, 490, 488, 485, 500, 496, 495, 505, 511, 504, 510, 506, 502, 507, 508, 517, 515, 503, 516, 520, 512, 513, 518, 509, 521, 519, 514, 526, 528, 523, 524, 530, 525, 533, 522, 532, 527, 542, 529, 537, 543, 541, 539, 534, 531, 535, 547, 540, 538, 536, 544, 552, 546, 545, 559, 566, 548, 551, 556, 549, 550, 554, 555, 558, 560, 565, 557, 553, 568, 564, 561, 563, 567, 569, 570, 582, 562, 578, 572, 573, 576, 580, 590, 574, 575, 579, 581, 577, 584, 571, 591, 585, 593, 586, 587, 595, 592, 598, 583, 602, 589, 588, 599, 596, 603, 601, 597, 600, 608, 594, 605, 604, 606, 609, 607, 610, 613, 612, 611, 623, 616, 621, 614, 615, 631, 627, 620, 630, 619, 628, 617, 622, 624, 618, 637, 626, 629, 625, 638, 633, 634, 645, 649, 636, 640, 648, 643, 635, 639, 642, 632, 650, 651, 641, 665, 663, 652, 644, 654, 647, 660, 646, 653, 664, 657, 668, 662, 670, 656, 669, 661, 658, 666, 659, 671, 677, 667, 655, 680, 683, 685, 672, 684, 679, 693, 675, 701, 688, 676, 682, 692, 673, 674, 678, 681, 689, 697, 686, 687, 694, 719, 703, 691, 699, 712, 690, 696, 707, 700, 698, 695, 709, 706, 705, 708, 715, 702, 731, 718, 714, 710, 713, 711, 720, 722, 716, 704, 728, 717, 724, 721, 735, 725, 736, 734, 732, 727, 730, 723, 738, 726, 740, 741, 743, 739, 742, 729, 749, 757, 744, 745, 752, 747, 737, 746, 733, 748, 753, 750, 756, 758, 754, 762, 772, 751, 755, 768, 759, 763, 767, 760, 769, 766, 774, 779, 785, 764, 784, 761, 771, 773, 775, 765, 770, 778, 777, 796, 787, 790, 799, 776, 780, 788, 781, 789, 782, 786, 797, 791, 794, 783, 795, 793, 792, 816, 803, 806, 813, 824, 809, 808, 804, 798, 818, 801, 811, 800, 807, 814, 805, 828, 819, 802, 810, 812, 830, 822, 829, 817, 821, 825, 823, 832, 827, 815, 826, 842, 849, 820, 850, 836, 833, 835, 844, 834, 851, 843, 839, 841, 838, 837, 866, 847, 840, 856, 831, 848, 858, 859, 852, 854, 845, 855, 846, 870, 860, 864, 876, 853, 861, 867, 865, 874, 857, 873, 863, 871, 862, 875, 882, 868, 888, 879, 894, 881, 898, 872, 869, 878, 887, 884, 891, 880, 896, 902, 897, 889, 892, 877, 893, 883, 900, 914, 895, 886, 903, 890, 905, 919, 909, 913, 904, 901, 885, 908, 917, 925, 920, 916, 918, 936, 906, 912, 937, 923, 915, 910, 922, 929, 933, 911, 926, 899, 928, 938, 953, 907, 921, 948, 939, 934, 924, 932, 930, 947, 944, 927, 941, 935, 958, 931, 946, 943, 960, 965, 970, 945, 942, 940, 949, 982, 950, 951, 968, 957, 952, 955, 967, 964, 961, 976, 980, 971, 963, 959, 954, 956, 962, 966, 985, 983, 989, 973, 974, 969, 977, 993, 981, 1022, 987, 984, 1009, 1001, 1016, 986, 988, 990, 975, 995, 997, 979, 1029, 1014, 1000, 1008, 1019, 1004, 1003, 994, 992, 998, 1012, 978, 996, 972, 1025, 1002, 1013, 1027, 991, 1006, 1005, 999, 1020, 1007, 1011, 1028, 1036, 1037, 1023, 1044, 1010, 1033, 1021, 1017, 1032, 1049, 1046, 1045, 1047, 1062, 1024, 1041, 1058, 1061, 1030, 1031, 1042, 1038, 1053, 1018, 1056, 1026, 1034, 1048, 1040, 1063, 1043, 1015, 1067, 1035, 1050, 1064, 1039, 1057, 1073, 1082, 1052, 1055, 1059, 1054, 1051, 1066, 1075, 1083, 1096, 1097, 1074, 1111, 1076, 1079, 1060, 1099, 1072, 1080, 1089, 1077, 1078, 1065, 1085, 1088, 1092, 1084, 1090, 1093, 1068, 1086, 1107, 1069, 1091, 1070, 1101, 1100, 1087, 1102, 1109, 1128, 1108, 1115, 1098, 1117, 1095, 1071, 1105, 1136, 1125, 1112, 1116, 1123, 1120, 1103, 1110, 1122, 1129, 1114, 1130, 1106, 1104, 1143, 1151, 1126, 1134, 1133, 1113, 1081, 1094, 1139, 1118, 1124, 1132, 1156, 1137, 1131, 1146, 1119, 1135, 1162, 1138, 1159, 1141, 1163, 1154, 1179, 1155, 1140, 1144, 1121, 1175, 1127, 1145, 1169, 1147, 1181, 1150, 1153, 1152, 1166, 1148, 1168, 1158, 1165, 1142, 1157, 1219, 1189, 1176, 1164, 1172, 1170, 1178, 1160, 1183, 1167, 1188, 1205, 1161, 1190, 1174, 1187, 1149, 1177, 1185, 1214, 1195, 1192, 1204, 1173, 1180, 1182, 1184, 1194, 1217, 1200, 1210, 1212, 1234, 1198, 1201, 1191, 1196, 1220, 1199, 1171, 1193, 1231, 1197, 1223, 1186, 1218, 1203, 1202, 1206, 1216, 1224, 1246, 1222, 1215, 1225, 1248, 1208, 1228, 1243, 1264, 1251, 1239, 1232, 1213, 1235, 1238, 1221, 1253, 1226, 1241, 1258, 1257, 1209, 1230, 1227, 1250, 1229, 1274, 1261, 1265, 1269, 1211, 1233, 1245, 1249, 1207, 1280, 1240, 1263, 1247, 1244, 1272, 1281, 1255, 1270, 1262, 1260, 1237, 1271, 1242, 1252, 1266, 1259, 1267, 1285, 1295, 1273, 1279, 1277, 1236, 1308, 1301, 1254, 1291, 1289, 1292, 1282, 1256, 1268, 1275, 1355, 1296, 1311, 1284, 1276, 1299, 1339, 1278, 1290, 1287, 1288, 1315, 1283, 1333, 1286, 1331, 1320, 1297, 1293, 1314, 1344, 1317, 1304, 1302, 1335, 1307, 1298, 1305, 1310, 1313, 1321, 1306, 1325, 1294, 1318, 1332, 1362, 1357, 1324, 1312, 1300, 1329, 1319, 1371, 1341, 1327, 1347, 1338, 1334, 1303, 1351, 1384, 1309, 1328, 1343, 1354, 1348, 1358, 1346, 1316, 1375, 1369, 1407, 1326, 1390, 1322, 1323, 1349, 1356, 1379, 1352, 1367, 1350, 1381, 1337, 1389, 1370, 1345, 1340, 1368, 1353, 1374, 1330, 1336, 1413, 1361, 1378, 1409, 1373, 1376, 1359, 1393, 1400, 1387, 1388, 1412, 1391, 1363, 1396, 1411, 1366, 1365, 1360, 1414, 1394, 1385, 1342, 1449, 1380, 1364, 1419, 1377, 1429, 1399, 1397, 1386, 1420, 1430, 1383, 1424, 1432, 1427, 1402, 1416, 1423, 1403, 1398, 1410, 1404, 1421, 1405, 1446, 1382, 1401, 1453, 1435, 1452, 1490, 1440, 1372, 1439, 1392, 1463, 1406, 1445, 1444, 1434, 1469, 1436, 1422, 1479, 1417, 1433, 1418, 1426, 1467, 1459, 1477, 1415, 1408, 1448, 1441, 1442, 1447, 1450, 1451, 1465, 1395, 1481, 1461, 1464, 1462, 1483, 1470, 1457, 1438, 1443, 1487, 1473, 1428, 1468, 1471, 1425, 1489, 1475, 1458, 1466, 1455, 1460, 1431, 1485, 1456, 1480, 1454, 1478, 1493, 1472, 1511, 1491, 1507, 1531, 1476, 1514, 1437, 1503, 1518, 1486, 1517, 1516, 1536, 1499, 1504, 1484, 1474, 1532, 1496, 1497, 1550, 1533, 1508, 1554, 1539, 1541, 1492, 1530, 1528, 1488, 1525, 1522, 1585, 1500, 1512, 1519, 1524, 1527, 1494, 1502, 1482, 1501, 1563, 1498, 1540, 1564, 1510, 1544, 1534, 1577, 1505, 1545, 1513, 1556, 1578, 1553, 1495, 1559, 1520, 1555, 1538, 1546, 1584, 1549, 1535, 1565, 1526, 1552, 1529, 1537, 1547, 1515, 1590, 1521, 1509, 1542, 1593, 1571, 1587, 1638, 1506, 1562, 1586, 1603, 1523, 1543, 1568, 1551, 1567, 1548, 1561, 1582, 1610, 1576, 1573, 1592, 1631, 1595, 1557, 1566, 1574, 1605, 1601, 1591, 1560, 1614, 1579, 1615, 1594, 1621, 1588, 1602, 1572, 1558, 1604, 1596, 1627, 1634, 1581, 1598, 1580, 1583, 1637, 1609, 1570, 1611, 1617, 1624, 1660, 1613, 1589, 1597, 1680, 1663, 1662, 1636, 1644, 1575, 1618, 1629, 1608, 1665, 1607, 1626, 1619, 1656, 1650, 1647, 1600, 1633, 1653, 1664, 1640, 1620, 1667, 1661, 1643, 1655, 1652, 1639, 1569, 1612, 1642, 1657, 1651, 1625, 1616, 1623, 1599, 1672, 1635, 1666, 1632, 1706, 1658, 1659, 1690, 1646, 1606, 1654, 1649, 1689, 1630, 1641, 1675, 1692, 1723, 1645, 1696, 1628, 1697, 1622, 1718, 1682, 1648, 1757, 1685, 1709, 1671, 1676, 1687, 1701, 1739, 1688, 1681, 1725, 1679, 1669, 1716, 1677, 1686, 1673, 1734, 1695, 1683, 1733, 1693, 1742, 1738, 1732, 1769, 1719, 1684, 1705, 1717, 1710, 1805, 1678, 1713, 1691, 1668, 1700, 1741, 1712, 1730, 1740, 1698, 1708, 1711, 1727, 1694, 1790, 1736, 1674, 1748, 1726, 1776, 1737, 1789, 1744, 1731, 1721, 1747, 1762, 1752, 1746, 1704, 1745, 1755, 1760, 1767, 1735, 1702, 1766, 1715, 1751, 1743, 1670, 1765, 1750, 1754, 1749, 1815, 1773, 1699, 1833, 1756, 1771, 1758, 1816, 1823, 1837, 1779, 1778, 1714, 1781, 1820, 1729, 1722, 1810, 1812, 1763, 1761, 1780, 1859, 1770, 1772, 1724, 1840, 1808, 1774, 1775, 1801, 1793, 1796, 1814, 1728, 1791, 1818, 1829, 1753, 1703, 1777, 1821, 1783, 1798, 1707, 1831, 1720, 1822, 1799, 1850, 1792, 1813, 1842, 1832, 1764, 1819, 1852, 1787, 1802, 1800, 1866, 1797, 1759, 1804, 1830, 1847, 1874, 1862, 1788, 1881, 1768, 1806, 1934, 1827, 1824, 1843, 1785, 1786, 1875, 1825, 1803, 1853, 1828, 1809, 1836, 1807, 1912, 1782, 1899, 1795, 1860, 1888, 1871, 1834, 1877, 1845, 1882, 1794, 1841, 1868, 1844, 1880, 1893, 1898, 1915, 1849, 1817, 1838, 1897, 1883, 1889, 1865, 1855, 1905, 1835, 1941, 1861, 1848, 1904, 1858, 1924, 1928, 1811, 1784, 1937, 1878, 1886, 1826, 1864, 1891, 1857, 1867, 1884, 1839, 1879, 1869, 1876, 1922, 1902, 1896, 1963, 1910, 1885, 1892, 1921, 1854, 1900, 1846, 1901, 1872, 1851, 1863, 1895, 1956, 1856, 1894, 1935, 1916, 1950, 1925, 1943, 1906, 1952, 1954, 1923, 1966, 1918, 1887, 1913, 1949, 1940, 1964, 1942, 1931, 1870, 2009, 1945, 1927, 1930, 1977, 1968, 1907, 1994, 1957, 1920, 1970, 1939, 1911, 1975, 1926, 1944, 1938, 1947, 1903, 1908, 1919, 1972, 1936, 1929, 1990, 1946, 1998, 2023, 1978, 1965, 2002, 1932, 1961, 1909, 1960, 1967, 1951, 2027, 1953, 1984, 2026, 1996, 2011, 2001, 2068, 2012, 1955, 1973, 1986, 1917, 1985, 1959, 2036, 2070, 2033, 2003, 1914, 1873, 2016, 1987, 2010, 1989, 2032, 2021, 2018, 1890, 2067, 1958, 2025, 2044, 1962, 2020, 2053, 1979, 2064, 1995, 2007, 1982, 2006, 2014, 1971, 1933, 2059, 2091, 1999, 2042, 1981, 2037, 2046, 1983, 2031, 1976, 1980, 1993, 2075, 1997, 2050, 1948, 1969, 2058, 2000, 2088, 2005, 2022, 2115, 1974, 2056, 2034, 2054, 2049, 2108, 2093, 2019, 2040, 2047, 1991, 2065, 2029, 2008, 2096, 2015, 2094, 2081, 2039, 2090, 2063, 1992, 1988, 2024, 2004, 2043, 2028, 2131, 2055, 2102, 2110, 2073, 2109, 2103, 2072, 2035, 2140, 2013, 2076, 2086, 2060, 2144, 2045, 2066, 2089, 2077, 2087, 2111, 2085, 2017, 2124, 2106, 2101, 2030, 2121, 2122, 2135, 2105, 2119, 2107, 2061, 2104, 2143, 2062, 2074, 2051, 2154, 2153, 2151, 2041, 2163, 2156, 2112, 2048, 2149, 2079, 2098, 2116, 2125, 2071, 2069, 2095, 2084, 2159, 2097, 2185, 2152, 2099, 2177, 2038, 2052, 2148, 2136, 2057, 2123, 2158, 2137, 2080, 2181, 2126, 2120, 2155, 2157, 2180, 2133, 2164, 2167, 2127, 2173, 2117, 2142, 2139, 2166, 2196, 2186, 2082, 2128, 2134, 2092, 2141, 2100, 2118, 2138, 2183, 2165, 2113, 2175, 2145, 2150, 2191, 2078, 2218, 2146, 2130, 2114, 2288, 2178, 2211, 2197, 2200, 2217, 2190, 2201, 2129, 2247, 2243, 2293, 2083, 2132, 2182, 2169, 2170, 2147, 2229, 2168, 2194, 2162, 2227, 2224, 2203, 2209, 2206, 2210, 2249, 2192, 2161, 2241, 2220, 2231, 2238, 2305, 2255, 2205, 2269, 2189, 2212, 2228, 2184, 2214, 2172, 2251, 2264, 2245, 2242, 2199, 2221, 2202, 2278, 2280, 2160, 2250, 2246, 2223, 2213, 2289, 2254, 2237, 2207, 2208, 2276, 2235, 2263, 2336, 2299, 2204, 2233, 2215, 2219, 2307, 2244, 2232, 2176, 2301, 2257, 2279, 2222, 2259, 2179, 2188, 2258, 2174, 2198, 2226, 2195, 2291, 2260, 2282, 2240, 2225, 2296, 2320, 2187, 2274, 2374, 2319, 2262, 2272, 2321, 2302, 2324, 2334, 2171, 2267, 2303, 2265, 2273, 2248, 2287, 2354, 2311, 2271, 2353, 2297, 2284, 2253, 2256, 2344, 2318, 2322, 2306, 2348, 2281, 2252, 2193, 2286, 2329, 2349, 2290, 2390, 2266, 2341, 2337, 2381, 2239, 2317, 2270, 2310, 2236, 2369, 2382, 2308, 2327, 2230, 2261, 2356, 2294, 2326, 2370, 2443, 2309, 2338, 2401, 2234, 2410, 2346, 2339, 2379, 2372, 2216, 2352, 2420, 2332, 2277, 2268, 2328, 2428, 2386, 2300, 2347, 2490, 2366, 2351, 2304, 2384, 2292, 2476, 2376, 2368, 2380, 2361, 2316, 2275, 2355, 2397, 2283, 2345, 2403, 2440, 2362, 2398, 2335, 2330, 2404, 2313, 2331, 2389, 2359, 2365, 2285, 2315, 2425, 2377, 2406, 2298, 2414, 2461, 2295, 2438, 2350, 2393, 2314, 2418, 2405, 2363, 2431, 2412, 2385, 2436, 2357, 2454, 2411, 2325, 2467, 2399, 2462, 2445, 2333, 2407, 2371, 2343, 2342, 2364, 2506, 2312, 2392, 2340, 2465, 2394, 2323, 2367, 2360, 2409, 2435, 2452, 2450, 2489, 2455, 2427, 2459, 2430, 2391, 2477, 2472, 2511, 2387, 2528, 2395, 2375, 2408, 2433, 2442, 2471, 2449, 2413, 2505, 2378, 2373, 2473, 2446, 2548, 2549, 2441, 2423, 2437, 2358, 2416, 2388, 2422, 2400, 2447, 2501, 2458, 2559, 2495, 2424, 2432, 2508, 2491, 2383, 2434, 2503, 2546, 2520, 2421, 2453, 2531, 2512, 2587, 2402, 2466, 2574, 2516, 2496, 2419, 2558, 2537, 2426, 2556, 2417, 2457, 2494, 2483, 2524, 2429, 2481, 2492, 2584, 2456, 2487, 2479, 2543, 2439, 2396, 2475, 2448, 2482, 2545, 2507, 2451, 2469, 2497, 2594, 2415, 2504, 2519, 2606, 2493, 2585, 2529, 2444, 2464, 2626, 2460, 2525, 2530, 2536, 2513, 2514, 2509, 2498, 2552, 2547, 2502, 2614, 2515, 2554, 2488, 2611, 2533, 2601, 2535, 2539, 2470, 2485, 2463, 2532, 2557, 2518, 2468, 2564, 2560, 2565, 2527, 2544, 2500, 2486, 2622, 2510, 2612, 2582, 2484, 2474, 2619, 2555, 2517, 2596, 2590, 2572, 2576, 2632, 2568, 2599, 2499, 2591, 2589, 2588, 2658, 2522, 2563, 2624, 2695, 2534, 2631, 2653, 2627, 2575, 2478, 2542, 2578, 2551, 2703, 2523, 2634, 2570, 2571, 2562, 2553, 2579, 2665, 2540, 2567, 2609, 2600, 2620, 2581, 2692, 2670, 2686, 2667, 2684, 2561, 2602, 2607, 2615, 2595, 2526, 2480, 2569, 2707, 2538, 2550, 2617, 2685, 2593, 2719, 2610, 2597, 2688, 2639, 2640, 2682, 2690, 2625, 2649, 2573, 2740, 2677, 2650, 2605, 2705, 2541, 2656, 2669, 2629, 2675, 2679, 2652, 2713, 2736, 2618, 2681, 2672, 2580, 2636, 2583, 2721, 2833, 2651, 2642, 2646, 2608, 2724, 2663, 2638, 2616, 2598, 2664, 2813, 2645, 2738, 2753, 2603, 2729, 2657, 2668, 2592, 2521, 2820, 2654, 2644, 2621, 2742, 2623, 2635, 2630, 2648, 2746, 2693, 2586, 2676, 2701, 2691, 2747, 2784, 2674, 2714, 2759, 2604, 2643, 2702, 2613, 2655, 2763, 2662, 2683, 2774, 2566, 2659, 2694, 2698, 2647, 2699, 2577, 2697, 2641, 2834, 2704, 2678, 2700, 2660, 2743, 2734, 2733, 2711, 2637, 2628, 2666, 2718, 2687, 2745, 2810, 2777, 2785, 2771, 2779, 2816, 2725, 2824, 2802, 2797, 2730, 2661, 2822, 2817, 2787, 2689, 2791, 2726, 2789, 2775, 2800, 2735, 2811, 2770, 2732, 2717, 2863, 2633, 2801, 2696, 2749, 2712, 2727, 2731, 2776, 2739, 2760, 2710, 2723, 2706, 2798, 2827, 2709, 2769, 2671, 2871, 2794, 2806, 2754, 2716, 2781, 2868, 2744, 2843, 2752, 2755, 2832, 2673, 2881, 2765, 2766, 2751, 2867, 2869, 2750, 2773, 2722, 2828, 2772, 2853, 2882, 2887, 2875, 2783, 2957, 2741, 2844, 2849, 2856, 2837, 2756, 2767, 2930, 2796, 2841, 2818, 2790, 2830, 2928, 2748, 2899, 2788, 2864, 2880, 2808, 2778, 2829, 2812, 2838, 2720, 2826, 2782, 2807, 2953, 2850, 2878, 2891, 2715, 2902, 2831, 2728, 2825, 2889, 2931, 2793, 2805, 2997, 2680, 2764, 2780, 2792, 2885, 2839, 2968, 2877, 2934, 2913, 2890, 2874, 2708, 2942, 2938, 2898, 2926, 2815, 2920, 3072, 2917, 2865, 2757, 2737, 3042, 2922, 2862, 2768, 2900, 3008, 2954, 2972, 2940, 2860, 2911, 2950, 2847, 2937, 2814, 2835, 2854, 2915, 2932, 2901, 2894, 2851, 2919, 2758, 2893, 3044, 2948, 2886, 2907, 2964, 2876, 2821, 2855, 2842, 2846, 2879, 2994, 2848, 2955, 2883, 2904, 3108, 2761, 2991, 2836, 2993, 2892, 2809, 2944, 2925, 2988, 2872, 2947, 2939, 3048, 2956, 2852, 2967, 2905, 2859, 2935, 2799, 3112, 2896, 2910, 3041, 2929, 2969, 2914, 3020, 2941, 2803, 2933, 2918, 2936, 2786, 2795, 2979, 2996, 3067, 2895, 3025, 2927, 2986, 2959, 2992, 2840, 2804, 2888, 3093, 2857, 2819, 2884, 2982, 2903, 2861, 2906, 2998, 2989, 3038, 3058, 3026, 2908, 3016, 3052, 2952, 2958, 2762, 2897, 2921, 2946, 3003, 2981, 2960, 2966, 2987, 2970, 3075, 3036, 2916, 2909, 2870, 2990, 3148, 3004, 2975, 2983, 2949, 2845, 2945, 2924, 3014, 2977, 3061, 2985, 3024, 2974, 3011, 2973, 2965, 2962, 3105, 2976, 2951, 3002, 3017, 2995, 3019, 3053, 3069, 3021, 3047, 3147, 3121, 3103, 3055, 2873, 2971, 3095, 3049, 3060, 3070, 3124, 3066, 3099, 3096, 3031, 2980, 3097, 3015, 3107, 2858, 3040, 3101, 2823, 3068, 3181, 2912, 3117, 3086, 3173, 3092, 3077, 3000, 3006, 3063, 2943, 3114, 3089, 3046, 3037, 3235, 3028, 3127, 3023, 2866, 3154, 3082, 3194, 2978, 3035, 3022, 2999, 3166, 3104, 3231, 3007, 3111, 3005, 2961, 3012, 3050, 3045, 3033, 3132, 2923, 3138, 3043, 3129, 3146, 3085, 3001, 3156, 3125, 3163, 3084, 3228, 3090, 3073, 3081, 2984, 3168, 3190, 3183, 3065, 3079, 3158, 3032, 3119, 3153, 3196, 3078, 3180, 3266, 3115, 3131, 3214, 3174, 3064, 3013, 3054, 3009, 3113, 3102, 3080, 3219, 3151, 3208, 3233, 2963, 3150, 3034, 3057, 3130, 3094, 3076, 3027, 3074, 3269, 3083, 3149, 3123, 3109, 3133, 3087, 3134, 3144, 3188, 3179, 3261, 3018, 3071, 3141, 3062, 3106, 3182, 3200, 3056, 3118, 3175, 3215, 3159, 3088, 3143, 3165, 3152, 3157, 3199, 3135, 3176, 3128, 3039, 3030, 3363, 3195, 3218, 3145, 3122, 3206, 3192, 3230, 3059, 3276, 3238, 3220, 3164, 3303, 3274, 3305, 3169, 3197, 3155, 3204, 3300, 3140, 3217, 3010, 3098, 3139, 3211, 3404, 3160, 3307, 3091, 3136, 3257, 3029, 3137, 3051, 3120, 3306, 3222, 3287, 3172, 3436, 3296, 3236, 3315, 3329, 3333, 3203, 3241, 3390, 3186, 3191, 3314, 3410, 3100, 3162, 3167, 3126, 3210, 3264, 3281, 3258, 3250, 3198, 3262, 3289, 3267, 3209, 3234, 3212, 3170, 3223, 3394, 3178, 3216, 3193, 3279, 3323, 3268, 3255, 3110, 3205, 3247, 3317, 3396, 3142, 3349, 3185, 3171, 3283, 3249, 3291, 3213, 3116, 3326, 3308, 3366, 3420, 3309, 3272, 3290, 3277, 3284, 3322, 3440, 3389, 3270, 3202, 3243, 3226, 3256, 3327, 3273, 3293, 3278, 3302, 3260, 3253, 3391, 3346, 3227, 3294, 3311, 3161, 3402, 3271, 3313, 3310, 3354, 3336, 3201, 3288, 3252, 3177, 3335, 3244, 3207, 3224, 3245, 3184, 3275, 3339, 3342, 3365, 3240, 3225, 3248, 3298, 3246, 3384, 3263, 3221, 3358, 3352, 3242, 3385, 3398, 3232, 3331, 3239, 3304, 3360, 3350, 3334, 3447, 3518, 3448, 3254, 3316, 3424, 3312, 3494, 3368, 3362, 3286, 3265, 3441, 3377, 3292, 3411, 3301, 3318, 3370, 3341, 3187, 3282, 3344, 3369, 3295, 3538, 3189, 3537, 3408, 3297, 3407, 3348, 3325, 3330, 3357, 3561, 3449, 3397, 3595, 3423, 3392, 3328, 3426, 3332, 3364, 3573, 3372, 3471, 3419, 3321, 3478, 3340, 3388, 3531, 3386, 3421, 3237, 3299, 3381, 3492, 3251, 3259, 3461, 3345, 3427, 3356, 3425, 3406, 3367, 3557, 3373, 3337, 3347, 3465, 3413, 3428, 3415, 3338, 3319, 3343, 3505, 3414, 3380, 3477, 3446, 3434, 3466, 3543, 3359, 3435, 3371, 3588, 3375, 3464, 3353, 3691, 3569, 3430, 3495, 3579, 3546, 3480, 3416, 3521, 3431, 3490, 3229, 3432, 3405, 3455, 3320, 3383, 3468, 3444, 3280, 3473, 3499, 3374, 3549, 3400, 3534, 3545, 3376, 3506, 3475, 3409, 3469, 3458, 3429, 3596, 3379, 3387, 3768, 3485, 3515, 3487, 3497, 3285, 3418, 3412, 3433, 3438, 3393, 3453, 3460, 3355, 3504, 3437, 3523, 3516, 3541, 3463, 3482, 3633, 3395, 3590, 3462, 3529, 3401, 3554, 3500, 3634, 3445, 3672, 3535, 3443, 3591, 3484, 3528, 3378, 3442, 3403, 3439, 3565, 3474, 3524, 3612, 3708, 3472, 3519, 3578, 3726, 3324, 3733, 3745, 3544, 3559, 3666, 3601, 3547, 3582, 3496, 3564, 3511, 3530, 3550, 3488, 3619, 3572, 3486, 3351, 3479, 3623, 3679, 3625, 3599, 3456, 3566, 3451, 3450, 3361, 3656, 3568, 3631, 3514, 3522, 3457, 3597, 3399, 3586, 3467, 3594, 3659, 3705, 3675, 3639, 3713, 3580, 3620, 3476, 3657, 3709, 3491, 3652, 3560, 3570, 3628, 3558, 3658, 3417, 3459, 3542, 3483, 3556, 3704, 3575, 3819, 3512, 3536, 3690, 3617, 3548, 3532, 3624, 3686, 3647, 3470, 3509, 3602, 3635, 3611, 3692, 3502, 3687, 3507, 3722, 3638, 3584, 3527, 3743, 3552, 3706, 3607, 3618, 3576, 3756, 3489, 3517, 3581, 3493, 3589, 3452, 3622, 3503, 3563, 3567, 3678, 3382, 3598, 3606, 3562, 3724, 3774, 3454, 3422, 3680, 3539, 3626, 3604, 3684, 3742, 3642, 3697, 3761, 3710, 3766, 3555, 3498, 3676, 3571, 3583, 3605, 3525, 3847, 3520, 3610, 3716, 3735, 3719, 3540, 3551, 3513, 3805, 3688, 3832, 3577, 3811, 3747, 3614, 3696, 3510, 3646, 3727, 3651, 3700, 3764, 3600, 3830, 3698, 3649, 3664, 3615, 3621, 3721, 3609, 3760, 3526, 3553, 3783, 3643, 3671, 3855, 3694, 3481, 3585, 3630, 3533, 3592, 3878, 3937, 3785, 3746, 3737, 3665, 3703, 3644, 3802, 3661, 3729, 3668, 3718, 3673, 3667, 3682, 3765, 3655, 3508, 3677, 3636, 3738, 3728, 3797, 3806, 3829, 3608, 3762, 3629, 3932, 3918, 3767, 3778, 3587, 3739, 3674, 3818, 3815, 3653, 3603, 3827, 3899, 3793, 3757, 3640, 3702, 3901, 3654, 3683, 3773, 3795, 3781, 3695, 3501, 3650, 3923, 3894, 3828, 3660, 3662, 3627, 3707, 3788, 3712, 3776, 3881, 3794, 3758, 3872, 3807, 3744, 3917, 3730, 3720, 3906, 3689, 3845, 3837, 3741, 3888, 3748, 3701, 3790, 3804, 3699, 3789, 3685, 3813, 3799, 3864, 3681, 3787, 3809, 3869, 3669, 3734, 3838, 3803, 3852, 3812, 3792, 3616, 3810, 3973, 3593, 3663, 3791, 3868, 3877, 3800, 3632, 3907, 3945, 4027, 3641, 3754, 3914, 3772, 3961, 3942, 3927, 3887, 3755, 3711, 3715, 3849, 3922, 3736, 3841, 3840, 3833, 3896, 3750, 3989, 3955, 3752, 3970, 3780, 3814, 3723, 3969, 3693, 3939, 3891, 3839, 3934, 3972, 3714, 3885, 3779, 3645, 3886, 3897, 3825, 3875, 3954, 3920, 3935, 3759, 3866, 3613, 3882, 3902, 3751, 3749, 3732, 3854, 3763, 3740, 4015, 3924, 3574, 3948, 3670, 3816, 3904, 3928, 3782, 3753, 4018, 3823, 3975, 4061, 3856, 3821, 3777, 3648, 3861, 4001, 3801, 3798, 3889, 3844, 3843, 3941, 3993, 3949, 4054, 3936, 3784, 3731, 3978, 3874, 3898, 3870, 3862, 3940, 3846, 3944, 3905, 3848, 3871, 3990, 3893, 3908, 4156, 3858, 3771, 4032, 3943, 3959, 4033, 3883, 3987, 3994, 4019, 4077, 3851, 3916, 3880, 4050, 3808, 4026, 4122, 3770, 3796, 3967, 3775, 3900, 3863, 3925, 3974, 4110, 3890, 3957, 3817, 3867, 3909, 3836, 3637, 3884, 4071, 4020, 3915, 4093, 4023, 4031, 3984, 3826, 3997, 4060, 3786, 3850, 3859, 3824, 4134, 4003, 4038, 4034, 3903, 4080, 3919, 3857, 4095, 4007, 3985, 4226, 3831, 3951, 3976, 3876, 4108, 3986, 4147, 3853, 3982, 4146, 3834, 3717, 3998, 4073, 4076, 3913, 3983, 4149, 4012, 3842, 4092, 4087, 4103, 3962, 3999, 4074, 4030, 4068, 4021, 3921, 3879, 4090, 4203, 3947, 3958, 4053, 4058, 3953, 4163, 4115, 4118, 3950, 4191, 3979, 4008, 4039, 3956, 4009, 4056, 4025, 3835, 4013, 4097, 4029, 4002, 4000, 3980, 4211, 3725, 4006, 4121, 3968, 4052, 4206, 4057, 4153, 4014, 4044, 4130, 3820, 3981, 4028, 4114, 4123, 4106, 4165, 4164, 4059, 4078, 4022, 3865, 3952, 4253, 4035, 4091, 4120, 4109, 3966, 3933, 3911, 4194, 4086, 3964, 4037, 4045, 4208, 3988, 4043, 3926, 4131, 3963, 4265, 4189, 4197, 4148, 4278, 4011, 3965, 3892, 4046, 4264, 4267, 3996, 4274, 3971, 4105, 4202, 4100, 4082, 4297, 4294, 4024, 4187, 4047, 4098, 4063, 4070, 3938, 4041, 4126, 4249, 4010, 4048, 4128, 3960, 4168, 4132, 4117, 3977, 4213, 4159, 4151, 4099, 4625, 4051, 4227, 4113, 4379, 4204, 4083, 4358, 3910, 4242, 4279, 3769, 4104, 4495]\n",
      "[9472468, 4422755, 2834239, 2063295, 1613111, 1322278, 1115002, 964493, 844829, 753434, 677623, 617095, 565062, 520915, 482338, 449252, 419245, 395035, 371497, 352336, 332829, 317296, 300732, 287790, 275768, 262923, 252660, 242201, 233583, 224616, 216584, 209649, 202339, 196635, 190662, 184433, 178540, 173574, 168328, 164359, 159939, 155149, 151209, 147873, 144268, 140662, 136877, 134363, 130771, 127940, 125523, 122635, 120666, 117700, 115741, 112905, 110617, 108971, 106531, 104589, 102925, 101187, 99238, 97869, 96012, 94612, 92670, 91637, 90375, 88492, 87182, 86375, 84635, 83249, 82325, 80626, 79534, 78374, 77249, 76625, 75345, 75049, 73320, 72668, 71334, 70794, 69776, 68829, 68097, 67654, 66222, 65718, 64913, 64134, 63612, 62831, 61927, 60936, 60562, 59958, 59132, 58518, 57864, 57634, 56748, 55904, 55174, 55098, 54423, 54055, 53311, 52804, 52288, 51563, 51219, 50827, 50646, 49970, 49485, 49368, 48741, 48437, 47594, 47379, 46666, 46413, 46284, 45507, 45458, 44599, 44577, 44269, 43479, 43336, 43054, 42527, 42000, 41626, 41293, 41234, 40883, 40729, 40320, 40070, 39474, 39415, 39251, 39023, 38480, 38076, 37995, 37606, 37507, 37390, 36733, 36370, 36286, 36283, 35950, 35892, 35431, 35095, 35018, 34561, 34454, 34265, 34199, 33838, 33452, 33331, 33192, 32984, 32937, 32524, 32319, 32115, 32039, 31837, 31836, 31252, 31047, 30938, 30887, 30534, 30489, 30307, 30246, 29948, 29756, 29627, 29338, 29310, 28830, 28782, 28766, 28562, 28450, 28374, 28117, 27675, 27571, 27558, 27542, 27462, 27314, 26774, 26772, 26604, 26600, 26478, 26372, 26090, 26064, 26012, 25746, 25701, 25605, 25552, 25173, 24969, 24919, 24888, 24622, 24549, 24531, 24369, 24272, 24115, 24111, 23882, 23812, 23778, 23742, 23459, 23259, 23173, 23145, 22954, 22935, 22898, 22801, 22737, 22714, 22503, 22209, 22024, 21980, 21852, 21830, 21783, 21771, 21574, 21518, 21455, 21263, 21251, 21065, 21040, 20974, 20909, 20897, 20830, 20680, 20600, 20537, 20245, 20232, 20196, 20163, 20110, 19950, 19918, 19824, 19788, 19652, 19613, 19518, 19492, 19437, 19342, 19317, 19191, 19127, 18972, 18957, 18943, 18896, 18821, 18463, 18438, 18431, 18254, 18230, 18224, 18206, 18135, 18014, 18000, 17882, 17820, 17817, 17717, 17626, 17549, 17532, 17423, 17340, 17323, 17296, 17216, 17120, 17082, 16992, 16963, 16953, 16900, 16804, 16718, 16667, 16571, 16559, 16475, 16463, 16443, 16328, 16239, 16226, 16169, 16118, 16012, 15971, 15940, 15917, 15891, 15798, 15741, 15684, 15670, 15666, 15598, 15593, 15458, 15454, 15387, 15288, 15286, 15274, 15225, 15125, 15010, 14972, 14944, 14914, 14870, 14811, 14804, 14672, 14648, 14628, 14603, 14598, 14580, 14576, 14559, 14545, 14419, 14326, 14255, 14249, 14217, 14195, 14152, 14150, 14081, 14041, 14029, 13900, 13890, 13800, 13792, 13752, 13729, 13632, 13607, 13595, 13545, 13543, 13475, 13471, 13446, 13394, 13378, 13328, 13187, 13166, 13162, 13006, 12968, 12960, 12918, 12912, 12911, 12904, 12857, 12830, 12779, 12769, 12667, 12656, 12654, 12637, 12633, 12633, 12610, 12503, 12475, 12423, 12384, 12333, 12276, 12255, 12243, 12177, 12162, 12143, 12140, 12140, 12111, 12019, 12004, 11928, 11917, 11886, 11873, 11868, 11861, 11851, 11848, 11837, 11793, 11750, 11727, 11692, 11667, 11647, 11627, 11524, 11522, 11494, 11460, 11413, 11399, 11350, 11344, 11325, 11299, 11264, 11247, 11206, 11185, 11182, 11174, 11167, 11150, 11055, 11012, 10932, 10918, 10881, 10879, 10875, 10859, 10836, 10774, 10760, 10724, 10716, 10714, 10671, 10627, 10610, 10593, 10577, 10551, 10499, 10460, 10450, 10437, 10379, 10377, 10374, 10355, 10352, 10346, 10337, 10317, 10313, 10296, 10276, 10254, 10226, 10207, 10196, 10099, 10088, 10058, 10056, 10029, 9996, 9976, 9962, 9927, 9901, 9867, 9824, 9802, 9797, 9780, 9780, 9769, 9762, 9708, 9693, 9605, 9580, 9571, 9561, 9558, 9556, 9531, 9500, 9499, 9489, 9442, 9434, 9429, 9407, 9399, 9388, 9371, 9339, 9330, 9313, 9304, 9286, 9270, 9232, 9196, 9188, 9160, 9156, 9145, 9108, 9095, 9081, 9080, 9051, 9048, 9000, 8970, 8961, 8959, 8958, 8948, 8941, 8922, 8906, 8902, 8886, 8832, 8818, 8795, 8795, 8766, 8747, 8720, 8711, 8701, 8694, 8680, 8655, 8642, 8633, 8630, 8550, 8548, 8535, 8530, 8505, 8487, 8481, 8479, 8444, 8413, 8411, 8399, 8370, 8367, 8319, 8317, 8308, 8307, 8292, 8284, 8257, 8250, 8240, 8240, 8236, 8235, 8196, 8154, 8146, 8128, 8087, 8038, 8026, 8005, 7999, 7990, 7967, 7964, 7962, 7955, 7949, 7946, 7907, 7905, 7905, 7903, 7897, 7889, 7873, 7862, 7843, 7843, 7832, 7790, 7775, 7745, 7741, 7740, 7740, 7738, 7710, 7683, 7660, 7654, 7643, 7642, 7633, 7632, 7630, 7626, 7606, 7595, 7586, 7577, 7569, 7541, 7503, 7463, 7453, 7447, 7436, 7432, 7417, 7407, 7390, 7366, 7361, 7301, 7291, 7280, 7279, 7272, 7269, 7267, 7262, 7258, 7240, 7240, 7220, 7214, 7182, 7172, 7169, 7163, 7150, 7137, 7122, 7114, 7107, 7093, 7080, 7057, 7054, 7015, 7002, 6976, 6969, 6954, 6943, 6936, 6916, 6898, 6876, 6875, 6864, 6863, 6861, 6841, 6841, 6840, 6838, 6836, 6827, 6823, 6812, 6806, 6804, 6800, 6783, 6781, 6770, 6734, 6732, 6731, 6703, 6702, 6702, 6693, 6691, 6690, 6689, 6688, 6674, 6656, 6649, 6642, 6635, 6629, 6626, 6609, 6602, 6582, 6569, 6568, 6555, 6553, 6520, 6511, 6507, 6478, 6468, 6464, 6459, 6458, 6442, 6440, 6440, 6438, 6429, 6429, 6427, 6413, 6365, 6365, 6341, 6340, 6336, 6325, 6303, 6298, 6295, 6287, 6279, 6264, 6250, 6239, 6238, 6228, 6213, 6210, 6207, 6185, 6174, 6159, 6159, 6143, 6134, 6134, 6133, 6121, 6116, 6115, 6097, 6094, 6089, 6086, 6070, 6059, 6049, 6042, 6029, 6021, 6020, 6017, 6015, 6012, 5997, 5994, 5991, 5986, 5978, 5959, 5957, 5952, 5930, 5927, 5917, 5916, 5892, 5877, 5876, 5870, 5860, 5856, 5850, 5850, 5845, 5821, 5803, 5802, 5794, 5792, 5791, 5783, 5773, 5762, 5751, 5748, 5747, 5738, 5738, 5724, 5718, 5716, 5710, 5704, 5702, 5698, 5695, 5691, 5654, 5653, 5635, 5629, 5629, 5611, 5610, 5608, 5594, 5593, 5586, 5579, 5579, 5574, 5565, 5557, 5556, 5552, 5542, 5523, 5510, 5503, 5497, 5496, 5485, 5481, 5478, 5476, 5453, 5449, 5448, 5441, 5415, 5415, 5410, 5403, 5399, 5391, 5388, 5388, 5370, 5360, 5354, 5353, 5352, 5351, 5337, 5335, 5331, 5324, 5324, 5306, 5290, 5287, 5281, 5280, 5275, 5275, 5254, 5230, 5228, 5224, 5223, 5222, 5221, 5214, 5202, 5195, 5191, 5180, 5174, 5172, 5168, 5158, 5148, 5148, 5147, 5143, 5143, 5139, 5101, 5092, 5090, 5084, 5076, 5073, 5067, 5064, 5060, 5060, 5057, 5047, 5035, 5033, 5028, 5022, 5016, 5007, 5006, 5000, 4998, 4991, 4986, 4981, 4977, 4977, 4973, 4960, 4958, 4952, 4946, 4944, 4927, 4924, 4921, 4920, 4914, 4911, 4909, 4895, 4895, 4887, 4881, 4872, 4869, 4867, 4851, 4838, 4817, 4815, 4812, 4805, 4804, 4798, 4794, 4794, 4791, 4788, 4788, 4786, 4784, 4775, 4774, 4771, 4768, 4766, 4763, 4755, 4742, 4742, 4740, 4732, 4730, 4725, 4721, 4719, 4711, 4711, 4707, 4701, 4690, 4678, 4667, 4665, 4658, 4640, 4628, 4621, 4616, 4611, 4610, 4606, 4601, 4600, 4589, 4582, 4577, 4573, 4570, 4563, 4562, 4561, 4560, 4556, 4550, 4549, 4546, 4544, 4542, 4540, 4537, 4534, 4531, 4528, 4527, 4521, 4512, 4509, 4502, 4501, 4501, 4501, 4493, 4493, 4476, 4474, 4471, 4470, 4468, 4463, 4454, 4440, 4422, 4421, 4420, 4406, 4404, 4404, 4404, 4402, 4398, 4389, 4388, 4384, 4382, 4379, 4372, 4366, 4364, 4360, 4359, 4356, 4350, 4348, 4348, 4344, 4341, 4337, 4327, 4312, 4311, 4311, 4307, 4297, 4293, 4293, 4285, 4274, 4273, 4271, 4265, 4262, 4255, 4254, 4242, 4230, 4226, 4223, 4221, 4220, 4214, 4213, 4208, 4205, 4203, 4203, 4197, 4194, 4181, 4177, 4176, 4176, 4170, 4165, 4162, 4156, 4148, 4148, 4139, 4138, 4133, 4131, 4130, 4128, 4128, 4125, 4119, 4116, 4116, 4115, 4113, 4110, 4102, 4088, 4087, 4086, 4084, 4070, 4070, 4070, 4067, 4064, 4062, 4062, 4062, 4059, 4055, 4050, 4049, 4044, 4042, 4039, 4038, 4024, 4021, 4021, 4016, 4010, 4003, 4001, 4000, 3994, 3992, 3988, 3977, 3976, 3975, 3974, 3973, 3963, 3962, 3948, 3946, 3944, 3940, 3933, 3932, 3927, 3927, 3923, 3922, 3905, 3904, 3899, 3891, 3883, 3882, 3875, 3874, 3869, 3864, 3863, 3862, 3861, 3850, 3850, 3843, 3843, 3840, 3835, 3834, 3832, 3831, 3828, 3824, 3822, 3817, 3816, 3803, 3801, 3793, 3790, 3787, 3786, 3773, 3773, 3766, 3765, 3764, 3763, 3758, 3758, 3757, 3754, 3753, 3752, 3750, 3749, 3742, 3741, 3740, 3733, 3733, 3727, 3727, 3724, 3723, 3720, 3718, 3717, 3708, 3705, 3698, 3694, 3689, 3689, 3687, 3686, 3682, 3682, 3672, 3670, 3657, 3657, 3643, 3642, 3641, 3624, 3623, 3622, 3618, 3615, 3610, 3610, 3610, 3603, 3601, 3601, 3600, 3599, 3592, 3588, 3587, 3586, 3585, 3583, 3578, 3573, 3571, 3570, 3570, 3569, 3567, 3557, 3553, 3550, 3549, 3548, 3546, 3544, 3535, 3533, 3533, 3529, 3528, 3526, 3526, 3525, 3523, 3521, 3514, 3513, 3510, 3509, 3507, 3505, 3503, 3500, 3498, 3496, 3492, 3491, 3491, 3481, 3477, 3476, 3476, 3471, 3469, 3465, 3461, 3456, 3456, 3454, 3454, 3452, 3452, 3440, 3439, 3430, 3428, 3426, 3425, 3424, 3422, 3420, 3416, 3413, 3408, 3404, 3402, 3396, 3395, 3390, 3388, 3387, 3386, 3384, 3384, 3378, 3378, 3372, 3371, 3369, 3366, 3365, 3358, 3351, 3350, 3350, 3343, 3340, 3339, 3338, 3337, 3335, 3334, 3324, 3319, 3319, 3316, 3314, 3311, 3307, 3306, 3302, 3295, 3294, 3291, 3287, 3285, 3285, 3285, 3285, 3284, 3280, 3278, 3277, 3277, 3275, 3274, 3273, 3272, 3269, 3269, 3268, 3265, 3264, 3257, 3256, 3255, 3254, 3253, 3251, 3248, 3246, 3243, 3238, 3237, 3232, 3231, 3229, 3229, 3228, 3222, 3222, 3221, 3220, 3215, 3209, 3207, 3206, 3206, 3202, 3201, 3201, 3200, 3195, 3194, 3193, 3192, 3191, 3189, 3189, 3188, 3184, 3184, 3180, 3178, 3176, 3174, 3171, 3170, 3168, 3165, 3162, 3159, 3158, 3156, 3155, 3153, 3151, 3149, 3148, 3147, 3145, 3144, 3142, 3140, 3139, 3137, 3133, 3130, 3124, 3122, 3117, 3109, 3108, 3107, 3107, 3098, 3097, 3095, 3093, 3089, 3089, 3088, 3086, 3080, 3077, 3073, 3059, 3055, 3046, 3042, 3042, 3040, 3038, 3038, 3033, 3030, 3025, 3023, 3021, 3020, 3018, 3017, 3013, 3011, 3011, 3011, 3011, 3010, 3010, 3009, 3005, 3001, 3001, 2994, 2994, 2993, 2993, 2991, 2988, 2987, 2984, 2983, 2982, 2980, 2978, 2976, 2975, 2974, 2973, 2969, 2968, 2963, 2960, 2960, 2955, 2953, 2953, 2952, 2951, 2947, 2937, 2936, 2933, 2933, 2928, 2928, 2927, 2923, 2920, 2920, 2913, 2911, 2907, 2905, 2904, 2904, 2903, 2900, 2899, 2898, 2896, 2894, 2893, 2888, 2886, 2882, 2878, 2877, 2874, 2873, 2870, 2868, 2866, 2866, 2865, 2865, 2862, 2861, 2860, 2859, 2857, 2856, 2855, 2853, 2851, 2851, 2851, 2849, 2846, 2845, 2842, 2841, 2839, 2837, 2834, 2832, 2828, 2827, 2822, 2822, 2821, 2816, 2814, 2814, 2810, 2805, 2804, 2802, 2800, 2795, 2792, 2791, 2791, 2791, 2790, 2789, 2788, 2787, 2783, 2782, 2782, 2781, 2779, 2778, 2776, 2772, 2768, 2765, 2764, 2764, 2763, 2761, 2759, 2759, 2756, 2756, 2752, 2752, 2747, 2746, 2745, 2744, 2744, 2740, 2739, 2738, 2733, 2731, 2728, 2727, 2724, 2723, 2721, 2721, 2719, 2712, 2706, 2705, 2705, 2702, 2698, 2698, 2696, 2693, 2692, 2690, 2690, 2688, 2686, 2686, 2686, 2685, 2684, 2681, 2681, 2680, 2679, 2675, 2671, 2667, 2667, 2664, 2663, 2663, 2662, 2661, 2659, 2658, 2654, 2653, 2650, 2646, 2645, 2643, 2642, 2641, 2639, 2637, 2636, 2634, 2630, 2627, 2624, 2623, 2620, 2618, 2618, 2616, 2615, 2613, 2612, 2611, 2611, 2611, 2611, 2604, 2604, 2603, 2600, 2599, 2596, 2588, 2586, 2585, 2585, 2583, 2580, 2578, 2577, 2577, 2576, 2572, 2572, 2572, 2569, 2566, 2565, 2563, 2556, 2554, 2550, 2548, 2547, 2545, 2543, 2542, 2542, 2542, 2540, 2537, 2534, 2532, 2532, 2531, 2529, 2529, 2528, 2527, 2527, 2527, 2525, 2523, 2523, 2521, 2521, 2520, 2519, 2517, 2514, 2513, 2512, 2512, 2508, 2508, 2507, 2507, 2506, 2506, 2505, 2503, 2503, 2501, 2500, 2500, 2499, 2498, 2498, 2496, 2495, 2494, 2494, 2491, 2490, 2488, 2484, 2482, 2480, 2480, 2478, 2475, 2474, 2473, 2473, 2470, 2469, 2466, 2457, 2455, 2455, 2455, 2454, 2453, 2451, 2448, 2448, 2447, 2447, 2446, 2445, 2443, 2439, 2438, 2437, 2436, 2432, 2432, 2427, 2426, 2424, 2421, 2421, 2421, 2421, 2419, 2418, 2417, 2415, 2412, 2411, 2410, 2410, 2406, 2405, 2405, 2404, 2404, 2400, 2400, 2399, 2396, 2395, 2393, 2392, 2389, 2388, 2387, 2387, 2386, 2384, 2384, 2382, 2381, 2380, 2378, 2378, 2377, 2376, 2375, 2373, 2372, 2371, 2371, 2369, 2368, 2368, 2365, 2362, 2361, 2360, 2360, 2359, 2355, 2355, 2355, 2354, 2352, 2352, 2351, 2350, 2349, 2348, 2347, 2345, 2344, 2342, 2341, 2337, 2337, 2333, 2333, 2332, 2331, 2331, 2331, 2328, 2328, 2326, 2324, 2321, 2321, 2321, 2320, 2316, 2314, 2314, 2314, 2311, 2311, 2310, 2309, 2309, 2308, 2306, 2306, 2306, 2303, 2301, 2299, 2298, 2297, 2296, 2294, 2290, 2286, 2286, 2286, 2286, 2284, 2283, 2281, 2280, 2279, 2277, 2276, 2275, 2274, 2274, 2272, 2270, 2269, 2268, 2268, 2267, 2266, 2264, 2261, 2260, 2259, 2259, 2258, 2256, 2251, 2248, 2248, 2247, 2245, 2245, 2245, 2244, 2242, 2241, 2240, 2238, 2236, 2234, 2234, 2233, 2233, 2233, 2231, 2230, 2230, 2228, 2228, 2228, 2227, 2227, 2225, 2224, 2223, 2221, 2221, 2221, 2214, 2214, 2213, 2212, 2210, 2207, 2206, 2205, 2205, 2204, 2204, 2204, 2198, 2196, 2194, 2194, 2191, 2191, 2189, 2186, 2184, 2184, 2183, 2182, 2180, 2176, 2175, 2174, 2174, 2172, 2172, 2172, 2170, 2168, 2167, 2167, 2167, 2162, 2162, 2161, 2159, 2159, 2158, 2157, 2156, 2156, 2154, 2154, 2153, 2150, 2149, 2148, 2147, 2147, 2146, 2145, 2145, 2144, 2142, 2137, 2136, 2136, 2135, 2134, 2129, 2129, 2129, 2128, 2128, 2127, 2127, 2127, 2126, 2126, 2125, 2125, 2124, 2123, 2123, 2120, 2120, 2119, 2119, 2118, 2118, 2117, 2117, 2116, 2114, 2113, 2113, 2112, 2109, 2109, 2107, 2106, 2105, 2103, 2103, 2102, 2101, 2101, 2100, 2098, 2096, 2096, 2095, 2094, 2091, 2090, 2089, 2089, 2085, 2085, 2082, 2079, 2079, 2078, 2078, 2078, 2076, 2075, 2074, 2074, 2071, 2071, 2070, 2069, 2067, 2066, 2065, 2064, 2064, 2063, 2061, 2060, 2059, 2058, 2056, 2054, 2048, 2048, 2048, 2045, 2044, 2044, 2042, 2042, 2041, 2040, 2040, 2040, 2039, 2038, 2038, 2035, 2034, 2033, 2032, 2032, 2031, 2028, 2026, 2023, 2021, 2020, 2018, 2017, 2016, 2016, 2014, 2014, 2012, 2012, 2012, 2011, 2010, 2006, 2005, 2005, 2005, 2004, 2003, 2002, 2001, 2000, 1998, 1998, 1997, 1997, 1997, 1996, 1995, 1994, 1992, 1992, 1992, 1991, 1991, 1990, 1990, 1990, 1989, 1988, 1988, 1987, 1983, 1983, 1982, 1981, 1980, 1979, 1978, 1977, 1975, 1974, 1974, 1973, 1971, 1970, 1970, 1969, 1969, 1968, 1968, 1967, 1966, 1966, 1966, 1965, 1965, 1964, 1963, 1962, 1962, 1960, 1960, 1960, 1956, 1956, 1956, 1956, 1956, 1954, 1953, 1949, 1949, 1948, 1946, 1946, 1945, 1945, 1944, 1943, 1942, 1942, 1940, 1940, 1937, 1937, 1936, 1935, 1930, 1927, 1926, 1926, 1925, 1924, 1922, 1922, 1921, 1920, 1920, 1919, 1919, 1917, 1917, 1916, 1916, 1916, 1915, 1914, 1914, 1913, 1912, 1911, 1909, 1908, 1906, 1906, 1906, 1906, 1904, 1904, 1903, 1903, 1903, 1903, 1902, 1902, 1901, 1901, 1898, 1898, 1898, 1895, 1894, 1894, 1893, 1892, 1892, 1890, 1889, 1888, 1887, 1886, 1885, 1885, 1884, 1883, 1883, 1883, 1882, 1882, 1880, 1880, 1879, 1876, 1876, 1874, 1873, 1872, 1872, 1870, 1866, 1866, 1866, 1865, 1863, 1863, 1862, 1862, 1861, 1859, 1857, 1856, 1856, 1854, 1853, 1850, 1847, 1847, 1847, 1847, 1845, 1845, 1845, 1843, 1842, 1840, 1839, 1839, 1838, 1837, 1837, 1837, 1834, 1833, 1831, 1831, 1829, 1829, 1829, 1829, 1829, 1829, 1827, 1827, 1824, 1824, 1823, 1823, 1822, 1822, 1821, 1819, 1818, 1818, 1818, 1817, 1816, 1815, 1814, 1813, 1813, 1812, 1812, 1811, 1811, 1811, 1810, 1810, 1809, 1808, 1806, 1805, 1805, 1805, 1804, 1802, 1800, 1799, 1798, 1797, 1796, 1796, 1795, 1795, 1793, 1793, 1791, 1791, 1789, 1788, 1788, 1788, 1787, 1787, 1786, 1786, 1786, 1784, 1784, 1783, 1781, 1779, 1779, 1778, 1778, 1777, 1774, 1773, 1772, 1772, 1772, 1771, 1771, 1770, 1770, 1769, 1766, 1766, 1765, 1764, 1764, 1764, 1763, 1760, 1760, 1760, 1760, 1759, 1759, 1759, 1758, 1758, 1758, 1758, 1756, 1755, 1755, 1754, 1753, 1751, 1750, 1749, 1749, 1748, 1748, 1748, 1747, 1745, 1742, 1742, 1741, 1741, 1741, 1740, 1740, 1738, 1737, 1736, 1735, 1734, 1733, 1733, 1733, 1732, 1732, 1731, 1730, 1726, 1726, 1724, 1723, 1723, 1721, 1721, 1720, 1718, 1717, 1716, 1714, 1714, 1713, 1713, 1712, 1711, 1711, 1711, 1710, 1709, 1709, 1709, 1709, 1709, 1708, 1708, 1707, 1707, 1705, 1705, 1705, 1704, 1704, 1702, 1702, 1701, 1701, 1700, 1700, 1700, 1699, 1698, 1698, 1697, 1697, 1696, 1696, 1695, 1694, 1694, 1694, 1693, 1691, 1691, 1690, 1690, 1689, 1688, 1688, 1688, 1687, 1686, 1685, 1685, 1683, 1683, 1682, 1682, 1682, 1682, 1680, 1679, 1679, 1678, 1676, 1674, 1672, 1672, 1672, 1672, 1671, 1671, 1670, 1670, 1669, 1667, 1664, 1664, 1664, 1663, 1662, 1662, 1659, 1659, 1658, 1658, 1657, 1656, 1656, 1656, 1654, 1653, 1653, 1652, 1651, 1651, 1650, 1650, 1647, 1647, 1647, 1647, 1646, 1646, 1644, 1644, 1644, 1643, 1643, 1641, 1641, 1641, 1639, 1639, 1638, 1638, 1637, 1637, 1636, 1636, 1635, 1635, 1635, 1634, 1633, 1632, 1632, 1632, 1631, 1631, 1630, 1629, 1629, 1629, 1628, 1628, 1627, 1627, 1627, 1626, 1626, 1625, 1625, 1625, 1624, 1624, 1624, 1623, 1623, 1623, 1622, 1622, 1622, 1622, 1621, 1620, 1620, 1619, 1619, 1619, 1618, 1617, 1615, 1615, 1614, 1614, 1614, 1614, 1613, 1613, 1613, 1612, 1612, 1612, 1611, 1611, 1609, 1609, 1609, 1608, 1607, 1603, 1603, 1602, 1601, 1601, 1601, 1601, 1600, 1600, 1598, 1597, 1597, 1597, 1596, 1596, 1595, 1594, 1593, 1592, 1589, 1588, 1586, 1585, 1585, 1584, 1583, 1582, 1582, 1582, 1582, 1581, 1581, 1581, 1579, 1578, 1577, 1577, 1576, 1576, 1576, 1574, 1573, 1573, 1572, 1571, 1571, 1571, 1570, 1570, 1569, 1568, 1568, 1567, 1567, 1566, 1565, 1564, 1564, 1561, 1561, 1559, 1559, 1559, 1558, 1557, 1557, 1556, 1556, 1554, 1554, 1553, 1553, 1551, 1551, 1551, 1550, 1550, 1550, 1550, 1549, 1548, 1548, 1547, 1547, 1547, 1546, 1544, 1543, 1543, 1541, 1541, 1539, 1539, 1536, 1536, 1535, 1535, 1535, 1534, 1533, 1533, 1532, 1531, 1531, 1530, 1530, 1529, 1529, 1528, 1528, 1527, 1526, 1526, 1525, 1525, 1525, 1525, 1524, 1524, 1523, 1523, 1523, 1520, 1520, 1518, 1518, 1518, 1518, 1518, 1516, 1515, 1515, 1515, 1514, 1514, 1514, 1513, 1513, 1512, 1512, 1512, 1511, 1510, 1510, 1509, 1508, 1507, 1507, 1505, 1504, 1504, 1503, 1503, 1503, 1503, 1502, 1502, 1500, 1498, 1498, 1497, 1496, 1496, 1496, 1495, 1495, 1494, 1494, 1493, 1493, 1493, 1493, 1491, 1490, 1488, 1488, 1487, 1487, 1487, 1487, 1486, 1486, 1486, 1485, 1485, 1485, 1485, 1485, 1485, 1483, 1482, 1480, 1479, 1479, 1478, 1478, 1477, 1476, 1476, 1476, 1476, 1476, 1476, 1475, 1474, 1473, 1473, 1472, 1470, 1470, 1468, 1467, 1466, 1465, 1465, 1465, 1464, 1464, 1463, 1463, 1463, 1463, 1462, 1462, 1462, 1462, 1462, 1461, 1461, 1460, 1460, 1458, 1458, 1456, 1456, 1456, 1456, 1456, 1455, 1455, 1455, 1455, 1454, 1454, 1454, 1453, 1453, 1451, 1451, 1451, 1449, 1449, 1449, 1449, 1448, 1446, 1446, 1446, 1445, 1443, 1443, 1442, 1442, 1440, 1440, 1438, 1438, 1437, 1437, 1435, 1435, 1435, 1434, 1434, 1432, 1432, 1431, 1431, 1430, 1430, 1429, 1429, 1428, 1427, 1427, 1427, 1427, 1426, 1426, 1425, 1424, 1424, 1424, 1424, 1423, 1422, 1422, 1422, 1421, 1421, 1420, 1420, 1420, 1419, 1419, 1417, 1416, 1416, 1416, 1415, 1415, 1414, 1414, 1413, 1413, 1413, 1413, 1411, 1409, 1409, 1409, 1409, 1407, 1407, 1406, 1405, 1405, 1404, 1404, 1403, 1403, 1403, 1402, 1402, 1402, 1401, 1400, 1400, 1400, 1399, 1399, 1398, 1397, 1397, 1397, 1397, 1396, 1395, 1395, 1395, 1394, 1394, 1393, 1393, 1393, 1392, 1391, 1391, 1391, 1390, 1390, 1389, 1389, 1389, 1388, 1386, 1385, 1385, 1385, 1385, 1384, 1384, 1382, 1382, 1381, 1381, 1381, 1380, 1379, 1379, 1378, 1378, 1378, 1378, 1376, 1376, 1376, 1374, 1373, 1373, 1373, 1373, 1372, 1372, 1372, 1372, 1372, 1372, 1371, 1371, 1370, 1369, 1369, 1367, 1367, 1366, 1366, 1366, 1366, 1365, 1364, 1364, 1364, 1363, 1361, 1361, 1361, 1361, 1361, 1360, 1359, 1358, 1358, 1358, 1358, 1357, 1356, 1355, 1355, 1354, 1354, 1354, 1354, 1354, 1353, 1353, 1353, 1353, 1353, 1352, 1352, 1351, 1351, 1351, 1350, 1349, 1349, 1348, 1348, 1348, 1346, 1345, 1345, 1345, 1344, 1344, 1344, 1343, 1343, 1342, 1342, 1341, 1341, 1341, 1341, 1341, 1340, 1340, 1339, 1339, 1339, 1338, 1338, 1338, 1338, 1337, 1337, 1337, 1337, 1336, 1335, 1335, 1333, 1333, 1332, 1332, 1332, 1331, 1331, 1331, 1330, 1330, 1330, 1329, 1329, 1329, 1328, 1328, 1328, 1328, 1328, 1327, 1325, 1325, 1324, 1324, 1323, 1323, 1322, 1322, 1321, 1321, 1317, 1317, 1316, 1316, 1316, 1315, 1315, 1315, 1314, 1314, 1314, 1314, 1314, 1313, 1313, 1312, 1312, 1311, 1311, 1310, 1310, 1310, 1309, 1308, 1308, 1308, 1308, 1308, 1307, 1307, 1306, 1305, 1305, 1304, 1304, 1304, 1304, 1303, 1303, 1303, 1302, 1302, 1301, 1300, 1300, 1300, 1300, 1299, 1299, 1298, 1298, 1298, 1297, 1297, 1297, 1296, 1296, 1295, 1295, 1294, 1294, 1294, 1293, 1293, 1292, 1291, 1290, 1290, 1290, 1290, 1289, 1288, 1288, 1288, 1287, 1287, 1287, 1286, 1285, 1284, 1284, 1284, 1283, 1283, 1282, 1282, 1282, 1281, 1281, 1280, 1280, 1280, 1280, 1279, 1278, 1277, 1277, 1277, 1276, 1276, 1276, 1276, 1275, 1275, 1274, 1274, 1273, 1272, 1272, 1272, 1271, 1271, 1270, 1270, 1268, 1268, 1268, 1268, 1265, 1265, 1264, 1264, 1263, 1262, 1261, 1260, 1260, 1260, 1260, 1259, 1259, 1259, 1258, 1256, 1256, 1255, 1255, 1255, 1254, 1252, 1252, 1252, 1251, 1251, 1250, 1250, 1250, 1249, 1249, 1249, 1248, 1248, 1248, 1248, 1248, 1247, 1247, 1247, 1247, 1247, 1247, 1247, 1247, 1246, 1244, 1244, 1244, 1244, 1243, 1243, 1243, 1243, 1242, 1242, 1242, 1242, 1241, 1241, 1241, 1239, 1239, 1239, 1238, 1238, 1238, 1238, 1237, 1237, 1236, 1236, 1235, 1235, 1235, 1235, 1234, 1234, 1234, 1233, 1232, 1232, 1231, 1231, 1231, 1231, 1230, 1230, 1230, 1230, 1229, 1228, 1227, 1227, 1226, 1226, 1225, 1225, 1225, 1225, 1224, 1224, 1224, 1224, 1224, 1223, 1223, 1223, 1222, 1222, 1221, 1221, 1221, 1219, 1219, 1218, 1217, 1217, 1216, 1213, 1213, 1213, 1212, 1212, 1212, 1211, 1211, 1210, 1209, 1209, 1209, 1208, 1208, 1208, 1208, 1206, 1206, 1206, 1205, 1205, 1205, 1205, 1204, 1203, 1203, 1203, 1203, 1202, 1202, 1202, 1202, 1202, 1201, 1200, 1200, 1198, 1198, 1198, 1198, 1197, 1197, 1197, 1197, 1197, 1196, 1196, 1195, 1195, 1195, 1195, 1194, 1194, 1193, 1193, 1191, 1191, 1191, 1191, 1191, 1190, 1190, 1190, 1190, 1190, 1190, 1189, 1189, 1189, 1189, 1189, 1189, 1188, 1188, 1187, 1186, 1186, 1185, 1185, 1184, 1183, 1183, 1183, 1183, 1183, 1182, 1182, 1182, 1181, 1181, 1181, 1181, 1181, 1180, 1180, 1180, 1179, 1179, 1178, 1178, 1178, 1177, 1177, 1176, 1176, 1175, 1175, 1175, 1174, 1173, 1173, 1173, 1173, 1173, 1173, 1172, 1172, 1172, 1172, 1171, 1171, 1170, 1170, 1170, 1170, 1168, 1167, 1167, 1167, 1166, 1166, 1166, 1166, 1166, 1166, 1165, 1165, 1165, 1165, 1165, 1164, 1164, 1164, 1164, 1164, 1164, 1163, 1163, 1163, 1162, 1161, 1161, 1160, 1160, 1159, 1159, 1158, 1158, 1158, 1156, 1155, 1155, 1155, 1154, 1154, 1154, 1154, 1153, 1153, 1153, 1153, 1152, 1152, 1152, 1152, 1151, 1151, 1151, 1151, 1151, 1150, 1149, 1149, 1149, 1149, 1148, 1147, 1146, 1146, 1146, 1146, 1145, 1145, 1145, 1145, 1144, 1144, 1143, 1143, 1143, 1142, 1142, 1141, 1141, 1141, 1141, 1141, 1140, 1139, 1138, 1138, 1138, 1138, 1138, 1137, 1136, 1136, 1136, 1135, 1135, 1135, 1135, 1134, 1134, 1134, 1134, 1133, 1133, 1133, 1132, 1132, 1132, 1132, 1131, 1131, 1131, 1131, 1130, 1130, 1130, 1130, 1130, 1130, 1130, 1129, 1129, 1128, 1127, 1127, 1126, 1126, 1126, 1126, 1125, 1125, 1124, 1124, 1124, 1123, 1122, 1122, 1121, 1121, 1121, 1121, 1121, 1121, 1120, 1120, 1120, 1120, 1119, 1119, 1119, 1119, 1118, 1117, 1117, 1116, 1116, 1116, 1116, 1115, 1115, 1114, 1113, 1113, 1113, 1112, 1112, 1112, 1111, 1110, 1110, 1110, 1110, 1109, 1109, 1109, 1109, 1109, 1109, 1109, 1109, 1108, 1108, 1108, 1108, 1108, 1107, 1107, 1107, 1106, 1106, 1105, 1105, 1104, 1104, 1104, 1104, 1103, 1103, 1103, 1102, 1102, 1102, 1100, 1100, 1099, 1099, 1098, 1098, 1097, 1097, 1097, 1097, 1096, 1096, 1096, 1095, 1095, 1095, 1095, 1094, 1093, 1093, 1093, 1092, 1092, 1091, 1091, 1091, 1091, 1091, 1091, 1090, 1090, 1090, 1090, 1089, 1089, 1089, 1089, 1088, 1088, 1088, 1087, 1087, 1087, 1087, 1087, 1087, 1086, 1086, 1086, 1086, 1085, 1085, 1085, 1085, 1085, 1084, 1084, 1084, 1084, 1083, 1083, 1083, 1083, 1083, 1082, 1082, 1082, 1081, 1081, 1079, 1079, 1079, 1079, 1079, 1079, 1078, 1078, 1078, 1077, 1077, 1077, 1077, 1076, 1076, 1076, 1076, 1075, 1075, 1075, 1075, 1075, 1074, 1073, 1072, 1072, 1072, 1071, 1071, 1071, 1071, 1071, 1071, 1071, 1071, 1071, 1071, 1071, 1070, 1070, 1070, 1069, 1069, 1069, 1069, 1068, 1068, 1068, 1068, 1068, 1067, 1067, 1067, 1066, 1066, 1066, 1066, 1065, 1065, 1064, 1064, 1063, 1063, 1062, 1061, 1061, 1061, 1061, 1061, 1060, 1060, 1060, 1060, 1059, 1059, 1059, 1059, 1058, 1058, 1057, 1056, 1056, 1056, 1055, 1055, 1055, 1055, 1055, 1055, 1054, 1054, 1053, 1053, 1053, 1053, 1052, 1052, 1052, 1052, 1051, 1051, 1051, 1050, 1050, 1050, 1049, 1049, 1049, 1048, 1048, 1048, 1047, 1047, 1047, 1047, 1046, 1046, 1046, 1046, 1046, 1046, 1046, 1046, 1046, 1046, 1045, 1045, 1045, 1045, 1044, 1044, 1043, 1043, 1042, 1042, 1042, 1042, 1041, 1041, 1041, 1041, 1040, 1040, 1039, 1038, 1038, 1037, 1037, 1037, 1037, 1037, 1036, 1036, 1036, 1035, 1035, 1035, 1035, 1034, 1034, 1033, 1033, 1033, 1032, 1032, 1031, 1031, 1031, 1030, 1030, 1030, 1030, 1029, 1029, 1029, 1028, 1028, 1028, 1028, 1028, 1027, 1027, 1026, 1026, 1026, 1026, 1026, 1025, 1025, 1025, 1025, 1024, 1024, 1024, 1024, 1024, 1024, 1024, 1023, 1023, 1023, 1023, 1022, 1022, 1022, 1022, 1021, 1021, 1021, 1020, 1020, 1020, 1020, 1020, 1020, 1019, 1019, 1019, 1019, 1019, 1018, 1018, 1018, 1017, 1017, 1016, 1016, 1016, 1016, 1015, 1015, 1015, 1015, 1014, 1013, 1013, 1012, 1012, 1012, 1012, 1011, 1011, 1011, 1011, 1010, 1010, 1010, 1010, 1010, 1010, 1009, 1009, 1009, 1009, 1008, 1008, 1008, 1007, 1007, 1007, 1007, 1007, 1007, 1007, 1007, 1007, 1006, 1006, 1006, 1006, 1006, 1005, 1005, 1005, 1004, 1004, 1004, 1003, 1003, 1003, 1003, 1003, 1002, 1001, 1001, 1001, 1001]\n",
      "_______________________________________________________________________________________________________\n"
     ]
    },
    {
     "name": "stdout",
     "output_type": "stream",
     "text": [
      "<_io.TextIOWrapper name='10^8_z_14.txt' mode='r' encoding='UTF-8'>\n",
      "[1, 2, 3, 4, 5, 6, 7, 8, 9, 10, 11, 12, 13, 14, 15, 16, 17, 18, 19, 20, 21, 22, 23, 24, 25, 26, 27, 28, 29, 30, 31, 32, 33, 34, 35, 36, 37, 38, 39, 40, 41, 42, 43, 44, 45, 46, 47, 48, 49, 50, 51, 52, 53, 54, 55, 56, 57, 58, 59, 60, 61, 62, 63, 64, 65, 66, 67, 68, 69, 70, 71, 72, 73, 74, 75, 76, 77, 78, 79, 80, 81, 82, 83, 84, 85, 86, 87, 88, 89, 90, 91, 92, 93, 94, 95, 96, 97, 98, 99, 100, 101, 102, 103, 104, 105, 106, 107, 108, 109, 110, 111, 112, 113, 114, 115, 116, 117, 118, 119, 120, 121, 122, 123, 124, 125, 126, 127, 128, 129, 130, 131, 132, 133, 134, 135, 136, 137, 138, 139, 140, 141, 142, 143, 144, 145, 146, 147, 149, 148, 150, 151, 152, 154, 153, 155, 156, 157, 158, 159, 160, 161, 162, 163, 164, 165, 166, 167, 168, 169, 170, 171, 173, 172, 174, 175, 176, 177, 179, 178, 180, 182, 181, 183, 184, 185, 186, 188, 187, 189, 190, 191, 193, 192, 194, 195, 196, 197, 198, 199, 200, 201, 203, 202, 204, 205, 206, 207, 209, 208, 211, 210, 212, 213, 216, 215, 214, 218, 217, 221, 219, 220, 224, 223, 222, 225, 226, 227, 228, 229, 230, 231, 232, 235, 234, 233, 238, 236, 237, 240, 239, 244, 242, 243, 247, 241, 246, 245, 248, 250, 251, 252, 249, 253, 255, 254, 258, 256, 257, 261, 259, 262, 260, 264, 263, 265, 267, 271, 268, 266, 269, 270, 272, 276, 279, 278, 277, 273, 275, 274, 282, 281, 280, 283, 284, 285, 288, 286, 287, 293, 290, 289, 292, 294, 291, 295, 296, 299, 301, 297, 300, 298, 302, 303, 309, 306, 304, 305, 307, 308, 310, 311, 312, 313, 314, 316, 315, 318, 320, 317, 319, 321, 323, 324, 322, 328, 325, 326, 329, 327, 334, 338, 330, 336, 331, 333, 332, 335, 339, 337, 340, 343, 348, 341, 345, 347, 342, 346, 344, 352, 350, 349, 353, 351, 354, 356, 359, 355, 357, 358, 360, 362, 361, 368, 363, 364, 372, 365, 367, 370, 366, 369, 371, 375, 374, 382, 373, 377, 378, 376, 381, 380, 379, 383, 384, 387, 385, 390, 389, 386, 388, 398, 392, 395, 393, 394, 396, 391, 397, 400, 402, 399, 404, 401, 405, 403, 406, 409, 407, 411, 412, 410, 416, 417, 408, 421, 414, 413, 418, 424, 423, 415, 428, 420, 425, 419, 426, 434, 422, 431, 429, 432, 435, 433, 427, 430, 437, 438, 439, 440, 442, 441, 444, 446, 449, 436, 448, 443, 450, 453, 447, 445, 454, 452, 451, 457, 456, 458, 455, 465, 466, 462, 460, 463, 459, 464, 467, 469, 461, 470, 472, 477, 471, 473, 468, 474, 475, 478, 476, 479, 486, 484, 481, 495, 480, 485, 483, 491, 494, 498, 497, 489, 487, 482, 490, 492, 488, 493, 496, 499, 500, 509, 504, 508, 502, 510, 515, 506, 505, 501, 507, 503, 514, 516, 512, 522, 511, 518, 517, 525, 513, 520, 521, 527, 523, 534, 529, 519, 524, 533, 540, 532, 530, 526, 531, 536, 546, 541, 535, 528, 538, 539, 545, 549, 543, 556, 550, 552, 537, 542, 544, 553, 551, 547, 559, 562, 560, 565, 548, 568, 555, 557, 564, 570, 554, 563, 558, 561, 571, 577, 566, 569, 579, 575, 567, 572, 581, 573, 585, 574, 580, 586, 595, 576, 584, 578, 589, 591, 590, 582, 592, 593, 587, 594, 588, 583, 599, 608, 602, 613, 598, 604, 596, 609, 597, 603, 601, 614, 605, 606, 615, 618, 600, 629, 620, 610, 623, 607, 619, 617, 624, 612, 611, 616, 628, 626, 622, 630, 636, 631, 632, 625, 633, 621, 635, 641, 645, 634, 627, 637, 644, 655, 643, 640, 653, 638, 642, 639, 661, 664, 649, 646, 659, 648, 668, 651, 658, 660, 663, 669, 647, 654, 666, 667, 657, 650, 671, 652, 674, 675, 672, 670, 678, 676, 680, 673, 665, 686, 690, 662, 656, 679, 677, 684, 691, 682, 685, 689, 681, 692, 683, 688, 704, 698, 695, 696, 699, 697, 693, 687, 705, 718, 709, 701, 703, 702, 700, 706, 712, 714, 707, 715, 722, 708, 739, 719, 725, 713, 721, 694, 731, 728, 736, 744, 720, 716, 735, 717, 711, 734, 724, 710, 730, 737, 723, 729, 742, 727, 747, 745, 738, 726, 756, 732, 746, 733, 741, 743, 760, 757, 740, 758, 785, 767, 748, 749, 753, 750, 752, 759, 755, 751, 778, 764, 766, 754, 763, 765, 768, 774, 762, 776, 769, 761, 788, 772, 794, 780, 773, 782, 770, 802, 781, 779, 771, 786, 800, 787, 777, 775, 789, 792, 811, 797, 798, 793, 783, 804, 795, 813, 826, 791, 799, 784, 817, 818, 803, 812, 790, 819, 825, 828, 816, 806, 814, 827, 810, 808, 820, 815, 796, 837, 809, 801, 833, 829, 835, 824, 822, 845, 839, 830, 807, 838, 805, 823, 821, 849, 841, 836, 831, 843, 834, 854, 853, 842, 856, 844, 840, 848, 850, 851, 862, 852, 860, 864, 847, 882, 846, 870, 885, 855, 859, 877, 832, 879, 878, 868, 858, 875, 861, 892, 874, 895, 876, 884, 863, 866, 872, 857, 871, 888, 881, 865, 890, 869, 889, 896, 873, 893, 867, 897, 886, 902, 921, 910, 880, 887, 933, 901, 898, 900, 899, 925, 883, 903, 952, 918, 894, 912, 928, 915, 904, 908, 924, 906, 929, 958, 891, 907, 914, 916, 911, 909, 919, 936, 917, 923, 926, 913, 939, 931, 905, 950, 930, 965, 935, 942, 927, 934, 949, 948, 932, 943, 920, 961, 947, 922, 946, 945, 937, 944, 940, 951, 953, 982, 955, 956, 957, 963, 966, 967, 938, 941, 960, 973, 968, 959, 986, 970, 954, 971, 977, 991, 995, 1026, 972, 1001, 980, 984, 985, 981, 969, 976, 987, 983, 999, 974, 989, 979, 1011, 975, 964, 962, 978, 1005, 990, 1003, 1009, 1010, 1000, 993, 994, 1039, 1002, 1013, 1016, 1007, 1040, 1017, 1008, 988, 1018, 1028, 996, 998, 992, 1015, 1022, 1029, 1021, 1004, 1034, 1052, 1027, 1023, 1045, 1030, 1006, 1043, 1054, 1025, 1032, 1057, 1042, 997, 1012, 1020, 1014, 1050, 1053, 1031, 1047, 1062, 1036, 1033, 1037, 1060, 1063, 1038, 1059, 1044, 1041, 1019, 1049, 1073, 1081, 1072, 1080, 1071, 1068, 1024, 1035, 1085, 1088, 1058, 1055, 1064, 1092, 1067, 1051, 1076, 1100, 1056, 1097, 1078, 1046, 1111, 1077, 1070, 1121, 1065, 1105, 1082, 1066, 1048, 1079, 1074, 1113, 1075, 1069, 1087, 1061, 1091, 1094, 1093, 1118, 1104, 1089, 1099, 1124, 1106, 1134, 1112, 1090, 1095, 1103, 1143, 1119, 1098, 1123, 1083, 1102, 1125, 1096, 1117, 1108, 1120, 1101, 1084, 1129, 1109, 1141, 1133, 1140, 1107, 1132, 1086, 1122, 1146, 1115, 1154, 1116, 1138, 1128, 1145, 1131, 1159, 1114, 1161, 1136, 1126, 1142, 1156, 1150, 1155, 1153, 1168, 1110, 1163, 1147, 1173, 1149, 1165, 1144, 1197, 1139, 1174, 1171, 1181, 1130, 1193, 1176, 1162, 1170, 1127, 1172, 1177, 1151, 1152, 1157, 1135, 1166, 1178, 1206, 1182, 1148, 1179, 1199, 1137, 1230, 1189, 1169, 1175, 1180, 1222, 1160, 1191, 1202, 1209, 1207, 1164, 1195, 1211, 1185, 1203, 1198, 1205, 1210, 1158, 1196, 1184, 1186, 1167, 1200, 1201, 1188, 1227, 1192, 1194, 1187, 1213, 1219, 1220, 1240, 1245, 1254, 1183, 1233, 1204, 1226, 1241, 1234, 1239, 1268, 1208, 1212, 1228, 1225, 1266, 1223, 1260, 1224, 1264, 1237, 1257, 1215, 1272, 1229, 1247, 1249, 1218, 1277, 1246, 1258, 1217, 1270, 1216, 1252, 1236, 1263, 1190, 1274, 1267, 1288, 1214, 1243, 1244, 1221, 1255, 1251, 1238, 1286, 1301, 1269, 1278, 1232, 1235, 1250, 1283, 1242, 1248, 1256, 1253, 1289, 1297, 1276, 1284, 1231, 1259, 1261, 1279, 1271, 1285, 1313, 1311, 1282, 1287, 1323, 1273, 1341, 1292, 1349, 1275, 1280, 1309, 1265, 1293, 1305, 1316, 1307, 1298, 1295, 1330, 1356, 1304, 1342, 1315, 1294, 1281, 1325, 1324, 1306, 1319, 1312, 1290, 1262, 1296, 1302, 1328, 1308, 1300, 1347, 1339, 1299, 1366, 1321, 1326, 1362, 1303, 1310, 1338, 1375, 1340, 1358, 1322, 1357, 1336, 1353, 1327, 1329, 1291, 1334, 1348, 1314, 1426, 1364, 1355, 1371, 1331, 1320, 1401, 1317, 1337, 1360, 1352, 1384, 1350, 1345, 1354, 1332, 1359, 1335, 1383, 1431, 1399, 1377, 1374, 1333, 1343, 1346, 1380, 1365, 1402, 1368, 1372, 1381, 1370, 1411, 1388, 1398, 1351, 1389, 1318, 1373, 1385, 1397, 1363, 1387, 1369, 1443, 1393, 1379, 1405, 1412, 1376, 1413, 1392, 1407, 1361, 1403, 1421, 1409, 1434, 1416, 1390, 1419, 1391, 1400, 1367, 1406, 1344, 1435, 1396, 1410, 1414, 1420, 1432, 1378, 1425, 1394, 1437, 1386, 1417, 1382, 1423, 1422, 1457, 1438, 1439, 1430, 1418, 1458, 1448, 1444, 1427, 1436, 1404, 1429, 1433, 1428, 1502, 1461, 1479, 1450, 1455, 1478, 1408, 1449, 1441, 1445, 1462, 1469, 1446, 1442, 1493, 1453, 1495, 1440, 1470, 1475, 1451, 1454, 1447, 1501, 1471, 1513, 1452, 1456, 1468, 1395, 1499, 1498, 1482, 1467, 1480, 1534, 1460, 1572, 1500, 1512, 1472, 1486, 1543, 1415, 1424, 1474, 1487, 1520, 1548, 1510, 1506, 1459, 1523, 1496, 1526, 1488, 1503, 1497, 1546, 1490, 1489, 1485, 1528, 1509, 1491, 1522, 1542, 1511, 1476, 1494, 1465, 1532, 1505, 1521, 1536, 1541, 1545, 1584, 1484, 1473, 1463, 1560, 1466, 1516, 1539, 1524, 1569, 1477, 1504, 1552, 1481, 1508, 1538, 1583, 1557, 1554, 1464, 1483, 1514, 1507, 1563, 1582, 1566, 1531, 1517, 1550, 1530, 1529, 1597, 1549, 1492, 1586, 1580, 1515, 1527, 1565, 1544, 1567, 1638, 1555, 1635, 1547, 1608, 1579, 1589, 1610, 1573, 1559, 1570, 1556, 1576, 1568, 1590, 1650, 1619, 1588, 1537, 1626, 1519, 1562, 1540, 1607, 1598, 1577, 1558, 1587, 1525, 1564, 1518, 1599, 1533, 1593, 1612, 1601, 1660, 1551, 1578, 1561, 1632, 1603, 1571, 1648, 1614, 1574, 1634, 1611, 1535, 1627, 1553, 1623, 1618, 1654, 1596, 1617, 1600, 1649, 1620, 1604, 1613, 1609, 1575, 1653, 1651, 1658, 1633, 1624, 1657, 1691, 1644, 1628, 1622, 1710, 1695, 1642, 1636, 1615, 1595, 1592, 1652, 1661, 1700, 1646, 1687, 1681, 1585, 1591, 1659, 1684, 1668, 1605, 1662, 1602, 1594, 1674, 1666, 1677, 1625, 1629, 1664, 1581]\n",
      "[32206349, 12206257, 6919123, 4619932, 3382019, 2620927, 2111860, 1751968, 1484928, 1282038, 1120691, 993768, 886212, 799160, 726744, 662285, 609153, 563203, 521051, 486226, 453773, 424295, 400014, 376553, 354840, 336629, 319359, 303158, 289378, 274388, 264245, 251866, 241184, 231051, 221834, 212605, 205864, 197766, 191012, 183777, 177819, 172502, 165931, 160769, 156257, 150914, 146721, 142064, 138543, 134588, 130605, 127045, 123832, 120981, 117701, 115153, 112304, 109250, 106921, 103883, 102141, 99454, 96998, 95382, 93190, 91700, 89726, 87567, 86081, 84389, 82374, 81103, 79696, 77718, 76469, 74927, 73822, 72448, 70799, 69970, 68816, 67384, 66440, 65371, 64049, 62770, 62059, 61010, 60058, 59196, 58580, 57198, 56419, 55747, 54936, 54410, 53241, 52346, 51712, 50793, 50085, 49623, 49379, 48128, 48023, 46758, 46462, 45895, 45381, 44374, 43995, 43314, 42770, 42704, 41816, 41433, 40963, 40583, 40301, 39503, 39127, 38764, 38069, 37864, 37317, 36625, 36563, 36318, 35737, 35282, 35056, 34685, 34388, 33831, 33250, 33177, 33016, 32686, 32329, 31926, 31593, 31210, 30818, 30710, 30253, 30037, 29619, 29311, 29230, 28848, 28615, 28557, 28099, 28091, 27909, 27298, 27120, 26870, 26428, 26427, 26269, 25928, 25761, 25743, 25552, 25177, 24992, 24532, 24272, 24096, 24094, 23920, 23891, 23628, 23409, 23166, 22978, 22788, 22724, 22458, 22242, 22067, 21950, 21694, 21651, 21620, 21198, 21118, 20766, 20702, 20671, 20614, 20450, 20371, 20103, 20003, 19771, 19673, 19513, 19290, 19245, 19048, 18945, 18916, 18852, 18636, 18578, 18363, 18214, 18053, 17875, 17734, 17710, 17521, 17520, 17265, 17227, 17046, 17007, 16856, 16839, 16761, 16719, 16663, 16520, 16497, 16211, 15961, 15948, 15868, 15767, 15762, 15540, 15500, 15498, 15311, 15294, 15177, 15096, 14951, 14819, 14817, 14717, 14659, 14644, 14546, 14348, 14304, 14187, 14108, 14091, 14058, 13915, 13772, 13725, 13604, 13602, 13505, 13503, 13406, 13289, 13258, 13188, 13077, 13058, 12972, 12839, 12836, 12808, 12792, 12672, 12476, 12367, 12343, 12327, 12259, 12253, 12252, 12166, 12143, 12133, 12096, 11911, 11813, 11748, 11695, 11619, 11523, 11459, 11434, 11426, 11408, 11372, 11215, 11211, 11087, 11064, 11053, 11049, 11018, 10897, 10896, 10742, 10723, 10681, 10673, 10645, 10627, 10501, 10418, 10411, 10390, 10366, 10365, 10298, 10275, 10152, 10152, 10083, 10080, 9988, 9836, 9822, 9788, 9727, 9720, 9684, 9590, 9515, 9509, 9473, 9434, 9424, 9417, 9406, 9353, 9350, 9317, 9250, 9151, 9151, 9070, 9062, 9041, 9026, 9020, 9012, 9004, 8939, 8890, 8878, 8830, 8809, 8705, 8700, 8661, 8618, 8617, 8526, 8523, 8456, 8441, 8408, 8385, 8330, 8266, 8253, 8246, 8226, 8214, 8162, 8135, 8061, 8046, 8021, 7977, 7967, 7964, 7949, 7894, 7886, 7860, 7762, 7732, 7651, 7636, 7621, 7599, 7563, 7540, 7496, 7495, 7455, 7438, 7411, 7409, 7378, 7358, 7315, 7293, 7247, 7230, 7218, 7206, 7175, 7119, 7111, 7080, 7070, 7060, 7007, 6974, 6939, 6927, 6922, 6865, 6858, 6828, 6811, 6789, 6785, 6781, 6779, 6752, 6748, 6711, 6659, 6652, 6630, 6609, 6606, 6591, 6560, 6557, 6488, 6482, 6475, 6467, 6438, 6426, 6409, 6392, 6365, 6344, 6334, 6302, 6241, 6235, 6227, 6216, 6195, 6183, 6165, 6165, 6145, 6084, 6058, 6041, 6037, 6035, 6034, 6030, 6013, 5977, 5930, 5919, 5913, 5865, 5842, 5839, 5824, 5803, 5756, 5754, 5744, 5736, 5730, 5699, 5680, 5671, 5654, 5624, 5614, 5613, 5611, 5590, 5557, 5548, 5545, 5542, 5540, 5509, 5493, 5469, 5439, 5422, 5409, 5406, 5365, 5313, 5299, 5298, 5293, 5288, 5272, 5245, 5239, 5238, 5231, 5217, 5216, 5215, 5185, 5160, 5145, 5120, 5118, 5111, 5092, 5077, 5066, 5061, 5059, 5055, 5033, 5033, 5026, 4991, 4988, 4980, 4975, 4962, 4950, 4918, 4910, 4898, 4894, 4879, 4834, 4815, 4800, 4758, 4756, 4751, 4745, 4736, 4734, 4728, 4722, 4705, 4692, 4660, 4656, 4656, 4643, 4633, 4624, 4622, 4612, 4588, 4588, 4578, 4573, 4563, 4544, 4542, 4530, 4499, 4491, 4479, 4467, 4458, 4452, 4439, 4433, 4430, 4430, 4416, 4409, 4369, 4316, 4315, 4313, 4310, 4309, 4295, 4286, 4277, 4276, 4270, 4268, 4248, 4233, 4224, 4195, 4189, 4186, 4174, 4169, 4152, 4147, 4143, 4138, 4133, 4111, 4104, 4087, 4047, 4041, 4026, 4021, 4013, 4012, 4002, 3997, 3987, 3984, 3983, 3982, 3965, 3964, 3942, 3931, 3896, 3896, 3888, 3869, 3865, 3863, 3852, 3846, 3838, 3826, 3824, 3807, 3804, 3801, 3793, 3793, 3786, 3774, 3753, 3742, 3738, 3730, 3725, 3702, 3698, 3695, 3694, 3694, 3689, 3687, 3679, 3667, 3658, 3654, 3653, 3646, 3641, 3634, 3621, 3597, 3579, 3573, 3570, 3569, 3564, 3559, 3555, 3555, 3545, 3543, 3541, 3539, 3526, 3512, 3506, 3502, 3501, 3483, 3480, 3463, 3459, 3443, 3442, 3440, 3432, 3420, 3415, 3412, 3395, 3390, 3377, 3366, 3362, 3355, 3354, 3350, 3336, 3319, 3312, 3310, 3308, 3301, 3296, 3295, 3280, 3280, 3277, 3269, 3252, 3246, 3239, 3229, 3227, 3217, 3215, 3211, 3191, 3187, 3183, 3178, 3178, 3177, 3175, 3174, 3172, 3167, 3164, 3161, 3152, 3150, 3148, 3146, 3145, 3128, 3122, 3117, 3117, 3114, 3101, 3099, 3089, 3088, 3088, 3073, 3063, 3056, 3055, 3051, 3051, 3043, 3043, 3042, 3041, 3031, 3031, 3013, 3004, 2991, 2984, 2979, 2972, 2960, 2957, 2956, 2952, 2942, 2939, 2931, 2927, 2919, 2910, 2897, 2887, 2886, 2883, 2881, 2873, 2870, 2870, 2867, 2856, 2852, 2852, 2845, 2844, 2836, 2836, 2830, 2829, 2821, 2816, 2816, 2807, 2804, 2790, 2777, 2751, 2747, 2746, 2745, 2742, 2741, 2740, 2716, 2715, 2713, 2712, 2711, 2711, 2702, 2701, 2696, 2693, 2689, 2689, 2687, 2681, 2673, 2673, 2669, 2669, 2666, 2663, 2657, 2654, 2653, 2646, 2632, 2631, 2626, 2626, 2618, 2614, 2592, 2585, 2581, 2580, 2575, 2568, 2566, 2562, 2555, 2554, 2551, 2545, 2533, 2531, 2522, 2522, 2521, 2521, 2513, 2499, 2492, 2489, 2489, 2485, 2484, 2482, 2478, 2477, 2475, 2473, 2472, 2470, 2469, 2469, 2465, 2459, 2458, 2454, 2449, 2448, 2447, 2438, 2438, 2433, 2429, 2423, 2417, 2411, 2407, 2404, 2398, 2394, 2388, 2382, 2382, 2382, 2372, 2369, 2367, 2366, 2362, 2359, 2356, 2355, 2350, 2342, 2336, 2336, 2335, 2319, 2316, 2316, 2315, 2315, 2311, 2309, 2308, 2305, 2302, 2292, 2291, 2290, 2290, 2289, 2283, 2274, 2266, 2262, 2262, 2260, 2255, 2254, 2247, 2246, 2246, 2244, 2244, 2235, 2232, 2229, 2228, 2228, 2227, 2227, 2222, 2212, 2210, 2208, 2208, 2206, 2203, 2202, 2197, 2196, 2195, 2195, 2192, 2191, 2187, 2178, 2174, 2170, 2163, 2160, 2154, 2151, 2150, 2146, 2134, 2133, 2130, 2129, 2116, 2116, 2112, 2109, 2105, 2095, 2093, 2091, 2087, 2087, 2083, 2083, 2078, 2076, 2072, 2070, 2062, 2060, 2059, 2055, 2053, 2052, 2052, 2051, 2051, 2050, 2047, 2044, 2040, 2038, 2029, 2024, 2016, 2009, 2007, 2006, 2001, 2001, 2001, 1996, 1992, 1992, 1991, 1991, 1985, 1983, 1983, 1981, 1981, 1978, 1973, 1972, 1971, 1969, 1965, 1962, 1960, 1954, 1951, 1948, 1948, 1947, 1945, 1945, 1942, 1941, 1933, 1931, 1929, 1929, 1927, 1926, 1926, 1924, 1923, 1920, 1917, 1913, 1910, 1904, 1903, 1901, 1894, 1893, 1889, 1887, 1877, 1877, 1876, 1873, 1872, 1872, 1868, 1867, 1861, 1861, 1860, 1858, 1854, 1853, 1843, 1835, 1835, 1835, 1834, 1833, 1833, 1832, 1829, 1828, 1828, 1828, 1827, 1825, 1824, 1824, 1817, 1816, 1814, 1813, 1811, 1809, 1808, 1806, 1805, 1803, 1802, 1800, 1798, 1794, 1791, 1789, 1789, 1785, 1781, 1781, 1778, 1778, 1777, 1776, 1776, 1773, 1768, 1767, 1765, 1761, 1757, 1757, 1757, 1755, 1754, 1750, 1742, 1742, 1741, 1737, 1734, 1732, 1732, 1724, 1724, 1721, 1715, 1714, 1712, 1706, 1704, 1702, 1701, 1699, 1699, 1697, 1695, 1691, 1690, 1685, 1684, 1683, 1680, 1675, 1672, 1670, 1669, 1665, 1665, 1661, 1660, 1660, 1659, 1656, 1654, 1653, 1652, 1651, 1650, 1650, 1647, 1645, 1644, 1641, 1639, 1638, 1636, 1631, 1630, 1629, 1629, 1628, 1625, 1624, 1620, 1620, 1615, 1615, 1612, 1608, 1607, 1606, 1605, 1600, 1598, 1596, 1593, 1585, 1584, 1578, 1576, 1575, 1574, 1574, 1572, 1571, 1570, 1567, 1567, 1563, 1563, 1562, 1558, 1558, 1555, 1554, 1552, 1552, 1549, 1543, 1541, 1540, 1539, 1539, 1537, 1532, 1532, 1528, 1527, 1521, 1519, 1516, 1516, 1514, 1511, 1510, 1508, 1508, 1507, 1507, 1507, 1506, 1506, 1506, 1506, 1505, 1504, 1502, 1499, 1499, 1498, 1498, 1496, 1496, 1495, 1495, 1493, 1490, 1490, 1489, 1487, 1483, 1481, 1480, 1479, 1478, 1477, 1476, 1474, 1472, 1470, 1469, 1465, 1465, 1462, 1459, 1457, 1456, 1455, 1448, 1444, 1442, 1441, 1440, 1440, 1435, 1433, 1429, 1427, 1425, 1424, 1424, 1423, 1420, 1420, 1419, 1418, 1417, 1416, 1416, 1415, 1414, 1412, 1412, 1405, 1401, 1399, 1399, 1399, 1398, 1396, 1395, 1395, 1391, 1390, 1389, 1388, 1387, 1386, 1381, 1378, 1378, 1378, 1378, 1377, 1376, 1376, 1376, 1371, 1370, 1368, 1367, 1366, 1364, 1364, 1362, 1362, 1361, 1361, 1360, 1358, 1358, 1357, 1356, 1356, 1354, 1354, 1351, 1350, 1345, 1343, 1342, 1342, 1341, 1340, 1337, 1337, 1335, 1330, 1328, 1327, 1327, 1321, 1320, 1319, 1311, 1311, 1310, 1310, 1310, 1309, 1309, 1307, 1306, 1305, 1305, 1303, 1301, 1299, 1296, 1295, 1294, 1294, 1293, 1292, 1291, 1291, 1289, 1288, 1286, 1284, 1283, 1282, 1282, 1281, 1279, 1279, 1276, 1276, 1275, 1272, 1271, 1270, 1270, 1265, 1265, 1265, 1265, 1263, 1261, 1261, 1261, 1259, 1259, 1259, 1257, 1256, 1255, 1255, 1254, 1254, 1254, 1253, 1252, 1250, 1243, 1243, 1242, 1242, 1241, 1239, 1237, 1236, 1236, 1231, 1231, 1231, 1231, 1230, 1229, 1228, 1228, 1227, 1227, 1226, 1226, 1225, 1224, 1224, 1223, 1221, 1221, 1220, 1220, 1219, 1218, 1216, 1215, 1214, 1212, 1210, 1210, 1205, 1205, 1204, 1204, 1203, 1200, 1196, 1195, 1195, 1195, 1195, 1192, 1191, 1191, 1188, 1183, 1182, 1179, 1178, 1178, 1176, 1172, 1170, 1169, 1168, 1167, 1166, 1165, 1161, 1160, 1160, 1158, 1158, 1157, 1157, 1157, 1151, 1150, 1147, 1147, 1146, 1145, 1143, 1143, 1140, 1140, 1138, 1138, 1136, 1135, 1135, 1134, 1133, 1132, 1132, 1131, 1131, 1131, 1131, 1131, 1131, 1130, 1129, 1129, 1128, 1128, 1127, 1126, 1125, 1124, 1123, 1120, 1120, 1119, 1118, 1118, 1117, 1116, 1115, 1115, 1115, 1115, 1111, 1110, 1109, 1109, 1107, 1107, 1107, 1107, 1106, 1104, 1103, 1102, 1101, 1101, 1100, 1099, 1096, 1094, 1093, 1093, 1092, 1089, 1089, 1087, 1086, 1086, 1086, 1084, 1083, 1083, 1077, 1076, 1076, 1076, 1076, 1074, 1073, 1072, 1071, 1070, 1069, 1065, 1065, 1065, 1065, 1063, 1062, 1062, 1061, 1060, 1059, 1059, 1059, 1059, 1058, 1055, 1054, 1054, 1052, 1051, 1051, 1051, 1050, 1050, 1049, 1048, 1048, 1048, 1047, 1046, 1045, 1044, 1041, 1041, 1038, 1037, 1035, 1035, 1035, 1034, 1034, 1034, 1033, 1033, 1033, 1033, 1031, 1030, 1029, 1029, 1029, 1028, 1026, 1026, 1026, 1024, 1022, 1021, 1021, 1020, 1020, 1018, 1016, 1016, 1016, 1015, 1015, 1013, 1012, 1011, 1011, 1010, 1010, 1010, 1007, 1004, 1004, 1003, 1003, 1003, 1001, 1001]\n",
      "_______________________________________________________________________________________________________\n"
     ]
    },
    {
     "name": "stdout",
     "output_type": "stream",
     "text": [
      "<_io.TextIOWrapper name='10^8_z_17.txt' mode='r' encoding='UTF-8'>\n",
      "[1, 2, 3, 4, 5, 6, 7, 8, 9, 10, 11, 12, 13, 14, 15, 16, 17, 18, 19, 20, 21, 22, 23, 24, 25, 26, 27, 28, 29, 30, 31, 32, 33, 34, 35, 36, 37, 38, 39, 40, 41, 42, 43, 44, 45, 46, 47, 48, 49, 50, 51, 52, 53, 54, 55, 56, 57, 58, 59, 60, 61, 62, 63, 64, 65, 66, 67, 68, 69, 70, 71, 72, 73, 74, 75, 76, 77, 78, 79, 80, 81, 82, 83, 84, 85, 86, 87, 88, 89, 90, 91, 92, 93, 94, 95, 96, 97, 98, 99, 100, 101, 102, 103, 104, 105, 106, 107, 108, 109, 110, 111, 112, 113, 114, 115, 116, 117, 118, 119, 120, 121, 122, 123, 124, 125, 126, 128, 127, 129, 130, 132, 131, 133, 134, 135, 136, 137, 138, 139, 140, 142, 141, 143, 144, 145, 147, 146, 148, 150, 149, 152, 151, 153, 154, 155, 156, 157, 160, 159, 158, 161, 162, 164, 163, 167, 165, 166, 168, 170, 169, 171, 173, 172, 174, 175, 176, 177, 178, 179, 183, 180, 181, 184, 182, 185, 187, 189, 186, 188, 190, 191, 194, 195, 193, 192, 197, 198, 199, 196, 200, 203, 201, 202, 204, 206, 205, 208, 211, 207, 209, 212, 213, 214, 210, 216, 215, 217, 220, 221, 219, 218, 222, 224, 223, 228, 225, 227, 226, 229, 231, 230, 235, 232, 233, 236, 237, 234, 241, 238, 239, 240, 242, 244, 243, 247, 245, 246, 249, 254, 248, 250, 257, 252, 253, 256, 251, 262, 261, 255, 258, 259, 260, 263, 265, 264, 266, 270, 269, 268, 267, 273, 272, 271, 275, 278, 281, 274, 276, 279, 282, 280, 277, 284, 283, 291, 287, 285, 286, 292, 290, 294, 288, 293, 297, 289, 300, 295, 296, 302, 301, 306, 311, 307, 298, 304, 303, 299, 305, 309, 313, 308, 315, 312, 310, 316, 319, 314, 324, 318, 320, 317, 327, 322, 323, 325, 321, 332, 334, 326, 331, 330, 328, 336, 340, 333, 343, 338, 329, 335, 339, 337, 347, 344, 341, 348, 351, 342, 355, 345, 346, 350, 353, 356, 352, 354, 359, 358, 360, 361, 349, 362, 367, 366, 364, 357, 368, 363, 369, 365, 371, 370, 375, 379, 374, 378, 373, 376, 384, 386, 388, 372, 380, 382, 391, 385, 383, 387, 399, 377, 381, 402, 392, 395, 389, 390, 393, 398, 394, 405, 406, 403, 404, 401, 397, 414, 396, 410, 400, 407, 412, 409, 418, 422, 419, 416, 426, 415, 420, 411, 425, 408, 428, 421, 417, 413, 424, 430, 431, 427, 439, 433, 429, 423, 434, 446, 442, 435, 440, 437, 444, 432, 438, 441, 448, 460, 443, 445, 436, 451, 447, 449, 458, 452, 453, 454, 455, 463, 450, 462, 464, 457, 468, 465, 459, 469, 466, 471, 461, 467, 479, 456, 476, 473, 470, 474, 488, 475, 480, 487, 483, 477, 482, 481, 486, 485, 472, 491, 490, 484, 478, 494, 493, 502, 492, 495, 500, 496, 497, 512, 508, 501, 503, 489, 498, 517, 507, 516, 504, 518, 506, 510, 514, 522, 509, 505, 523, 533, 532, 526, 499, 530, 511, 524, 549, 519, 515, 531, 513, 521, 520, 527, 525, 528, 529, 541, 537, 543, 546, 536, 535, 548, 540, 551, 557, 545, 534, 560, 550, 542, 547, 563, 552, 544, 555, 575, 569, 572, 554, 539, 561, 567, 556, 582, 559, 538, 562, 558, 568, 565, 553, 586, 577, 571, 566]\n",
      "[48675018, 14983674, 7516540, 4612182, 3156691, 2314469, 1780683, 1418702, 1163566, 973375, 826086, 712852, 621705, 548736, 487524, 437997, 392482, 358198, 325397, 299177, 274935, 253565, 235511, 219511, 204820, 192432, 178926, 169380, 160184, 150371, 141617, 135111, 128243, 120996, 115387, 110759, 104969, 100272, 95923, 91804, 88062, 84484, 81707, 78420, 75287, 72715, 70127, 66893, 65126, 62746, 60930, 59013, 56720, 54949, 53605, 51717, 50425, 49031, 47420, 45963, 45218, 43834, 42598, 41301, 40189, 38723, 38309, 37454, 36382, 35557, 34341, 33843, 32971, 32369, 31543, 30968, 30185, 29443, 29375, 28278, 27669, 27179, 26809, 26126, 25399, 24921, 24673, 23882, 23506, 23076, 22455, 22210, 21778, 21506, 21050, 20650, 20402, 20130, 19742, 19412, 19115, 18799, 18401, 18130, 18022, 17663, 17053, 16885, 16751, 16589, 16509, 16084, 15758, 15383, 15194, 15033, 14910, 14852, 14539, 14216, 14102, 13869, 13761, 13470, 13140, 13096, 12757, 12742, 12508, 12357, 12231, 12178, 12052, 11749, 11533, 11494, 11324, 11173, 10916, 10872, 10772, 10620, 10568, 10358, 10318, 10044, 10009, 9976, 9797, 9698, 9595, 9580, 9496, 9249, 9116, 9013, 8900, 8885, 8752, 8748, 8653, 8485, 8466, 8406, 8255, 8231, 8197, 8071, 8030, 8014, 7836, 7684, 7541, 7478, 7445, 7438, 7280, 7263, 7220, 7092, 7085, 7068, 6938, 6848, 6770, 6673, 6664, 6628, 6614, 6567, 6414, 6412, 6349, 6318, 6315, 6308, 6128, 6109, 6059, 5959, 5935, 5881, 5786, 5688, 5681, 5597, 5596, 5574, 5566, 5539, 5427, 5379, 5377, 5356, 5259, 5211, 5170, 5147, 5119, 5074, 5043, 4982, 4978, 4908, 4897, 4889, 4854, 4835, 4814, 4693, 4656, 4646, 4618, 4591, 4587, 4547, 4544, 4470, 4410, 4383, 4378, 4334, 4293, 4279, 4238, 4200, 4194, 4173, 4098, 4096, 4069, 4042, 4024, 4009, 3961, 3945, 3877, 3857, 3830, 3817, 3813, 3808, 3786, 3715, 3668, 3661, 3651, 3647, 3631, 3628, 3608, 3583, 3533, 3493, 3486, 3451, 3426, 3409, 3356, 3328, 3326, 3317, 3310, 3305, 3295, 3284, 3276, 3247, 3186, 3175, 3136, 3119, 3109, 3089, 3072, 3062, 3016, 3006, 2969, 2941, 2938, 2928, 2922, 2921, 2917, 2899, 2873, 2854, 2845, 2841, 2826, 2790, 2769, 2759, 2755, 2748, 2740, 2714, 2709, 2707, 2702, 2688, 2628, 2623, 2617, 2609, 2575, 2556, 2552, 2550, 2547, 2545, 2506, 2503, 2502, 2464, 2451, 2439, 2434, 2431, 2428, 2406, 2400, 2389, 2353, 2329, 2324, 2323, 2314, 2313, 2306, 2289, 2282, 2266, 2256, 2249, 2237, 2229, 2218, 2215, 2193, 2178, 2174, 2161, 2133, 2125, 2125, 2110, 2083, 2081, 2077, 2068, 2060, 2046, 2043, 2018, 2009, 1991, 1984, 1977, 1968, 1967, 1967, 1960, 1953, 1945, 1938, 1921, 1920, 1918, 1895, 1886, 1885, 1883, 1883, 1850, 1844, 1841, 1834, 1831, 1830, 1828, 1819, 1813, 1793, 1783, 1771, 1769, 1756, 1754, 1744, 1743, 1736, 1736, 1727, 1718, 1717, 1712, 1709, 1705, 1700, 1692, 1680, 1673, 1662, 1644, 1639, 1633, 1630, 1614, 1614, 1609, 1602, 1591, 1583, 1580, 1576, 1572, 1566, 1560, 1559, 1558, 1542, 1540, 1532, 1529, 1525, 1515, 1515, 1509, 1508, 1508, 1504, 1499, 1494, 1484, 1483, 1482, 1475, 1470, 1464, 1449, 1437, 1436, 1430, 1410, 1401, 1401, 1395, 1394, 1393, 1386, 1386, 1384, 1379, 1378, 1374, 1373, 1362, 1355, 1353, 1338, 1333, 1332, 1327, 1326, 1325, 1320, 1311, 1302, 1295, 1293, 1290, 1285, 1285, 1277, 1273, 1271, 1268, 1263, 1257, 1251, 1242, 1241, 1239, 1235, 1230, 1227, 1223, 1221, 1219, 1218, 1212, 1210, 1198, 1197, 1194, 1187, 1181, 1180, 1170, 1169, 1167, 1159, 1153, 1152, 1149, 1146, 1144, 1143, 1139, 1132, 1124, 1110, 1108, 1107, 1106, 1103, 1101, 1100, 1096, 1094, 1093, 1093, 1088, 1085, 1084, 1082, 1079, 1068, 1054, 1050, 1044, 1041, 1040, 1040, 1039, 1035, 1035, 1034, 1033, 1032, 1028, 1023, 1023, 1022, 1012, 1011, 1009, 1009, 1007, 1006, 1001, 1001]\n",
      "_______________________________________________________________________________________________________\n",
      "<_io.TextIOWrapper name='10^8_z_20.txt' mode='r' encoding='UTF-8'>\n",
      "[1, 2, 3, 4, 5, 6, 7, 8, 9, 10, 11, 12, 13, 14, 15, 16, 17, 18, 19, 20, 21, 22, 23, 24, 25, 26, 27, 28, 29, 30, 31, 32, 33, 34, 35, 36, 37, 38, 39, 40, 41, 42, 43, 44, 45, 46, 47, 48, 49, 50, 51, 52, 53, 54, 55, 56, 57, 58, 59, 60, 61, 62, 63, 64, 65, 66, 67, 68, 69, 70, 71, 72, 73, 74, 75, 76, 77, 78, 79, 80, 81, 82, 83, 85, 84, 86, 87, 88, 89, 90, 91, 93, 92, 94, 96, 95, 97, 98, 99, 100, 101, 103, 102, 106, 104, 105, 107, 108, 109, 110, 111, 112, 114, 113, 115, 116, 117, 118, 119, 120, 121, 122, 123, 124, 125, 126, 127, 128, 129, 130, 131, 132, 133, 134, 135, 136, 138, 137, 141, 139, 140, 142, 143, 144, 146, 147, 145, 150, 148, 149, 151, 152, 153, 155, 157, 158, 154, 156, 159, 161, 160, 162, 163, 164, 166, 168, 165, 170, 167, 169, 171, 173, 174, 177, 175, 176, 172, 180, 179, 178, 181, 182, 184, 183, 185, 186, 188, 189, 187, 190, 191, 192, 193, 195, 194, 198, 197, 196, 200, 199, 203, 201, 208, 202, 206, 205, 211, 207, 210, 204, 213, 212, 215, 216, 209, 219, 217, 218, 214, 222, 221, 225, 220, 228, 224, 226, 223, 229, 231, 227, 230, 232, 236, 234, 238, 235, 233, 241, 249, 240, 239, 237, 242, 245]\n",
      "[60789065, 15200361, 6755060, 3796533, 2430400, 1688135, 1242311, 950505, 751103, 608129, 502371, 423332, 361217, 310596, 270076, 237268, 210496, 187388, 168748, 152282, 138145, 125395, 114784, 105498, 97052, 89881, 83657, 77575, 72234, 67977, 63434, 59400, 56009, 52072, 49790, 47116, 43974, 41913, 40020, 37890, 36500, 34434, 32884, 31105, 30039, 28275, 27637, 26379, 25609, 24473, 23530, 22460, 21632, 20607, 20221, 19457, 18709, 18126, 17258, 16919, 16044, 15774, 15467, 14524, 14463, 13908, 13227, 12865, 12713, 12478, 12184, 11796, 11203, 11131, 10858, 10373, 10156, 9950, 9837, 9631, 9375, 9075, 8829, 8549, 8483, 8215, 7935, 7808, 7617, 7501, 7249, 7094, 7049, 6793, 6753, 6710, 6320, 6302, 6166, 6073, 6005, 5819, 5739, 5536, 5532, 5511, 5393, 5161, 5083, 4956, 4898, 4857, 4792, 4774, 4567, 4524, 4464, 4382, 4249, 4218, 4203, 4074, 4045, 4005, 3927, 3810, 3772, 3727, 3686, 3576, 3537, 3486, 3417, 3401, 3326, 3306, 3246, 3238, 3177, 3155, 3070, 3066, 3040, 2945, 2939, 2865, 2862, 2778, 2753, 2729, 2643, 2629, 2613, 2548, 2532, 2517, 2513, 2492, 2437, 2373, 2356, 2335, 2292, 2216, 2192, 2173, 2160, 2092, 2082, 2017, 2015, 2003, 1987, 1980, 1979, 1967, 1957, 1947, 1927, 1903, 1876, 1839, 1819, 1816, 1788, 1753, 1717, 1716, 1712, 1711, 1710, 1708, 1669, 1654, 1634, 1606, 1604, 1538, 1506, 1484, 1481, 1474, 1471, 1462, 1448, 1439, 1427, 1417, 1394, 1386, 1375, 1349, 1342, 1336, 1335, 1310, 1297, 1286, 1283, 1277, 1252, 1250, 1226, 1221, 1196, 1193, 1186, 1184, 1178, 1151, 1136, 1130, 1110, 1108, 1106, 1105, 1089, 1082, 1062, 1062, 1051, 1037, 1018, 1004]\n",
      "_______________________________________________________________________________________________________\n"
     ]
    }
   ],
   "source": [
    "percent = 0.00001\n",
    "real_heavy_hitter_11_s5 = find_real_heavy_hitter(Z_11, num_data, percent)\n",
    "real_heavy_hitter_14_s5 = find_real_heavy_hitter(Z_14, num_data, percent)\n",
    "real_heavy_hitter_17_s5 = find_real_heavy_hitter(Z_17, num_data, percent)\n",
    "real_heavy_hitter_20_s5 = find_real_heavy_hitter(Z_20, num_data, percent)"
   ]
  },
  {
   "cell_type": "code",
   "execution_count": 131,
   "metadata": {},
   "outputs": [],
   "source": [
    "real_heavy_hitter_11 = [real_heavy_hitter_11_s1, real_heavy_hitter_11_s2, real_heavy_hitter_11_s3, real_heavy_hitter_11_s4, real_heavy_hitter_11_s5]\n",
    "real_heavy_hitter_14 = [real_heavy_hitter_14_s1, real_heavy_hitter_14_s2, real_heavy_hitter_14_s3, real_heavy_hitter_14_s4, real_heavy_hitter_14_s5]\n",
    "real_heavy_hitter_17 = [real_heavy_hitter_17_s1, real_heavy_hitter_17_s2, real_heavy_hitter_17_s3, real_heavy_hitter_17_s4, real_heavy_hitter_17_s5]\n",
    "real_heavy_hitter_20 = [real_heavy_hitter_20_s1, real_heavy_hitter_20_s2, real_heavy_hitter_20_s3, real_heavy_hitter_20_s4, real_heavy_hitter_20_s5]"
   ]
  },
  {
   "cell_type": "code",
   "execution_count": 132,
   "metadata": {},
   "outputs": [],
   "source": [
    "def get_heavy_hitter_result(filename):\n",
    "    items = []\n",
    "    est_freqs = []\n",
    "\n",
    "    for output in filename:\n",
    "        item, freq = output.split(\",\")\n",
    "\n",
    "        items.append(int(item))\n",
    "        est_freqs.append(int(freq.rstrip(\"\\n\")))\n",
    "\n",
    "    return (items, est_freqs)"
   ]
  },
  {
   "cell_type": "code",
   "execution_count": 133,
   "metadata": {},
   "outputs": [],
   "source": [
    "Space_O_11_heavy_hitter_s1 = get_heavy_hitter_result(Space_O_11_s1)\n",
    "Space_AO_11_heavy_hitter_s1 = get_heavy_hitter_result(Space_AO_11_s1)\n",
    "Space_O_14_heavy_hitter_s1 = get_heavy_hitter_result(Space_O_14_s1)\n",
    "Space_AO_14_heavy_hitter_s1 = get_heavy_hitter_result(Space_AO_14_s1)\n",
    "Space_O_17_heavy_hitter_s1 = get_heavy_hitter_result(Space_O_17_s1)\n",
    "Space_AO_17_heavy_hitter_s1 = get_heavy_hitter_result(Space_AO_17_s1)\n",
    "Space_O_20_heavy_hitter_s1 = get_heavy_hitter_result(Space_O_20_s1)\n",
    "Space_AO_20_heavy_hitter_s1 = get_heavy_hitter_result(Space_AO_20_s1)"
   ]
  },
  {
   "cell_type": "code",
   "execution_count": 134,
   "metadata": {},
   "outputs": [],
   "source": [
    "Space_O_11_heavy_hitter_s2 = get_heavy_hitter_result(Space_O_11_s2)\n",
    "Space_AO_11_heavy_hitter_s2 = get_heavy_hitter_result(Space_AO_11_s2)\n",
    "Space_O_14_heavy_hitter_s2 = get_heavy_hitter_result(Space_O_14_s2)\n",
    "Space_AO_14_heavy_hitter_s2 = get_heavy_hitter_result(Space_AO_14_s2)\n",
    "Space_O_17_heavy_hitter_s2 = get_heavy_hitter_result(Space_O_17_s2)\n",
    "Space_AO_17_heavy_hitter_s2 = get_heavy_hitter_result(Space_AO_17_s2)\n",
    "Space_O_20_heavy_hitter_s2 = get_heavy_hitter_result(Space_O_20_s2)\n",
    "Space_AO_20_heavy_hitter_s2 = get_heavy_hitter_result(Space_AO_20_s2)"
   ]
  },
  {
   "cell_type": "code",
   "execution_count": 135,
   "metadata": {},
   "outputs": [],
   "source": [
    "Space_O_11_heavy_hitter_s3 = get_heavy_hitter_result(Space_O_11_s3)\n",
    "Space_AO_11_heavy_hitter_s3 = get_heavy_hitter_result(Space_AO_11_s3)\n",
    "Space_O_14_heavy_hitter_s3 = get_heavy_hitter_result(Space_O_14_s3)\n",
    "Space_AO_14_heavy_hitter_s3 = get_heavy_hitter_result(Space_AO_14_s3)\n",
    "Space_O_17_heavy_hitter_s3 = get_heavy_hitter_result(Space_O_17_s3)\n",
    "Space_AO_17_heavy_hitter_s3 = get_heavy_hitter_result(Space_AO_17_s3)\n",
    "Space_O_20_heavy_hitter_s3 = get_heavy_hitter_result(Space_O_20_s3)\n",
    "Space_AO_20_heavy_hitter_s3 = get_heavy_hitter_result(Space_AO_20_s3)"
   ]
  },
  {
   "cell_type": "code",
   "execution_count": 136,
   "metadata": {},
   "outputs": [],
   "source": [
    "Space_O_11_heavy_hitter_s4 = get_heavy_hitter_result(Space_O_11_s4)\n",
    "Space_AO_11_heavy_hitter_s4 = get_heavy_hitter_result(Space_AO_11_s4)\n",
    "Space_O_14_heavy_hitter_s4 = get_heavy_hitter_result(Space_O_14_s4)\n",
    "Space_AO_14_heavy_hitter_s4 = get_heavy_hitter_result(Space_AO_14_s4)\n",
    "Space_O_17_heavy_hitter_s4 = get_heavy_hitter_result(Space_O_17_s4)\n",
    "Space_AO_17_heavy_hitter_s4 = get_heavy_hitter_result(Space_AO_17_s4)\n",
    "Space_O_20_heavy_hitter_s4 = get_heavy_hitter_result(Space_O_20_s4)\n",
    "Space_AO_20_heavy_hitter_s4 = get_heavy_hitter_result(Space_AO_20_s4)"
   ]
  },
  {
   "cell_type": "code",
   "execution_count": 137,
   "metadata": {},
   "outputs": [],
   "source": [
    "Space_O_11_heavy_hitter_s5 = get_heavy_hitter_result(Space_O_11_s5)\n",
    "Space_AO_11_heavy_hitter_s5 = get_heavy_hitter_result(Space_AO_11_s5)\n",
    "Space_O_14_heavy_hitter_s5 = get_heavy_hitter_result(Space_O_14_s5)\n",
    "Space_AO_14_heavy_hitter_s5 = get_heavy_hitter_result(Space_AO_14_s5)\n",
    "Space_O_17_heavy_hitter_s5 = get_heavy_hitter_result(Space_O_17_s5)\n",
    "Space_AO_17_heavy_hitter_s5 = get_heavy_hitter_result(Space_AO_17_s5)\n",
    "Space_O_20_heavy_hitter_s5 = get_heavy_hitter_result(Space_O_20_s5)\n",
    "Space_AO_20_heavy_hitter_s5 = get_heavy_hitter_result(Space_AO_20_s5)"
   ]
  },
  {
   "cell_type": "code",
   "execution_count": 138,
   "metadata": {},
   "outputs": [],
   "source": [
    "Z_11_output = [Space_O_11_heavy_hitter_s1, Space_O_11_heavy_hitter_s2, Space_O_11_heavy_hitter_s3, Space_O_11_heavy_hitter_s4, Space_O_11_heavy_hitter_s5]\n",
    "Z_14_output = [Space_O_14_heavy_hitter_s1, Space_O_14_heavy_hitter_s2, Space_O_14_heavy_hitter_s3, Space_O_14_heavy_hitter_s4, Space_O_14_heavy_hitter_s5]\n",
    "Z_17_output = [Space_O_17_heavy_hitter_s1, Space_O_17_heavy_hitter_s2, Space_O_17_heavy_hitter_s3, Space_O_17_heavy_hitter_s4, Space_O_17_heavy_hitter_s5]\n",
    "Z_20_output = [Space_O_20_heavy_hitter_s1, Space_O_20_heavy_hitter_s2, Space_O_20_heavy_hitter_s3, Space_O_20_heavy_hitter_s4, Space_O_20_heavy_hitter_s5]"
   ]
  },
  {
   "cell_type": "code",
   "execution_count": 139,
   "metadata": {},
   "outputs": [],
   "source": [
    "Z_11_all_output = [Space_AO_11_heavy_hitter_s1, Space_AO_11_heavy_hitter_s2, Space_AO_11_heavy_hitter_s3, Space_AO_11_heavy_hitter_s4, Space_AO_11_heavy_hitter_s5]\n",
    "Z_14_all_output = [Space_AO_14_heavy_hitter_s1, Space_AO_14_heavy_hitter_s2, Space_AO_14_heavy_hitter_s3, Space_AO_14_heavy_hitter_s4, Space_AO_14_heavy_hitter_s5]\n",
    "Z_17_all_output = [Space_AO_17_heavy_hitter_s1, Space_AO_17_heavy_hitter_s2, Space_AO_17_heavy_hitter_s3, Space_AO_17_heavy_hitter_s4, Space_AO_17_heavy_hitter_s5]\n",
    "Z_20_all_output = [Space_AO_20_heavy_hitter_s1, Space_AO_20_heavy_hitter_s2, Space_AO_20_heavy_hitter_s3, Space_AO_20_heavy_hitter_s4, Space_AO_20_heavy_hitter_s5]"
   ]
  },
  {
   "cell_type": "code",
   "execution_count": 140,
   "metadata": {},
   "outputs": [],
   "source": [
    "def heavy_hitter_accuracy(real_heavy_hitter, estimate_heavy_hitter):\n",
    "    \n",
    "    find = list(set(real_heavy_hitter[0]).intersection(estimate_heavy_hitter[0]))\n",
    "    \n",
    "    not_find = list(np.setdiff1d(estimate_heavy_hitter[0], real_heavy_hitter[0])) + list(np.setdiff1d(real_heavy_hitter[0], estimate_heavy_hitter[0]))\n",
    "    \n",
    "    #not_find = list(np.setdiff1d(estimate_heavy_hitter[0], real_heavy_hitter[0]))\n",
    "    \n",
    "    all_items = find + not_find\n",
    "    \n",
    "    return len(find) / len(all_items)"
   ]
  },
  {
   "cell_type": "code",
   "execution_count": 141,
   "metadata": {},
   "outputs": [],
   "source": [
    "Z_11_acc = [heavy_hitter_accuracy(real_heavy_hitter_11[i] , Z_11_output[i]) for i in range(len(Z_11_output))]\n",
    "Z_14_acc = [heavy_hitter_accuracy(real_heavy_hitter_14[i], Z_14_output[i]) for i in range(len(Z_14_output))]\n",
    "Z_17_acc = [heavy_hitter_accuracy(real_heavy_hitter_17[i], Z_17_output[i]) for i in range(len(Z_17_output))]\n",
    "Z_20_acc = [heavy_hitter_accuracy(real_heavy_hitter_20[i], Z_20_output[i]) for i in range(len(Z_20_output))]"
   ]
  },
  {
   "cell_type": "code",
   "execution_count": 142,
   "metadata": {},
   "outputs": [
    {
     "data": {
      "text/plain": [
       "[0.0, 1.0, 1.0, 1.0, 0.13911778962675714]"
      ]
     },
     "execution_count": 142,
     "metadata": {},
     "output_type": "execute_result"
    }
   ],
   "source": [
    "Z_11_acc"
   ]
  },
  {
   "cell_type": "code",
   "execution_count": 143,
   "metadata": {},
   "outputs": [
    {
     "data": {
      "text/plain": [
       "[1.0, 1.0, 1.0, 1.0, 1.0]"
      ]
     },
     "execution_count": 143,
     "metadata": {},
     "output_type": "execute_result"
    }
   ],
   "source": [
    "Z_14_acc"
   ]
  },
  {
   "cell_type": "code",
   "execution_count": 144,
   "metadata": {},
   "outputs": [
    {
     "data": {
      "text/plain": [
       "[1.0, 1.0, 1.0, 1.0, 1.0]"
      ]
     },
     "execution_count": 144,
     "metadata": {},
     "output_type": "execute_result"
    }
   ],
   "source": [
    "Z_17_acc"
   ]
  },
  {
   "cell_type": "code",
   "execution_count": 145,
   "metadata": {},
   "outputs": [
    {
     "data": {
      "text/plain": [
       "[1.0, 1.0, 1.0, 1.0, 1.0]"
      ]
     },
     "execution_count": 145,
     "metadata": {},
     "output_type": "execute_result"
    }
   ],
   "source": [
    "Z_20_acc"
   ]
  },
  {
   "cell_type": "code",
   "execution_count": 146,
   "metadata": {},
   "outputs": [],
   "source": [
    "all_s_acc_result_list = [Z_11_acc, Z_14_acc, Z_17_acc, Z_20_acc]\n",
    "s1_acc_result_list = []\n",
    "s2_acc_result_list = []\n",
    "s3_acc_result_list = []\n",
    "s4_acc_result_list = []\n",
    "s5_acc_result_list = []\n",
    "\n",
    "for s_list in all_s_acc_result_list:\n",
    "    s1_acc_result_list.append(s_list[0])\n",
    "    s2_acc_result_list.append(s_list[1])\n",
    "    s3_acc_result_list.append(s_list[2])\n",
    "    s4_acc_result_list.append(s_list[3])\n",
    "    s5_acc_result_list.append(s_list[4])"
   ]
  },
  {
   "cell_type": "code",
   "execution_count": 147,
   "metadata": {},
   "outputs": [
    {
     "data": {
      "text/plain": [
       "[0.0, 1.0, 1.0, 1.0]"
      ]
     },
     "execution_count": 147,
     "metadata": {},
     "output_type": "execute_result"
    }
   ],
   "source": [
    "s1_acc_result_list"
   ]
  },
  {
   "cell_type": "code",
   "execution_count": 148,
   "metadata": {},
   "outputs": [
    {
     "data": {
      "text/plain": [
       "[1.0, 1.0, 1.0, 1.0]"
      ]
     },
     "execution_count": 148,
     "metadata": {},
     "output_type": "execute_result"
    }
   ],
   "source": [
    "s2_acc_result_list"
   ]
  },
  {
   "cell_type": "code",
   "execution_count": 149,
   "metadata": {},
   "outputs": [
    {
     "data": {
      "text/plain": [
       "[1.0, 1.0, 1.0, 1.0]"
      ]
     },
     "execution_count": 149,
     "metadata": {},
     "output_type": "execute_result"
    }
   ],
   "source": [
    "s3_acc_result_list"
   ]
  },
  {
   "cell_type": "code",
   "execution_count": 150,
   "metadata": {},
   "outputs": [
    {
     "data": {
      "text/plain": [
       "[1.0, 1.0, 1.0, 1.0]"
      ]
     },
     "execution_count": 150,
     "metadata": {},
     "output_type": "execute_result"
    }
   ],
   "source": [
    "s4_acc_result_list"
   ]
  },
  {
   "cell_type": "code",
   "execution_count": 151,
   "metadata": {},
   "outputs": [
    {
     "data": {
      "text/plain": [
       "[0.13911778962675714, 1.0, 1.0, 1.0]"
      ]
     },
     "execution_count": 151,
     "metadata": {},
     "output_type": "execute_result"
    }
   ],
   "source": [
    "s5_acc_result_list"
   ]
  },
  {
   "cell_type": "code",
   "execution_count": 152,
   "metadata": {},
   "outputs": [],
   "source": [
    "def heavy_hitter_precision(real_heavy_hitter, estimate_heavy_hitter):\n",
    "    \n",
    "    find = list(set(real_heavy_hitter[0]).intersection(estimate_heavy_hitter[0]))\n",
    "    \n",
    "    #not_find = list(np.setdiff1d(estimate_heavy_hitter[0], real_heavy_hitter[0])) + list(np.setdiff1d(real_heavy_hitter[0], estimate_heavy_hitter[0]))\n",
    "    \n",
    "    not_find = list(np.setdiff1d(estimate_heavy_hitter[0], real_heavy_hitter[0]))\n",
    "    \n",
    "    all_items = find + not_find\n",
    "    \n",
    "    return len(find) / len(all_items)"
   ]
  },
  {
   "cell_type": "code",
   "execution_count": null,
   "metadata": {},
   "outputs": [],
   "source": []
  },
  {
   "cell_type": "code",
   "execution_count": 153,
   "metadata": {},
   "outputs": [],
   "source": [
    "Z_11_prec = [heavy_hitter_precision(real_heavy_hitter_11[i] , Z_11_output[i]) for i in range(len(Z_11_output))]\n",
    "Z_14_prec = [heavy_hitter_precision(real_heavy_hitter_14[i], Z_14_output[i]) for i in range(len(Z_14_output))]\n",
    "Z_17_prec = [heavy_hitter_precision(real_heavy_hitter_17[i], Z_17_output[i]) for i in range(len(Z_17_output))]\n",
    "Z_20_prec = [heavy_hitter_precision(real_heavy_hitter_20[i], Z_20_output[i]) for i in range(len(Z_20_output))]"
   ]
  },
  {
   "cell_type": "code",
   "execution_count": 154,
   "metadata": {},
   "outputs": [
    {
     "data": {
      "text/plain": [
       "[0.0, 1.0, 1.0, 1.0, 1.0]"
      ]
     },
     "execution_count": 154,
     "metadata": {},
     "output_type": "execute_result"
    }
   ],
   "source": [
    "Z_11_prec"
   ]
  },
  {
   "cell_type": "code",
   "execution_count": 155,
   "metadata": {},
   "outputs": [
    {
     "data": {
      "text/plain": [
       "[1.0, 1.0, 1.0, 1.0, 1.0]"
      ]
     },
     "execution_count": 155,
     "metadata": {},
     "output_type": "execute_result"
    }
   ],
   "source": [
    "Z_14_prec"
   ]
  },
  {
   "cell_type": "code",
   "execution_count": 156,
   "metadata": {},
   "outputs": [
    {
     "data": {
      "text/plain": [
       "[1.0, 1.0, 1.0, 1.0, 1.0]"
      ]
     },
     "execution_count": 156,
     "metadata": {},
     "output_type": "execute_result"
    }
   ],
   "source": [
    "Z_17_prec"
   ]
  },
  {
   "cell_type": "code",
   "execution_count": 157,
   "metadata": {},
   "outputs": [
    {
     "data": {
      "text/plain": [
       "[1.0, 1.0, 1.0, 1.0, 1.0]"
      ]
     },
     "execution_count": 157,
     "metadata": {},
     "output_type": "execute_result"
    }
   ],
   "source": [
    "Z_20_prec"
   ]
  },
  {
   "cell_type": "code",
   "execution_count": 159,
   "metadata": {},
   "outputs": [],
   "source": [
    "all_s_prec_result_list = [Z_11_prec, Z_14_prec, Z_17_prec, Z_20_prec]\n",
    "s1_prec_result_list = []\n",
    "s2_prec_result_list = []\n",
    "s3_prec_result_list = []\n",
    "s4_prec_result_list = []\n",
    "s5_prec_result_list = []\n",
    "\n",
    "for s_list in all_s_prec_result_list:\n",
    "    s1_prec_result_list.append(s_list[0])\n",
    "    s2_prec_result_list.append(s_list[1])\n",
    "    s3_prec_result_list.append(s_list[2])\n",
    "    s4_prec_result_list.append(s_list[3])\n",
    "    s5_prec_result_list.append(s_list[4])"
   ]
  },
  {
   "cell_type": "code",
   "execution_count": 160,
   "metadata": {},
   "outputs": [
    {
     "data": {
      "text/plain": [
       "[0.0, 1.0, 1.0, 1.0]"
      ]
     },
     "execution_count": 160,
     "metadata": {},
     "output_type": "execute_result"
    }
   ],
   "source": [
    "s1_prec_result_list"
   ]
  },
  {
   "cell_type": "code",
   "execution_count": 161,
   "metadata": {},
   "outputs": [
    {
     "data": {
      "text/plain": [
       "[1.0, 1.0, 1.0, 1.0]"
      ]
     },
     "execution_count": 161,
     "metadata": {},
     "output_type": "execute_result"
    }
   ],
   "source": [
    "s2_prec_result_list"
   ]
  },
  {
   "cell_type": "code",
   "execution_count": 162,
   "metadata": {},
   "outputs": [
    {
     "data": {
      "text/plain": [
       "[1.0, 1.0, 1.0, 1.0]"
      ]
     },
     "execution_count": 162,
     "metadata": {},
     "output_type": "execute_result"
    }
   ],
   "source": [
    "s3_prec_result_list"
   ]
  },
  {
   "cell_type": "code",
   "execution_count": 163,
   "metadata": {},
   "outputs": [
    {
     "data": {
      "text/plain": [
       "[1.0, 1.0, 1.0, 1.0]"
      ]
     },
     "execution_count": 163,
     "metadata": {},
     "output_type": "execute_result"
    }
   ],
   "source": [
    "s4_prec_result_list"
   ]
  },
  {
   "cell_type": "code",
   "execution_count": 164,
   "metadata": {},
   "outputs": [
    {
     "data": {
      "text/plain": [
       "[1.0, 1.0, 1.0, 1.0]"
      ]
     },
     "execution_count": 164,
     "metadata": {},
     "output_type": "execute_result"
    }
   ],
   "source": [
    "s5_prec_result_list"
   ]
  },
  {
   "cell_type": "code",
   "execution_count": 165,
   "metadata": {},
   "outputs": [],
   "source": [
    "def avg_re(real_heavy_hitter, estimate_heavy_hitter):\n",
    "    \n",
    "    all_re = []\n",
    "\n",
    "    for item in real_heavy_hitter[0]:\n",
    "        \n",
    "        if item in estimate_heavy_hitter[0]:\n",
    "        \n",
    "            item_index = estimate_heavy_hitter[0].index(item)\n",
    "            est_freq = estimate_heavy_hitter[1][item_index]\n",
    "\n",
    "            real_item_index = real_heavy_hitter[0].index(item)\n",
    "            real_freq = real_heavy_hitter[1][real_item_index]\n",
    "\n",
    "            all_re.append(abs(est_freq - real_freq) /real_freq)\n",
    "        \n",
    "    return np.mean(all_re)"
   ]
  },
  {
   "cell_type": "code",
   "execution_count": 166,
   "metadata": {},
   "outputs": [
    {
     "name": "stderr",
     "output_type": "stream",
     "text": [
      "/Users/iphoneoppa/anaconda3/lib/python3.7/site-packages/numpy/core/fromnumeric.py:3335: RuntimeWarning: Mean of empty slice.\n",
      "  out=out, **kwargs)\n",
      "/Users/iphoneoppa/anaconda3/lib/python3.7/site-packages/numpy/core/_methods.py:161: RuntimeWarning: invalid value encountered in double_scalars\n",
      "  ret = ret.dtype.type(ret / rcount)\n"
     ]
    }
   ],
   "source": [
    "Z_11_avg_re = [avg_re(real_heavy_hitter_11[i] , Z_11_all_output[i]) for i in range(len(Z_11_all_output))]\n",
    "Z_14_avg_re = [avg_re(real_heavy_hitter_14[i], Z_14_all_output[i]) for i in range(len(Z_14_all_output))]\n",
    "Z_17_avg_re = [avg_re(real_heavy_hitter_17[i], Z_17_all_output[i]) for i in range(len(Z_17_all_output))]\n",
    "Z_20_avg_re = [avg_re(real_heavy_hitter_20[i], Z_20_all_output[i]) for i in range(len(Z_20_all_output))]"
   ]
  },
  {
   "cell_type": "code",
   "execution_count": 167,
   "metadata": {},
   "outputs": [
    {
     "data": {
      "text/plain": [
       "[nan, 0.0, 1.328415238492698e-06, 4.070469574945871e-06, 2.027814746651754e-05]"
      ]
     },
     "execution_count": 167,
     "metadata": {},
     "output_type": "execute_result"
    }
   ],
   "source": [
    "Z_11_avg_re"
   ]
  },
  {
   "cell_type": "code",
   "execution_count": 168,
   "metadata": {},
   "outputs": [
    {
     "data": {
      "text/plain": [
       "[0.0, 0.0, 0.0, 0.0, 0.0]"
      ]
     },
     "execution_count": 168,
     "metadata": {},
     "output_type": "execute_result"
    }
   ],
   "source": [
    "Z_14_avg_re"
   ]
  },
  {
   "cell_type": "code",
   "execution_count": 169,
   "metadata": {},
   "outputs": [
    {
     "data": {
      "text/plain": [
       "[0.0, 0.0, 0.0, 0.0, 0.0]"
      ]
     },
     "execution_count": 169,
     "metadata": {},
     "output_type": "execute_result"
    }
   ],
   "source": [
    "Z_17_avg_re"
   ]
  },
  {
   "cell_type": "code",
   "execution_count": 170,
   "metadata": {},
   "outputs": [
    {
     "data": {
      "text/plain": [
       "[0.0, 0.0, 0.0, 0.0, 0.0]"
      ]
     },
     "execution_count": 170,
     "metadata": {},
     "output_type": "execute_result"
    }
   ],
   "source": [
    "Z_20_avg_re"
   ]
  },
  {
   "cell_type": "code",
   "execution_count": 172,
   "metadata": {},
   "outputs": [],
   "source": [
    "all_s_avg_re_result_list = [Z_11_avg_re, Z_14_avg_re, Z_17_avg_re, Z_20_avg_re]\n",
    "s1_avg_re_result_list = []\n",
    "s2_avg_re_result_list = []\n",
    "s3_avg_re_result_list = []\n",
    "s4_avg_re_result_list = []\n",
    "s5_avg_re_result_list = []\n",
    "\n",
    "for s_list in all_s_avg_re_result_list:\n",
    "    s1_avg_re_result_list.append(s_list[0])\n",
    "    s2_avg_re_result_list.append(s_list[1])\n",
    "    s3_avg_re_result_list.append(s_list[2])\n",
    "    s4_avg_re_result_list.append(s_list[3])\n",
    "    s5_avg_re_result_list.append(s_list[4])"
   ]
  },
  {
   "cell_type": "code",
   "execution_count": 173,
   "metadata": {},
   "outputs": [
    {
     "data": {
      "text/plain": [
       "[nan, 0.0, 0.0, 0.0]"
      ]
     },
     "execution_count": 173,
     "metadata": {},
     "output_type": "execute_result"
    }
   ],
   "source": [
    "s1_avg_re_result_list"
   ]
  },
  {
   "cell_type": "code",
   "execution_count": 174,
   "metadata": {},
   "outputs": [
    {
     "data": {
      "text/plain": [
       "[0.0, 0.0, 0.0, 0.0]"
      ]
     },
     "execution_count": 174,
     "metadata": {},
     "output_type": "execute_result"
    }
   ],
   "source": [
    "s2_avg_re_result_list"
   ]
  },
  {
   "cell_type": "code",
   "execution_count": 175,
   "metadata": {},
   "outputs": [
    {
     "data": {
      "text/plain": [
       "[1.328415238492698e-06, 0.0, 0.0, 0.0]"
      ]
     },
     "execution_count": 175,
     "metadata": {},
     "output_type": "execute_result"
    }
   ],
   "source": [
    "s3_avg_re_result_list"
   ]
  },
  {
   "cell_type": "code",
   "execution_count": 176,
   "metadata": {},
   "outputs": [
    {
     "data": {
      "text/plain": [
       "[4.070469574945871e-06, 0.0, 0.0, 0.0]"
      ]
     },
     "execution_count": 176,
     "metadata": {},
     "output_type": "execute_result"
    }
   ],
   "source": [
    "s4_avg_re_result_list"
   ]
  },
  {
   "cell_type": "code",
   "execution_count": 177,
   "metadata": {},
   "outputs": [
    {
     "data": {
      "text/plain": [
       "[2.027814746651754e-05, 0.0, 0.0, 0.0]"
      ]
     },
     "execution_count": 177,
     "metadata": {},
     "output_type": "execute_result"
    }
   ],
   "source": [
    "s5_avg_re_result_list"
   ]
  },
  {
   "cell_type": "code",
   "execution_count": 217,
   "metadata": {},
   "outputs": [
    {
     "data": {
      "image/png": "[encoded data removed]",
      "text/plain": [
       "<Figure size 432x288 with 1 Axes>"
      ]
     },
     "metadata": {
      "needs_background": "light"
     },
     "output_type": "display_data"
    }
   ],
   "source": [
    "s = [1, 2, 3, 4, 5]\n",
    "plt.plot( s, Z_11_memory_result, 'ko-', label='z = 1.1')\n",
    "plt.plot( s, Z_14_memory_result, 'ks--', label='z = 1.4')\n",
    "plt.plot( s, Z_17_memory_result, '^k:', label='z = 1.7')\n",
    "plt.plot( s, Z_20_memory_result, '*k-.', label='z = 2.0')\n",
    "plt.title(\"Memory Comparison on Different s\")\n",
    "plt.xlabel(\"s (10^x)\")\n",
    "plt.ylabel(\"Memory (kB)\")\n",
    "plt.legend(loc='upper left')\n",
    "plt.show()"
   ]
  },
  {
   "cell_type": "code",
   "execution_count": 220,
   "metadata": {},
   "outputs": [
    {
     "data": {
      "image/png": "[encoded data removed]",
      "text/plain": [
       "<Figure size 432x288 with 1 Axes>"
      ]
     },
     "metadata": {
      "needs_background": "light"
     },
     "output_type": "display_data"
    }
   ],
   "source": [
    "s = [1, 2, 3, 4, 5]\n",
    "plt.plot( s, Z_11_time_result, 'ko-', label='z = 1.1')\n",
    "plt.plot( s, Z_14_time_result, 'ks--', label='z = 1.4')\n",
    "plt.plot( s, Z_17_time_result, '^k:', label='z = 1.7')\n",
    "plt.plot( s, Z_20_time_result, '*k-.', label='z = 2.0')\n",
    "plt.title(\"Time Comparison on Different s\")\n",
    "plt.xlabel(\"s (10^x)\")\n",
    "plt.ylabel(\"Time (s)\")\n",
    "plt.legend(loc='upper right')\n",
    "plt.show()"
   ]
  },
  {
   "cell_type": "code",
   "execution_count": 223,
   "metadata": {},
   "outputs": [
    {
     "data": {
      "image/png": "[encoded data removed]",
      "text/plain": [
       "<Figure size 432x288 with 1 Axes>"
      ]
     },
     "metadata": {
      "needs_background": "light"
     },
     "output_type": "display_data"
    }
   ],
   "source": [
    "s = [1, 2, 3, 4, 5]\n",
    "plt.plot( s, Z_11_max_result, 'ko-', label='z = 1.1')\n",
    "plt.plot( s, Z_14_max_result, 'ks--', label='z = 1.4')\n",
    "plt.plot( s, Z_17_max_result, '^k:', label='z = 1.7')\n",
    "plt.plot( s, Z_20_max_result, '*k-.', label='z = 2.0')\n",
    "plt.title(\"Max Items Tracked Comparison on Different s\")\n",
    "plt.xlabel(\"s (10^x)\")\n",
    "plt.ylabel(\"Max Items Tracked\")\n",
    "plt.legend(loc='upper left')\n",
    "plt.show()"
   ]
  },
  {
   "cell_type": "code",
   "execution_count": 225,
   "metadata": {},
   "outputs": [
    {
     "data": {
      "image/png": "[encoded data removed]",
      "text/plain": [
       "<Figure size 432x288 with 1 Axes>"
      ]
     },
     "metadata": {
      "needs_background": "light"
     },
     "output_type": "display_data"
    }
   ],
   "source": [
    "s = [1, 2, 3, 4, 5]\n",
    "plt.plot( s, Z_11_acc, 'ko-', label='z = 1.1')\n",
    "plt.plot( s, Z_14_acc, 'ks--', label='z = 1.4')\n",
    "plt.plot( s, Z_17_acc, '^k:', label='z = 1.7')\n",
    "plt.plot( s, Z_20_acc, '*k-.', label='z = 2.0')\n",
    "plt.title(\"Heavy Hitter Accuracy Comparison on Different s\")\n",
    "plt.xlabel(\"s (10^x)\")\n",
    "plt.ylabel(\"Heavy Hitter Accuracy\")\n",
    "plt.legend(loc='lower right')\n",
    "plt.show()"
   ]
  },
  {
   "cell_type": "code",
   "execution_count": 229,
   "metadata": {},
   "outputs": [
    {
     "data": {
      "image/png": "[encoded data removed]",
      "text/plain": [
       "<Figure size 432x288 with 1 Axes>"
      ]
     },
     "metadata": {
      "needs_background": "light"
     },
     "output_type": "display_data"
    }
   ],
   "source": [
    "s = [1, 2, 3, 4, 5]\n",
    "plt.plot( s, Z_11_prec, 'ko-', label='z = 1.1')\n",
    "plt.plot( s, Z_14_prec, 'ks--', label='z = 1.4')\n",
    "plt.plot( s, Z_17_prec, '^k:', label='z = 1.7')\n",
    "plt.plot( s, Z_20_prec, '*k-.', label='z = 2.0')\n",
    "plt.title(\"Heavy Hitter Precision Comparison on Different s\")\n",
    "plt.xlabel(\"s (10^x)\")\n",
    "plt.ylabel(\"Heavy Hitter Precision\")\n",
    "plt.legend(loc='lower right')\n",
    "plt.show()"
   ]
  },
  {
   "cell_type": "code",
   "execution_count": 232,
   "metadata": {},
   "outputs": [
    {
     "data": {
      "image/png": "[encoded data removed]",
      "text/plain": [
       "<Figure size 432x288 with 1 Axes>"
      ]
     },
     "metadata": {
      "needs_background": "light"
     },
     "output_type": "display_data"
    }
   ],
   "source": [
    "s = [1, 2, 3, 4, 5]\n",
    "plt.plot( s, Z_11_avg_re, 'ko-', label='z = 1.1')\n",
    "plt.plot( s, Z_14_avg_re, 'ks--', label='z = 1.4')\n",
    "plt.plot( s, Z_17_avg_re, '^k:', label='z = 1.7')\n",
    "plt.plot( s, Z_20_avg_re, '*k-.', label='z = 2.0')\n",
    "plt.title(\"Heavy Hitter Average Relative Error Comparison on Different s\")\n",
    "plt.xlabel(\"s (10^x)\")\n",
    "plt.ylabel(\"Heavy Hitter Average Relative Error\")\n",
    "plt.legend(loc='upper left')\n",
    "plt.show()"
   ]
  }
 ],
 "metadata": {
  "kernelspec": {
   "display_name": "Python 3",
   "language": "python",
   "name": "python3"
  },
  "language_info": {
   "codemirror_mode": {
    "name": "ipython",
    "version": 3
   },
   "file_extension": ".py",
   "mimetype": "text/x-python",
   "name": "python",
   "nbconvert_exporter": "python",
   "pygments_lexer": "ipython3",
   "version": "3.7.1"
  }
 },
 "nbformat": 4,
 "nbformat_minor": 2
}
