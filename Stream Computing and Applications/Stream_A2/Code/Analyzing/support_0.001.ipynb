{
 "cells": [
  {
   "cell_type": "code",
   "execution_count": 1,
   "metadata": {},
   "outputs": [],
   "source": [
    "import numpy as np"
   ]
  },
  {
   "cell_type": "code",
   "execution_count": 2,
   "metadata": {},
   "outputs": [],
   "source": [
    "import matplotlib.pyplot as plt"
   ]
  },
  {
   "cell_type": "code",
   "execution_count": 3,
   "metadata": {},
   "outputs": [],
   "source": [
    "Sticky_AO_11 = open(\"Sticky_Output_all_10^8_z_11_s3.txt\", \"r\")\n",
    "Sticky_O_11 = open(\"Sticky_Output_10^8_z_11_s3.txt\", \"r\")\n",
    "Sticky_T_11 = open(\"Sticky_Output_time_10^8_z_11_s3.txt\", \"r\")\n",
    "Sticky_M_11 = open(\"Sticky_Output_memory_10^8_z_11_s3.txt\", \"r\")"
   ]
  },
  {
   "cell_type": "code",
   "execution_count": 4,
   "metadata": {},
   "outputs": [],
   "source": [
    "Sticky_AO_14 = open(\"Sticky_Output_all_10^8_z_14_s3.txt\", \"r\")\n",
    "Sticky_O_14 = open(\"Sticky_Output_10^8_z_14_s3.txt\", \"r\")\n",
    "Sticky_T_14 = open(\"Sticky_Output_time_10^8_z_14_s3.txt\", \"r\")\n",
    "Sticky_M_14 = open(\"Sticky_Output_memory_10^8_z_14_s3.txt\", \"r\")"
   ]
  },
  {
   "cell_type": "code",
   "execution_count": 5,
   "metadata": {},
   "outputs": [],
   "source": [
    "Sticky_AO_17 = open(\"Sticky_Output_all_10^8_z_17_s3.txt\", \"r\")\n",
    "Sticky_O_17 = open(\"Sticky_Output_10^8_z_17_s3.txt\", \"r\")\n",
    "Sticky_T_17 = open(\"Sticky_Output_time_10^8_z_17_s3.txt\", \"r\")\n",
    "Sticky_M_17 = open(\"Sticky_Output_memory_10^8_z_17_s3.txt\", \"r\")"
   ]
  },
  {
   "cell_type": "code",
   "execution_count": 6,
   "metadata": {},
   "outputs": [],
   "source": [
    "Sticky_AO_20 = open(\"Sticky_Output_all_10^8_z_20_s3.txt\", \"r\")\n",
    "Sticky_O_20 = open(\"Sticky_Output_10^8_z_20_s3.txt\", \"r\")\n",
    "Sticky_T_20 = open(\"Sticky_Output_time_10^8_z_20_s3.txt\", \"r\")\n",
    "Sticky_M_20 = open(\"Sticky_Output_memory_10^8_z_20_s3.txt\", \"r\")"
   ]
  },
  {
   "cell_type": "code",
   "execution_count": 7,
   "metadata": {},
   "outputs": [],
   "source": [
    "Lossy_AO_11 = open(\"Lossy_Output_all_10^8_z_11_s3.txt\", \"r\")\n",
    "Lossy_O_11 = open(\"Lossy_Output_10^8_z_11_s3.txt\", \"r\")\n",
    "Lossy_T_11 = open(\"Lossy_Output_time_10^8_z_11_s3.txt\", \"r\")\n",
    "Lossy_M_11 = open(\"Lossy_Output_memory_10^8_z_11_s3.txt\", \"r\")"
   ]
  },
  {
   "cell_type": "code",
   "execution_count": 8,
   "metadata": {},
   "outputs": [],
   "source": [
    "Lossy_AO_14 = open(\"Lossy_Output_all_10^8_z_14_s3.txt\", \"r\")\n",
    "Lossy_O_14 = open(\"Lossy_Output_10^8_z_14_s3.txt\", \"r\")\n",
    "Lossy_T_14 = open(\"Lossy_Output_time_10^8_z_14_s3.txt\", \"r\")\n",
    "Lossy_M_14 = open(\"Lossy_Output_memory_10^8_z_14_s3.txt\", \"r\")"
   ]
  },
  {
   "cell_type": "code",
   "execution_count": 9,
   "metadata": {},
   "outputs": [],
   "source": [
    "Lossy_AO_17 = open(\"Lossy_Output_all_10^8_z_17_s3.txt\", \"r\")\n",
    "Lossy_O_17 = open(\"Lossy_Output_10^8_z_17_s3.txt\", \"r\")\n",
    "Lossy_T_17 = open(\"Lossy_Output_time_10^8_z_17_s3.txt\", \"r\")\n",
    "Lossy_M_17 = open(\"Lossy_Output_memory_10^8_z_17_s3.txt\", \"r\")"
   ]
  },
  {
   "cell_type": "code",
   "execution_count": 10,
   "metadata": {},
   "outputs": [],
   "source": [
    "Lossy_AO_20 = open(\"Lossy_Output_all_10^8_z_20_s3.txt\", \"r\")\n",
    "Lossy_O_20 = open(\"Lossy_Output_10^8_z_20_s3.txt\", \"r\")\n",
    "Lossy_T_20 = open(\"Lossy_Output_time_10^8_z_20_s3.txt\", \"r\")\n",
    "Lossy_M_20 = open(\"Lossy_Output_memory_10^8_z_20_s3.txt\", \"r\")"
   ]
  },
  {
   "cell_type": "code",
   "execution_count": 11,
   "metadata": {},
   "outputs": [],
   "source": [
    "Space_AO_11 = open(\"Space_Output_all_10^8_z_11_s3.txt\", \"r\")\n",
    "Space_O_11 = open(\"Space_Output_10^8_z_11_s3.txt\", \"r\")\n",
    "Space_T_11 = open(\"Space_Output_time_10^8_z_11_s3.txt\", \"r\")\n",
    "Space_M_11 = open(\"Space_Output_memory_10^8_z_11_s3.txt\", \"r\")"
   ]
  },
  {
   "cell_type": "code",
   "execution_count": 12,
   "metadata": {},
   "outputs": [],
   "source": [
    "Space_AO_14 = open(\"Space_Output_all_10^8_z_14_s3.txt\", \"r\")\n",
    "Space_O_14 = open(\"Space_Output_10^8_z_14_s3.txt\", \"r\")\n",
    "Space_T_14 = open(\"Space_Output_time_10^8_z_14_s3.txt\", \"r\")\n",
    "Space_M_14 = open(\"Space_Output_memory_10^8_z_14_s3.txt\", \"r\")"
   ]
  },
  {
   "cell_type": "code",
   "execution_count": 13,
   "metadata": {},
   "outputs": [],
   "source": [
    "Space_AO_17 = open(\"Space_Output_all_10^8_z_17_s3.txt\", \"r\")\n",
    "Space_O_17 = open(\"Space_Output_10^8_z_17_s3.txt\", \"r\")\n",
    "Space_T_17 = open(\"Space_Output_time_10^8_z_17_s3.txt\", \"r\")\n",
    "Space_M_17 = open(\"Space_Output_memory_10^8_z_17_s3.txt\", \"r\")"
   ]
  },
  {
   "cell_type": "code",
   "execution_count": 14,
   "metadata": {},
   "outputs": [],
   "source": [
    "Space_AO_20 = open(\"Space_Output_all_10^8_z_20_s3.txt\", \"r\")\n",
    "Space_O_20 = open(\"Space_Output_10^8_z_20_s3.txt\", \"r\")\n",
    "Space_T_20 = open(\"Space_Output_time_10^8_z_20_s3.txt\", \"r\")\n",
    "Space_M_20 = open(\"Space_Output_memory_10^8_z_20_s3.txt\", \"r\")"
   ]
  },
  {
   "cell_type": "code",
   "execution_count": 15,
   "metadata": {},
   "outputs": [],
   "source": [
    "Z_11_time = [Sticky_T_11, Lossy_T_11, Space_T_11]\n",
    "Z_14_time = [Sticky_T_14, Lossy_T_14, Space_T_14]\n",
    "Z_17_time = [Sticky_T_17, Lossy_T_17, Space_T_17]\n",
    "Z_20_time = [Sticky_T_20, Lossy_T_20, Space_T_20]"
   ]
  },
  {
   "cell_type": "code",
   "execution_count": 16,
   "metadata": {},
   "outputs": [],
   "source": [
    "Z_11_memory = [Sticky_M_11, Lossy_M_11, Space_M_11]\n",
    "Z_14_memory = [Sticky_M_14, Lossy_M_14, Space_M_14]\n",
    "Z_17_memory = [Sticky_M_17, Lossy_M_17, Space_M_17]\n",
    "Z_20_memory = [Sticky_M_20, Lossy_M_20, Space_M_20]"
   ]
  },
  {
   "cell_type": "code",
   "execution_count": 17,
   "metadata": {},
   "outputs": [],
   "source": [
    "Sticky_time = [Sticky_T_11, Sticky_T_14, Sticky_T_17, Sticky_T_20]\n",
    "Lossy_time = [Lossy_T_11, Lossy_T_14, Lossy_T_17, Lossy_T_20]\n",
    "Space_time = [Space_T_11, Space_T_14, Space_T_17, Space_T_20]"
   ]
  },
  {
   "cell_type": "code",
   "execution_count": 18,
   "metadata": {},
   "outputs": [],
   "source": [
    "Sticky_memory = [Sticky_M_11, Sticky_M_14, Sticky_M_17, Sticky_M_20]\n",
    "Lossy_memory = [Lossy_M_11, Lossy_M_14, Lossy_M_17, Lossy_M_20]\n",
    "Space_memory = [Space_M_11, Space_M_14, Space_M_17, Space_M_20]"
   ]
  },
  {
   "cell_type": "code",
   "execution_count": 19,
   "metadata": {},
   "outputs": [],
   "source": [
    "def get_memory(time_list):\n",
    "    all_time = []\n",
    "    \n",
    "    for time in time_list:\n",
    "        for output in time:\n",
    "            all_time.append(int(output.rstrip(\"\\n\"))/1000) # kb\n",
    "    return np.mean(all_time)"
   ]
  },
  {
   "cell_type": "code",
   "execution_count": 20,
   "metadata": {},
   "outputs": [],
   "source": [
    "Z_11_memory_result = get_memory(Z_11_memory)\n",
    "Z_14_memory_result = get_memory(Z_14_memory)\n",
    "Z_17_memory_result = get_memory(Z_17_memory)\n",
    "Z_20_memory_result = get_memory(Z_20_memory)"
   ]
  },
  {
   "cell_type": "code",
   "execution_count": 21,
   "metadata": {},
   "outputs": [
    {
     "data": {
      "text/plain": [
       "[5948.536, 1112.56, 1100.592]"
      ]
     },
     "execution_count": 21,
     "metadata": {},
     "output_type": "execute_result"
    }
   ],
   "source": [
    "Z_11_memory_result"
   ]
  },
  {
   "cell_type": "code",
   "execution_count": 22,
   "metadata": {},
   "outputs": [
    {
     "data": {
      "text/plain": [
       "[1841.632, 1061.88, 1100.352]"
      ]
     },
     "execution_count": 22,
     "metadata": {},
     "output_type": "execute_result"
    }
   ],
   "source": [
    "Z_14_memory_result"
   ]
  },
  {
   "cell_type": "code",
   "execution_count": 23,
   "metadata": {},
   "outputs": [
    {
     "data": {
      "text/plain": [
       "[1325.0, 1037.912, 1100.448]"
      ]
     },
     "execution_count": 23,
     "metadata": {},
     "output_type": "execute_result"
    }
   ],
   "source": [
    "Z_17_memory_result"
   ]
  },
  {
   "cell_type": "code",
   "execution_count": 24,
   "metadata": {},
   "outputs": [
    {
     "data": {
      "text/plain": [
       "[1191.224, 1028.832, 1100.352]"
      ]
     },
     "execution_count": 24,
     "metadata": {},
     "output_type": "execute_result"
    }
   ],
   "source": [
    "Z_20_memory_result"
   ]
  },
  {
   "cell_type": "code",
   "execution_count": 25,
   "metadata": {},
   "outputs": [],
   "source": [
    "all_z_memory_result_list = [Z_11_memory_result, Z_14_memory_result, Z_17_memory_result, Z_20_memory_result]\n",
    "Sticky_memory_result_list = []\n",
    "Lossy_memory_result_list = []\n",
    "Space_memory_result_list = []\n",
    "\n",
    "for z_list in all_z_memory_result_list:\n",
    "    Sticky_memory_result_list.append(z_list[0])\n",
    "    Lossy_memory_result_list.append(z_list[1])\n",
    "    Space_memory_result_list.append(z_list[2])"
   ]
  },
  {
   "cell_type": "code",
   "execution_count": 26,
   "metadata": {},
   "outputs": [
    {
     "data": {
      "text/plain": [
       "[5948.536, 1841.632, 1325.0, 1191.224]"
      ]
     },
     "execution_count": 26,
     "metadata": {},
     "output_type": "execute_result"
    }
   ],
   "source": [
    "Sticky_memory_result_list"
   ]
  },
  {
   "cell_type": "code",
   "execution_count": 27,
   "metadata": {},
   "outputs": [
    {
     "data": {
      "text/plain": [
       "[1112.56, 1061.88, 1037.912, 1028.832]"
      ]
     },
     "execution_count": 27,
     "metadata": {},
     "output_type": "execute_result"
    }
   ],
   "source": [
    "Lossy_memory_result_list"
   ]
  },
  {
   "cell_type": "code",
   "execution_count": 28,
   "metadata": {},
   "outputs": [
    {
     "data": {
      "text/plain": [
       "[1100.592, 1100.352, 1100.448, 1100.352]"
      ]
     },
     "execution_count": 28,
     "metadata": {},
     "output_type": "execute_result"
    }
   ],
   "source": [
    "Space_memory_result_list"
   ]
  },
  {
   "cell_type": "code",
   "execution_count": 29,
   "metadata": {},
   "outputs": [],
   "source": [
    "def get_time(time_list):\n",
    "    all_time = []\n",
    "    \n",
    "    for time in time_list:\n",
    "        for output in time:\n",
    "            all_time.append(int(output.rstrip(\"\\n\"))/1000000000) # second\n",
    "    return np.mean(all_time)"
   ]
  },
  {
   "cell_type": "code",
   "execution_count": 30,
   "metadata": {},
   "outputs": [],
   "source": [
    "Z_11_time_result = get_time(Z_11_time)\n",
    "Z_14_time_result = get_time(Z_14_time)\n",
    "Z_17_time_result = get_time(Z_17_time)\n",
    "Z_20_time_result = get_time(Z_20_time)"
   ]
  },
  {
   "cell_type": "code",
   "execution_count": 31,
   "metadata": {},
   "outputs": [
    {
     "data": {
      "text/plain": [
       "[15.034117171, 15.525548435, 1075.185069189]"
      ]
     },
     "execution_count": 31,
     "metadata": {},
     "output_type": "execute_result"
    }
   ],
   "source": [
    "Z_11_time_result"
   ]
  },
  {
   "cell_type": "code",
   "execution_count": 32,
   "metadata": {},
   "outputs": [
    {
     "data": {
      "text/plain": [
       "[10.532777829, 7.494184583, 87.30294484]"
      ]
     },
     "execution_count": 32,
     "metadata": {},
     "output_type": "execute_result"
    }
   ],
   "source": [
    "Z_14_time_result"
   ]
  },
  {
   "cell_type": "code",
   "execution_count": 33,
   "metadata": {},
   "outputs": [
    {
     "data": {
      "text/plain": [
       "[9.640231361, 6.839749266, 15.588743947]"
      ]
     },
     "execution_count": 33,
     "metadata": {},
     "output_type": "execute_result"
    }
   ],
   "source": [
    "Z_17_time_result"
   ]
  },
  {
   "cell_type": "code",
   "execution_count": 34,
   "metadata": {},
   "outputs": [
    {
     "data": {
      "text/plain": [
       "[9.090067376, 5.64223134, 6.654463339]"
      ]
     },
     "execution_count": 34,
     "metadata": {},
     "output_type": "execute_result"
    }
   ],
   "source": [
    "Z_20_time_result"
   ]
  },
  {
   "cell_type": "code",
   "execution_count": 35,
   "metadata": {},
   "outputs": [],
   "source": [
    "all_z_time_result_list = [Z_11_time_result, Z_14_time_result, Z_17_time_result, Z_20_time_result]\n",
    "Sticky_time_result_list = []\n",
    "Lossy_time_result_list = []\n",
    "Space_time_result_list = []\n",
    "\n",
    "for z_list in all_z_time_result_list:\n",
    "    Sticky_time_result_list.append(z_list[0])\n",
    "    Lossy_time_result_list.append(z_list[1])\n",
    "    Space_time_result_list.append(z_list[2])"
   ]
  },
  {
   "cell_type": "code",
   "execution_count": 36,
   "metadata": {},
   "outputs": [
    {
     "data": {
      "text/plain": [
       "[15.034117171, 10.532777829, 9.640231361, 9.090067376]"
      ]
     },
     "execution_count": 36,
     "metadata": {},
     "output_type": "execute_result"
    }
   ],
   "source": [
    "Sticky_time_result_list"
   ]
  },
  {
   "cell_type": "code",
   "execution_count": 37,
   "metadata": {},
   "outputs": [
    {
     "data": {
      "text/plain": [
       "[15.525548435, 7.494184583, 6.839749266, 5.64223134]"
      ]
     },
     "execution_count": 37,
     "metadata": {},
     "output_type": "execute_result"
    }
   ],
   "source": [
    "Lossy_time_result_list"
   ]
  },
  {
   "cell_type": "code",
   "execution_count": 38,
   "metadata": {},
   "outputs": [
    {
     "data": {
      "text/plain": [
       "[1075.185069189, 87.30294484, 15.588743947, 6.654463339]"
      ]
     },
     "execution_count": 38,
     "metadata": {},
     "output_type": "execute_result"
    }
   ],
   "source": [
    "Space_time_result_list"
   ]
  },
  {
   "cell_type": "code",
   "execution_count": 39,
   "metadata": {},
   "outputs": [],
   "source": [
    "Z_11 = open(\"10^8_z_11.txt\", \"r\")\n",
    "Z_14 = open(\"10^8_z_14.txt\", \"r\")\n",
    "Z_17 = open(\"10^8_z_17.txt\", \"r\")\n",
    "Z_20 = open(\"10^8_z_20.txt\", \"r\")"
   ]
  },
  {
   "cell_type": "code",
   "execution_count": 40,
   "metadata": {},
   "outputs": [],
   "source": [
    "def get_item_freq(s):\n",
    "    item_freq = {}\n",
    "    for item in s:\n",
    "        if item in item_freq:\n",
    "            item_freq[item] += 1\n",
    "        else:\n",
    "            item_freq[item] = 1\n",
    "    \n",
    "    return item_freq\n",
    "\n",
    "def get_at_least_percent_items(item_freq, num_data, percent):\n",
    "    at_least_percent_items = []\n",
    "    at_least_percent_items_values = []\n",
    "    \n",
    "    \n",
    "    sorted_item_freq = sorted(item_freq.items(),key=lambda x: x[1], reverse=True)\n",
    "    \n",
    "    for item_freq in sorted_item_freq:\n",
    "        if item_freq[1] >= num_data*percent:\n",
    "            at_least_percent_items.append(item_freq[0])\n",
    "            at_least_percent_items_values.append(item_freq[1])\n",
    "        else:\n",
    "            break\n",
    "\n",
    "    return (at_least_percent_items, at_least_percent_items_values)\n",
    "\n",
    "def find_real_heavy_hitter(filename, num_data, percent):\n",
    "    \n",
    "    s = []\n",
    "    for output in filename:\n",
    "        s.append(int(output.rstrip(\"\\n\")))\n",
    "        \n",
    "    item_freq = get_item_freq(s)\n",
    "    \n",
    "    at_least_percent_items_set = get_at_least_percent_items(item_freq, num_data, percent)\n",
    "    \n",
    "    print(filename)\n",
    "    print(at_least_percent_items_set[0])\n",
    "    print(at_least_percent_items_set[1])\n",
    "    print(\"_______________________________________________________________________________________________________\")\n",
    "        \n",
    "    return at_least_percent_items_set"
   ]
  },
  {
   "cell_type": "code",
   "execution_count": 41,
   "metadata": {},
   "outputs": [],
   "source": [
    "num_data = 100000000\n",
    "percent = 0.001"
   ]
  },
  {
   "cell_type": "code",
   "execution_count": 42,
   "metadata": {},
   "outputs": [
    {
     "name": "stdout",
     "output_type": "stream",
     "text": [
      "<_io.TextIOWrapper name='10^8_z_11.txt' mode='r' encoding='UTF-8'>\n",
      "[1, 2, 3, 4, 5, 6, 7, 8, 9, 10, 11, 12, 13, 14, 15, 16, 17, 18, 19, 20, 21, 22, 23, 24, 25, 26, 27, 28, 29, 30, 31, 32, 33, 34, 35, 36, 37, 38, 39, 40, 41, 42, 43, 44, 45, 46, 47, 48, 49, 50, 51, 52, 53, 54, 55, 56, 57, 58, 59, 60, 61, 62]\n",
      "[9472468, 4422755, 2834239, 2063295, 1613111, 1322278, 1115002, 964493, 844829, 753434, 677623, 617095, 565062, 520915, 482338, 449252, 419245, 395035, 371497, 352336, 332829, 317296, 300732, 287790, 275768, 262923, 252660, 242201, 233583, 224616, 216584, 209649, 202339, 196635, 190662, 184433, 178540, 173574, 168328, 164359, 159939, 155149, 151209, 147873, 144268, 140662, 136877, 134363, 130771, 127940, 125523, 122635, 120666, 117700, 115741, 112905, 110617, 108971, 106531, 104589, 102925, 101187]\n",
      "_______________________________________________________________________________________________________\n",
      "<_io.TextIOWrapper name='10^8_z_14.txt' mode='r' encoding='UTF-8'>\n",
      "[1, 2, 3, 4, 5, 6, 7, 8, 9, 10, 11, 12, 13, 14, 15, 16, 17, 18, 19, 20, 21, 22, 23, 24, 25, 26, 27, 28, 29, 30, 31, 32, 33, 34, 35, 36, 37, 38, 39, 40, 41, 42, 43, 44, 45, 46, 47, 48, 49, 50, 51, 52, 53, 54, 55, 56, 57, 58, 59, 60, 61]\n",
      "[32206349, 12206257, 6919123, 4619932, 3382019, 2620927, 2111860, 1751968, 1484928, 1282038, 1120691, 993768, 886212, 799160, 726744, 662285, 609153, 563203, 521051, 486226, 453773, 424295, 400014, 376553, 354840, 336629, 319359, 303158, 289378, 274388, 264245, 251866, 241184, 231051, 221834, 212605, 205864, 197766, 191012, 183777, 177819, 172502, 165931, 160769, 156257, 150914, 146721, 142064, 138543, 134588, 130605, 127045, 123832, 120981, 117701, 115153, 112304, 109250, 106921, 103883, 102141]\n",
      "_______________________________________________________________________________________________________\n",
      "<_io.TextIOWrapper name='10^8_z_17.txt' mode='r' encoding='UTF-8'>\n",
      "[1, 2, 3, 4, 5, 6, 7, 8, 9, 10, 11, 12, 13, 14, 15, 16, 17, 18, 19, 20, 21, 22, 23, 24, 25, 26, 27, 28, 29, 30, 31, 32, 33, 34, 35, 36, 37, 38]\n",
      "[48675018, 14983674, 7516540, 4612182, 3156691, 2314469, 1780683, 1418702, 1163566, 973375, 826086, 712852, 621705, 548736, 487524, 437997, 392482, 358198, 325397, 299177, 274935, 253565, 235511, 219511, 204820, 192432, 178926, 169380, 160184, 150371, 141617, 135111, 128243, 120996, 115387, 110759, 104969, 100272]\n",
      "_______________________________________________________________________________________________________\n",
      "<_io.TextIOWrapper name='10^8_z_20.txt' mode='r' encoding='UTF-8'>\n",
      "[1, 2, 3, 4, 5, 6, 7, 8, 9, 10, 11, 12, 13, 14, 15, 16, 17, 18, 19, 20, 21, 22, 23, 24]\n",
      "[60789065, 15200361, 6755060, 3796533, 2430400, 1688135, 1242311, 950505, 751103, 608129, 502371, 423332, 361217, 310596, 270076, 237268, 210496, 187388, 168748, 152282, 138145, 125395, 114784, 105498]\n",
      "_______________________________________________________________________________________________________\n"
     ]
    }
   ],
   "source": [
    "real_heavy_hitter_11 = find_real_heavy_hitter(Z_11, num_data, percent)\n",
    "real_heavy_hitter_14 = find_real_heavy_hitter(Z_14, num_data, percent)\n",
    "real_heavy_hitter_17 = find_real_heavy_hitter(Z_17, num_data, percent)\n",
    "real_heavy_hitter_20 = find_real_heavy_hitter(Z_20, num_data, percent)"
   ]
  },
  {
   "cell_type": "code",
   "execution_count": 43,
   "metadata": {},
   "outputs": [],
   "source": [
    "def get_heavy_hitter_result(filename):\n",
    "    items = []\n",
    "    est_freqs = []\n",
    "\n",
    "    for output in filename:\n",
    "        item, freq = output.split(\",\")\n",
    "\n",
    "        items.append(int(item))\n",
    "        est_freqs.append(int(freq.rstrip(\"\\n\")))\n",
    "\n",
    "    return (items, est_freqs)"
   ]
  },
  {
   "cell_type": "code",
   "execution_count": 44,
   "metadata": {},
   "outputs": [],
   "source": [
    "Sticky_O_11_heavy_hitter = get_heavy_hitter_result(Sticky_O_11)\n",
    "Sticky_AO_11_heavy_hitter = get_heavy_hitter_result(Sticky_AO_11)\n",
    "Lossy_O_11_heavy_hitter = get_heavy_hitter_result(Lossy_O_11)\n",
    "Lossy_AO_11_heavy_hitter = get_heavy_hitter_result(Lossy_AO_11)\n",
    "Space_O_11_heavy_hitter = get_heavy_hitter_result(Space_O_11)\n",
    "Space_AO_11_heavy_hitter = get_heavy_hitter_result(Space_AO_11)"
   ]
  },
  {
   "cell_type": "code",
   "execution_count": 45,
   "metadata": {},
   "outputs": [],
   "source": [
    "Sticky_O_14_heavy_hitter = get_heavy_hitter_result(Sticky_O_14)\n",
    "Sticky_AO_14_heavy_hitter = get_heavy_hitter_result(Sticky_AO_14)\n",
    "Lossy_O_14_heavy_hitter = get_heavy_hitter_result(Lossy_O_14)\n",
    "Lossy_AO_14_heavy_hitter = get_heavy_hitter_result(Lossy_AO_14)\n",
    "Space_O_14_heavy_hitter = get_heavy_hitter_result(Space_O_14)\n",
    "Space_AO_14_heavy_hitter = get_heavy_hitter_result(Space_AO_14)"
   ]
  },
  {
   "cell_type": "code",
   "execution_count": 46,
   "metadata": {},
   "outputs": [],
   "source": [
    "Sticky_O_17_heavy_hitter = get_heavy_hitter_result(Sticky_O_17)\n",
    "Sticky_AO_17_heavy_hitter = get_heavy_hitter_result(Sticky_AO_17)\n",
    "Lossy_O_17_heavy_hitter = get_heavy_hitter_result(Lossy_O_17)\n",
    "Lossy_AO_17_heavy_hitter = get_heavy_hitter_result(Lossy_AO_17)\n",
    "Space_O_17_heavy_hitter = get_heavy_hitter_result(Space_O_17)\n",
    "Space_AO_17_heavy_hitter = get_heavy_hitter_result(Space_AO_17)"
   ]
  },
  {
   "cell_type": "code",
   "execution_count": 47,
   "metadata": {},
   "outputs": [],
   "source": [
    "Sticky_O_20_heavy_hitter = get_heavy_hitter_result(Sticky_O_20)\n",
    "Sticky_AO_20_heavy_hitter = get_heavy_hitter_result(Sticky_AO_20)\n",
    "Lossy_O_20_heavy_hitter = get_heavy_hitter_result(Lossy_O_20)\n",
    "Lossy_AO_20_heavy_hitter = get_heavy_hitter_result(Lossy_AO_20)\n",
    "Space_O_20_heavy_hitter = get_heavy_hitter_result(Space_O_20)\n",
    "Space_AO_20_heavy_hitter = get_heavy_hitter_result(Space_AO_20)"
   ]
  },
  {
   "cell_type": "code",
   "execution_count": 48,
   "metadata": {},
   "outputs": [],
   "source": [
    "Z_11_output = [Sticky_O_11_heavy_hitter, Lossy_O_11_heavy_hitter, Space_O_11_heavy_hitter]\n",
    "Z_14_output = [Sticky_O_14_heavy_hitter, Lossy_O_14_heavy_hitter, Space_O_14_heavy_hitter]\n",
    "Z_17_output = [Sticky_O_17_heavy_hitter, Lossy_O_17_heavy_hitter, Space_O_17_heavy_hitter]\n",
    "Z_20_output = [Sticky_O_20_heavy_hitter, Lossy_O_20_heavy_hitter, Space_O_20_heavy_hitter]"
   ]
  },
  {
   "cell_type": "code",
   "execution_count": 49,
   "metadata": {},
   "outputs": [],
   "source": [
    "Z_11_all_output = [Sticky_AO_11_heavy_hitter, Lossy_AO_11_heavy_hitter, Space_AO_11_heavy_hitter]\n",
    "Z_14_all_output = [Sticky_AO_14_heavy_hitter, Lossy_AO_14_heavy_hitter, Space_AO_14_heavy_hitter]\n",
    "Z_17_all_output = [Sticky_AO_17_heavy_hitter, Lossy_AO_17_heavy_hitter, Space_AO_17_heavy_hitter]\n",
    "Z_20_all_output = [Sticky_AO_20_heavy_hitter, Lossy_AO_20_heavy_hitter, Space_AO_20_heavy_hitter]"
   ]
  },
  {
   "cell_type": "code",
   "execution_count": 50,
   "metadata": {},
   "outputs": [],
   "source": [
    "def heavy_hitter_accuracy(real_heavy_hitter, estimate_heavy_hitter):\n",
    "    \n",
    "    find = list(set(real_heavy_hitter[0]).intersection(estimate_heavy_hitter[0]))\n",
    "    \n",
    "    not_find = list(np.setdiff1d(estimate_heavy_hitter[0], real_heavy_hitter[0])) + list(np.setdiff1d(real_heavy_hitter[0], estimate_heavy_hitter[0]))\n",
    "    \n",
    "    #not_find = list(np.setdiff1d(estimate_heavy_hitter[0], real_heavy_hitter[0]))\n",
    "    \n",
    "    all_items = find + not_find\n",
    "    \n",
    "    return len(find) / len(all_items)"
   ]
  },
  {
   "cell_type": "code",
   "execution_count": 51,
   "metadata": {},
   "outputs": [],
   "source": [
    "Z_11_acc = [heavy_hitter_accuracy(real_heavy_hitter_11, i) for i in Z_11_output]\n",
    "Z_14_acc = [heavy_hitter_accuracy(real_heavy_hitter_14, i) for i in Z_14_output]\n",
    "Z_17_acc = [heavy_hitter_accuracy(real_heavy_hitter_17, i) for i in Z_17_output]\n",
    "Z_20_acc = [heavy_hitter_accuracy(real_heavy_hitter_20, i) for i in Z_20_output]"
   ]
  },
  {
   "cell_type": "code",
   "execution_count": 52,
   "metadata": {},
   "outputs": [
    {
     "data": {
      "text/plain": [
       "[0.8985507246376812, 0.8985507246376812, 1.0]"
      ]
     },
     "execution_count": 52,
     "metadata": {},
     "output_type": "execute_result"
    }
   ],
   "source": [
    "Z_11_acc"
   ]
  },
  {
   "cell_type": "code",
   "execution_count": 53,
   "metadata": {},
   "outputs": [
    {
     "data": {
      "text/plain": [
       "[0.9242424242424242, 0.9242424242424242, 1.0]"
      ]
     },
     "execution_count": 53,
     "metadata": {},
     "output_type": "execute_result"
    }
   ],
   "source": [
    "Z_14_acc"
   ]
  },
  {
   "cell_type": "code",
   "execution_count": 54,
   "metadata": {},
   "outputs": [
    {
     "data": {
      "text/plain": [
       "[0.95, 0.95, 1.0]"
      ]
     },
     "execution_count": 54,
     "metadata": {},
     "output_type": "execute_result"
    }
   ],
   "source": [
    "Z_17_acc"
   ]
  },
  {
   "cell_type": "code",
   "execution_count": 55,
   "metadata": {},
   "outputs": [
    {
     "data": {
      "text/plain": [
       "[0.96, 0.96, 1.0]"
      ]
     },
     "execution_count": 55,
     "metadata": {},
     "output_type": "execute_result"
    }
   ],
   "source": [
    "Z_20_acc"
   ]
  },
  {
   "cell_type": "code",
   "execution_count": 56,
   "metadata": {},
   "outputs": [],
   "source": [
    "all_z_acc_list = [Z_11_acc, Z_14_acc, Z_17_acc, Z_20_acc]"
   ]
  },
  {
   "cell_type": "code",
   "execution_count": 57,
   "metadata": {},
   "outputs": [],
   "source": [
    "Sticky_acc_list = []\n",
    "Lossy_acc_list = []\n",
    "Space_acc_list = []\n",
    "\n",
    "for z_list in all_z_acc_list:\n",
    "    Sticky_acc_list.append(z_list[0])\n",
    "    Lossy_acc_list.append(z_list[1])\n",
    "    Space_acc_list.append(z_list[2])"
   ]
  },
  {
   "cell_type": "code",
   "execution_count": 58,
   "metadata": {},
   "outputs": [
    {
     "data": {
      "text/plain": [
       "[0.8985507246376812, 0.9242424242424242, 0.95, 0.96]"
      ]
     },
     "execution_count": 58,
     "metadata": {},
     "output_type": "execute_result"
    }
   ],
   "source": [
    "Sticky_acc_list"
   ]
  },
  {
   "cell_type": "code",
   "execution_count": 59,
   "metadata": {},
   "outputs": [
    {
     "data": {
      "text/plain": [
       "[0.8985507246376812, 0.9242424242424242, 0.95, 0.96]"
      ]
     },
     "execution_count": 59,
     "metadata": {},
     "output_type": "execute_result"
    }
   ],
   "source": [
    "Lossy_acc_list"
   ]
  },
  {
   "cell_type": "code",
   "execution_count": 60,
   "metadata": {},
   "outputs": [
    {
     "data": {
      "text/plain": [
       "[1.0, 1.0, 1.0, 1.0]"
      ]
     },
     "execution_count": 60,
     "metadata": {},
     "output_type": "execute_result"
    }
   ],
   "source": [
    "Space_acc_list"
   ]
  },
  {
   "cell_type": "code",
   "execution_count": 61,
   "metadata": {},
   "outputs": [],
   "source": [
    "def heavy_hitter_precision(real_heavy_hitter, estimate_heavy_hitter):\n",
    "    \n",
    "    find = list(set(real_heavy_hitter[0]).intersection(estimate_heavy_hitter[0]))\n",
    "    \n",
    "    #not_find = list(np.setdiff1d(estimate_heavy_hitter[0], real_heavy_hitter[0])) + list(np.setdiff1d(real_heavy_hitter[0], estimate_heavy_hitter[0]))\n",
    "    \n",
    "    not_find = list(np.setdiff1d(estimate_heavy_hitter[0], real_heavy_hitter[0]))\n",
    "    \n",
    "    all_items = find + not_find\n",
    "    \n",
    "    return len(find) / len(all_items)"
   ]
  },
  {
   "cell_type": "code",
   "execution_count": 62,
   "metadata": {},
   "outputs": [],
   "source": [
    "Z_11_prec = [heavy_hitter_precision(real_heavy_hitter_11, i) for i in Z_11_output]\n",
    "Z_14_prec = [heavy_hitter_precision(real_heavy_hitter_14, i) for i in Z_14_output]\n",
    "Z_17_prec = [heavy_hitter_precision(real_heavy_hitter_17, i) for i in Z_17_output]\n",
    "Z_20_prec = [heavy_hitter_precision(real_heavy_hitter_20, i) for i in Z_20_output]"
   ]
  },
  {
   "cell_type": "code",
   "execution_count": 63,
   "metadata": {},
   "outputs": [
    {
     "data": {
      "text/plain": [
       "[0.8985507246376812, 0.8985507246376812, 1.0]"
      ]
     },
     "execution_count": 63,
     "metadata": {},
     "output_type": "execute_result"
    }
   ],
   "source": [
    "Z_11_prec"
   ]
  },
  {
   "cell_type": "code",
   "execution_count": 64,
   "metadata": {},
   "outputs": [
    {
     "data": {
      "text/plain": [
       "[0.9242424242424242, 0.9242424242424242, 1.0]"
      ]
     },
     "execution_count": 64,
     "metadata": {},
     "output_type": "execute_result"
    }
   ],
   "source": [
    "Z_14_prec"
   ]
  },
  {
   "cell_type": "code",
   "execution_count": 65,
   "metadata": {},
   "outputs": [
    {
     "data": {
      "text/plain": [
       "[0.95, 0.95, 1.0]"
      ]
     },
     "execution_count": 65,
     "metadata": {},
     "output_type": "execute_result"
    }
   ],
   "source": [
    "Z_17_prec"
   ]
  },
  {
   "cell_type": "code",
   "execution_count": 66,
   "metadata": {},
   "outputs": [
    {
     "data": {
      "text/plain": [
       "[0.96, 0.96, 1.0]"
      ]
     },
     "execution_count": 66,
     "metadata": {},
     "output_type": "execute_result"
    }
   ],
   "source": [
    "Z_20_prec"
   ]
  },
  {
   "cell_type": "code",
   "execution_count": 67,
   "metadata": {},
   "outputs": [],
   "source": [
    "all_z_prec_list = [Z_11_prec, Z_14_prec, Z_17_prec, Z_20_prec]"
   ]
  },
  {
   "cell_type": "code",
   "execution_count": 68,
   "metadata": {},
   "outputs": [],
   "source": [
    "Sticky_prec_list = []\n",
    "Lossy_prec_list = []\n",
    "Space_prec_list = []\n",
    "\n",
    "for z_list in all_z_prec_list:\n",
    "    Sticky_prec_list.append(z_list[0])\n",
    "    Lossy_prec_list.append(z_list[1])\n",
    "    Space_prec_list.append(z_list[2])"
   ]
  },
  {
   "cell_type": "code",
   "execution_count": 69,
   "metadata": {},
   "outputs": [
    {
     "data": {
      "text/plain": [
       "[0.8985507246376812, 0.9242424242424242, 0.95, 0.96]"
      ]
     },
     "execution_count": 69,
     "metadata": {},
     "output_type": "execute_result"
    }
   ],
   "source": [
    "Sticky_prec_list"
   ]
  },
  {
   "cell_type": "code",
   "execution_count": 70,
   "metadata": {},
   "outputs": [
    {
     "data": {
      "text/plain": [
       "[0.8985507246376812, 0.9242424242424242, 0.95, 0.96]"
      ]
     },
     "execution_count": 70,
     "metadata": {},
     "output_type": "execute_result"
    }
   ],
   "source": [
    "Lossy_prec_list"
   ]
  },
  {
   "cell_type": "code",
   "execution_count": 71,
   "metadata": {},
   "outputs": [
    {
     "data": {
      "text/plain": [
       "[1.0, 1.0, 1.0, 1.0]"
      ]
     },
     "execution_count": 71,
     "metadata": {},
     "output_type": "execute_result"
    }
   ],
   "source": [
    "Space_prec_list"
   ]
  },
  {
   "cell_type": "code",
   "execution_count": 72,
   "metadata": {},
   "outputs": [],
   "source": [
    "def avg_re(real_heavy_hitter, estimate_heavy_hitter):\n",
    "    \n",
    "    all_re = []\n",
    "\n",
    "    for item in real_heavy_hitter[0]:\n",
    "        item_index = estimate_heavy_hitter[0].index(item)\n",
    "        est_freq = estimate_heavy_hitter[1][item_index]\n",
    "\n",
    "        real_item_index = real_heavy_hitter[0].index(item)\n",
    "        real_freq = real_heavy_hitter[1][real_item_index]\n",
    "\n",
    "        all_re.append(abs(est_freq - real_freq) /real_freq)\n",
    "        \n",
    "    return np.mean(all_re)"
   ]
  },
  {
   "cell_type": "code",
   "execution_count": 73,
   "metadata": {},
   "outputs": [],
   "source": [
    "Z_11_avg_re = [avg_re(real_heavy_hitter_11, i) for i in Z_11_all_output]\n",
    "Z_14_avg_re = [avg_re(real_heavy_hitter_14, i) for i in Z_14_all_output]\n",
    "Z_17_avg_re = [avg_re(real_heavy_hitter_17, i) for i in Z_17_all_output]\n",
    "Z_20_avg_re = [avg_re(real_heavy_hitter_20, i) for i in Z_20_all_output]"
   ]
  },
  {
   "cell_type": "code",
   "execution_count": 74,
   "metadata": {},
   "outputs": [
    {
     "data": {
      "text/plain": [
       "[8.613496287647751e-05, 0.0, 1.328415238492698e-06]"
      ]
     },
     "execution_count": 74,
     "metadata": {},
     "output_type": "execute_result"
    }
   ],
   "source": [
    "Z_11_avg_re"
   ]
  },
  {
   "cell_type": "code",
   "execution_count": 75,
   "metadata": {},
   "outputs": [
    {
     "data": {
      "text/plain": [
       "[5.0035064896908524e-05, 0.0, 0.0]"
      ]
     },
     "execution_count": 75,
     "metadata": {},
     "output_type": "execute_result"
    }
   ],
   "source": [
    "Z_14_avg_re"
   ]
  },
  {
   "cell_type": "code",
   "execution_count": 76,
   "metadata": {},
   "outputs": [
    {
     "data": {
      "text/plain": [
       "[1.908422834333898e-05, 0.0, 0.0]"
      ]
     },
     "execution_count": 76,
     "metadata": {},
     "output_type": "execute_result"
    }
   ],
   "source": [
    "Z_17_avg_re"
   ]
  },
  {
   "cell_type": "code",
   "execution_count": 77,
   "metadata": {},
   "outputs": [
    {
     "data": {
      "text/plain": [
       "[1.3428800465335132e-05, 0.0, 0.0]"
      ]
     },
     "execution_count": 77,
     "metadata": {},
     "output_type": "execute_result"
    }
   ],
   "source": [
    "Z_20_avg_re"
   ]
  },
  {
   "cell_type": "code",
   "execution_count": 78,
   "metadata": {},
   "outputs": [],
   "source": [
    "all_z_avg_re_list = [Z_11_avg_re, Z_14_avg_re, Z_17_avg_re, Z_20_avg_re]"
   ]
  },
  {
   "cell_type": "code",
   "execution_count": 79,
   "metadata": {},
   "outputs": [],
   "source": [
    "Sticky_avg_re_list = []\n",
    "Lossy_avg_re_list = []\n",
    "Space_avg_re_list = []\n",
    "\n",
    "for z_list in all_z_avg_re_list:\n",
    "    Sticky_avg_re_list.append(z_list[0])\n",
    "    Lossy_avg_re_list.append(z_list[1])\n",
    "    Space_avg_re_list.append(z_list[2])"
   ]
  },
  {
   "cell_type": "code",
   "execution_count": 80,
   "metadata": {},
   "outputs": [
    {
     "data": {
      "text/plain": [
       "[8.613496287647751e-05,\n",
       " 5.0035064896908524e-05,\n",
       " 1.908422834333898e-05,\n",
       " 1.3428800465335132e-05]"
      ]
     },
     "execution_count": 80,
     "metadata": {},
     "output_type": "execute_result"
    }
   ],
   "source": [
    "Sticky_avg_re_list"
   ]
  },
  {
   "cell_type": "code",
   "execution_count": 81,
   "metadata": {},
   "outputs": [
    {
     "data": {
      "text/plain": [
       "[0.0, 0.0, 0.0, 0.0]"
      ]
     },
     "execution_count": 81,
     "metadata": {},
     "output_type": "execute_result"
    }
   ],
   "source": [
    "Lossy_avg_re_list"
   ]
  },
  {
   "cell_type": "code",
   "execution_count": 82,
   "metadata": {},
   "outputs": [
    {
     "data": {
      "text/plain": [
       "[1.328415238492698e-06, 0.0, 0.0, 0.0]"
      ]
     },
     "execution_count": 82,
     "metadata": {},
     "output_type": "execute_result"
    }
   ],
   "source": [
    "Space_avg_re_list"
   ]
  },
  {
   "cell_type": "code",
   "execution_count": 83,
   "metadata": {},
   "outputs": [
    {
     "data": {
      "image/png": "[encoded data removed]",
      "text/plain": [
       "<Figure size 432x288 with 1 Axes>"
      ]
     },
     "metadata": {
      "needs_background": "light"
     },
     "output_type": "display_data"
    }
   ],
   "source": [
    "z = [1.1, 1.4, 1.7, 2.0]\n",
    "plt.plot(z, Sticky_memory_result_list, 'ro-', label='Sticky Sampling')\n",
    "plt.plot( z, Lossy_memory_result_list, 'bs--', label='Lossy Counting')\n",
    "plt.plot( z, Space_memory_result_list, '^k:', label='Space Saving')\n",
    "plt.title(\"Memory Comparison on Different z\")\n",
    "plt.xlabel(\"z\")\n",
    "plt.ylabel(\"Memory (kB)\")\n",
    "plt.legend(loc='upper right')\n",
    "plt.show()"
   ]
  },
  {
   "cell_type": "code",
   "execution_count": 84,
   "metadata": {},
   "outputs": [
    {
     "data": {
      "image/png": "[encoded data removed]",
      "text/plain": [
       "<Figure size 432x288 with 1 Axes>"
      ]
     },
     "metadata": {
      "needs_background": "light"
     },
     "output_type": "display_data"
    }
   ],
   "source": [
    "z = [1.1, 1.4, 1.7, 2.0]\n",
    "plt.plot(z, Sticky_time_result_list, 'ro-', label='Sticky Sampling')\n",
    "plt.plot( z, Lossy_time_result_list, 'bs--', label='Lossy Counting')\n",
    "plt.plot( z, Space_time_result_list, '^k:', label='Space Saving')\n",
    "plt.title(\"Time Comparison on Different z\")\n",
    "plt.xlabel(\"z\")\n",
    "plt.ylabel(\"Time (s)\")\n",
    "plt.legend(loc='upper right')\n",
    "plt.show()"
   ]
  },
  {
   "cell_type": "code",
   "execution_count": 85,
   "metadata": {},
   "outputs": [
    {
     "data": {
      "image/png": "[encoded data removed]",
      "text/plain": [
       "<Figure size 432x288 with 1 Axes>"
      ]
     },
     "metadata": {
      "needs_background": "light"
     },
     "output_type": "display_data"
    }
   ],
   "source": [
    "z = [1.1, 1.4, 1.7, 2.0]\n",
    "plt.plot(z, Sticky_acc_list, 'ro-', label='Sticky Sampling')\n",
    "plt.plot( z, Lossy_acc_list, 'bs--', label='Lossy Counting')\n",
    "plt.plot( z, Space_acc_list, '^k:', label='Space Saving')\n",
    "plt.title(\"Heavy Hitter Accuracy Comparison on Different z\")\n",
    "plt.xlabel(\"z\")\n",
    "plt.ylabel(\"Heavy Hitter Accuracy\")\n",
    "plt.legend(loc='lower right')\n",
    "plt.show()"
   ]
  },
  {
   "cell_type": "code",
   "execution_count": 86,
   "metadata": {},
   "outputs": [
    {
     "data": {
      "image/png": "[encoded data removed]",
      "text/plain": [
       "<Figure size 432x288 with 1 Axes>"
      ]
     },
     "metadata": {
      "needs_background": "light"
     },
     "output_type": "display_data"
    }
   ],
   "source": [
    "z = [1.1, 1.4, 1.7, 2.0]\n",
    "plt.plot(z, Sticky_prec_list, 'ro-', label='Sticky Sampling')\n",
    "plt.plot( z, Lossy_prec_list, 'bs--', label='Lossy Counting')\n",
    "plt.plot( z, Space_prec_list, '^k:', label='Space Saving')\n",
    "plt.title(\"Heavy Hitter Precision Comparison on Different z\")\n",
    "plt.xlabel(\"z\")\n",
    "plt.ylabel(\"Heavy Hitter Precision\")\n",
    "plt.legend(loc='lower right')\n",
    "plt.show()"
   ]
  },
  {
   "cell_type": "code",
   "execution_count": 87,
   "metadata": {},
   "outputs": [
    {
     "data": {
      "image/png": "[encoded data removed]",
      "text/plain": [
       "<Figure size 432x288 with 1 Axes>"
      ]
     },
     "metadata": {
      "needs_background": "light"
     },
     "output_type": "display_data"
    }
   ],
   "source": [
    "z = [1.1, 1.4, 1.7, 2.0]\n",
    "plt.plot(z, Sticky_avg_re_list, 'ro-', label='Sticky Sampling')\n",
    "plt.plot( z, Lossy_avg_re_list, 'bs--', label='Lossy Counting')\n",
    "plt.plot( z, Space_avg_re_list, '^k:', label='Space Saving')\n",
    "plt.title(\"Heavy Hitter Average Relative Error Comparison on Different z\")\n",
    "plt.xlabel(\"z\")\n",
    "plt.ylabel(\"Heavy Hitter Average Relative Error\")\n",
    "plt.legend(loc='upper right')\n",
    "plt.show()"
   ]
  }
 ],
 "metadata": {
  "kernelspec": {
   "display_name": "Python 3",
   "language": "python",
   "name": "python3"
  },
  "language_info": {
   "codemirror_mode": {
    "name": "ipython",
    "version": 3
   },
   "file_extension": ".py",
   "mimetype": "text/x-python",
   "name": "python",
   "nbconvert_exporter": "python",
   "pygments_lexer": "ipython3",
   "version": "3.7.1"
  }
 },
 "nbformat": 4,
 "nbformat_minor": 2
}
