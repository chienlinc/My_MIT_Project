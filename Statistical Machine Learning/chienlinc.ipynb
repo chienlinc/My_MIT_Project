{
 "cells": [
  {
   "cell_type": "markdown",
   "metadata": {
    "id": "B93I8nR4mxz9"
   },
   "source": [
    "# COMP90051 Project 2"
   ]
  },
  {
   "cell_type": "code",
   "execution_count": 1,
   "metadata": {
    "id": "ak6AXWHrmxz-"
   },
   "outputs": [],
   "source": [
    "# Do not edit. These are the only imports permitted.\n",
    "import numpy as np\n",
    "from abc import ABC, abstractmethod\n",
    "from sklearn.tree import DecisionTreeClassifier   # for Task 4\n",
    "from sklearn.base import clone                    # optional for Task 4\n",
    "import random\n",
    "import matplotlib.pyplot as plt                   # for Task 5\n",
    "from sklearn.metrics.pairwise import rbf_kernel   # for Task 6"
   ]
  },
  {
   "cell_type": "code",
   "execution_count": 2,
   "metadata": {
    "id": "o6TfEOPlmx0B"
   },
   "outputs": [],
   "source": [
    "class MAB(ABC):\n",
    "    \"\"\"Base class for a contextual multi-armed bandit (MAB)\n",
    "    \n",
    "    Parameters\n",
    "    ----------\n",
    "    n_arms : int\n",
    "        Number of arms.\n",
    "    \"\"\"\n",
    "    def __init__(self, n_arms):\n",
    "        if not np.issubdtype(type(n_arms), np.integer):\n",
    "            raise TypeError(\"`n_arms` must be an integer\")\n",
    "        if not n_arms >= 0:\n",
    "            raise ValueError(\"`n_arms` must be non-negative\")\n",
    "        self.n_arms = n_arms\n",
    "        # your code here (if you like)\n",
    "        \n",
    "    @abstractmethod\n",
    "    def play(self, context):\n",
    "        \"\"\"Play a round\n",
    "        \n",
    "        Parameters\n",
    "        ----------        \n",
    "        context : float numpy.ndarray, shape (n_arms, n_dims), optional\n",
    "            An array of context vectors presented to the MAB. The 0-th \n",
    "            axis indexes the arms, and the 1-st axis indexes the features.\n",
    "            Non-contextual bandits accept a context of None.\n",
    "        \n",
    "        Returns\n",
    "        -------\n",
    "        arm : int\n",
    "            Integer index of the arm played this round. Should be in the set \n",
    "            {0, ..., n_arms - 1}.\n",
    "        \"\"\"\n",
    "        # your code here (if you like)\n",
    "    \n",
    "    @abstractmethod\n",
    "    def update(self, arm, reward, context):\n",
    "        \"\"\"Update the internal state of the MAB after a play\n",
    "        \n",
    "        Parameters\n",
    "        ----------\n",
    "        arm : int\n",
    "            Integer index of the played arm in the set {0, ..., n_arms - 1}.\n",
    "        \n",
    "        reward : float\n",
    "            Reward received from the arm.\n",
    "        \n",
    "        context : float numpy.ndarray, shape (n_arms, n_dims), optional\n",
    "            An array of context vectors that was presented to the MAB. The \n",
    "            0-th axis indexes the arms, and the 1-st axis indexes the \n",
    "            features. Non-contextual bandits accept a context of None. \n",
    "        \"\"\"\n",
    "        # your code here (if you like)"
   ]
  },
  {
   "cell_type": "code",
   "execution_count": 3,
   "metadata": {
    "id": "rv62xVFQmx0F"
   },
   "outputs": [],
   "source": [
    "# Define global functions here, if required"
   ]
  },
  {
   "cell_type": "code",
   "execution_count": 4,
   "metadata": {
    "id": "KMryT5pDmx0I"
   },
   "outputs": [],
   "source": [
    "def probably_exploit(avg_rewards):\n",
    "    \n",
    "    max_elements = max(avg_rewards)\n",
    "    \n",
    "    count_max = 0\n",
    "    max_elements_list = []\n",
    "    \n",
    "    for i in range(len(avg_rewards)):\n",
    "        if avg_rewards[i] == max_elements:\n",
    "            count_max += 1\n",
    "            max_elements_list.append(i)\n",
    "    \n",
    "    # tie breaking for more than one\n",
    "    if count_max == 1:\n",
    "        return max_elements_list[0]\n",
    "    else:\n",
    "        return np.random.choice(max_elements_list)\n",
    "        "
   ]
  },
  {
   "cell_type": "markdown",
   "metadata": {
    "id": "zrmoRumlmx0K"
   },
   "source": [
    "## 1. Implement ε-greedy and UCB MABs"
   ]
  },
  {
   "cell_type": "code",
   "execution_count": 5,
   "metadata": {
    "id": "4LWwyja-mx0K"
   },
   "outputs": [],
   "source": [
    "class EpsGreedy(MAB):\n",
    "    \"\"\"Epsilon-Greedy multi-armed bandit\n",
    "\n",
    "    Parameters\n",
    "    ----------\n",
    "    n_arms : int\n",
    "        Number of arms\n",
    "\n",
    "    epsilon : float\n",
    "        Explore probability. Must be in the interval [0, 1].\n",
    "\n",
    "    Q0 : float, default=np.inf\n",
    "        Initial value for the arms.\n",
    "    \"\"\"\n",
    "    def __init__(self, n_arms, epsilon, Q0=np.inf):\n",
    "        super().__init__(n_arms)\n",
    "        # your code here\n",
    "        \n",
    "        self.epsilon = epsilon\n",
    "        self.count_arms = [0 for i in range(self.n_arms)]\n",
    "        self.avg_rewards = [Q0 for i in range(self.n_arms)]\n",
    "        \n",
    "    \n",
    "    def play(self, context=None):\n",
    "        super().play(context)\n",
    "        # your code here\n",
    "        \n",
    "        # exploit\n",
    "        if np.random.random() > self.epsilon:\n",
    "            return probably_exploit(self.avg_rewards)\n",
    "        \n",
    "        # explore\n",
    "        else:\n",
    "            return np.random.randint(self.n_arms)\n",
    "        \n",
    "        \n",
    "    def update(self, arm, reward, context=None):\n",
    "        super().update(arm, reward, context)\n",
    "        # your code here\n",
    "        \n",
    "        pre_num_arm = self.count_arms[arm]\n",
    "        cur_num_arm = pre_num_arm + 1\n",
    "        pre_avg_rewards = self.avg_rewards[arm]\n",
    "        self.count_arms[arm] = cur_num_arm\n",
    "        \n",
    "        if pre_num_arm > 0:\n",
    "            new_avg_rewards = (pre_avg_rewards*pre_num_arm + reward) / cur_num_arm\n",
    "        else:\n",
    "            new_avg_rewards = reward\n",
    "            \n",
    "        self.avg_rewards[arm] = new_avg_rewards\n",
    "            "
   ]
  },
  {
   "cell_type": "code",
   "execution_count": 6,
   "metadata": {
    "id": "1FIxhMlGmx0Q"
   },
   "outputs": [],
   "source": [
    "class UCB(MAB):\n",
    "    \"\"\"Upper Confidence Bound (UCB) multi-armed bandit\n",
    "\n",
    "    Parameters\n",
    "    ----------\n",
    "    n_arms : int\n",
    "        Number of arms.\n",
    "\n",
    "    rho : float\n",
    "        Positive real explore-exploit parameter.\n",
    "\n",
    "    Q0 : float, default=np.inf\n",
    "        Initial value for the arms.\n",
    "    \"\"\"\n",
    "    def __init__(self, n_arms, rho, Q0=np.inf):\n",
    "        super().__init__(n_arms)\n",
    "        # your code here\n",
    "        \n",
    "        self.rho = rho\n",
    "        self.count_arms = [0 for i in range(self.n_arms)]\n",
    "        self.avg_rewards = [Q0 for i in range(self.n_arms)]\n",
    "        \n",
    "    \n",
    "    def play(self, context=None):\n",
    "        super().play(context)\n",
    "        # your code here\n",
    "        \n",
    "        pre_t = sum(self.count_arms)\n",
    "        t = pre_t + 1\n",
    "        pre_q_values = [0.0 for i in range(self.n_arms)]\n",
    "        \n",
    "        \n",
    "        \n",
    "        for i in range(self.n_arms):\n",
    "            pre_num_arm = self.count_arms[i]\n",
    "            pre_avg_rewards = self.avg_rewards[i]\n",
    "            \n",
    "            if pre_num_arm > 0:\n",
    "                q_values = pre_avg_rewards + np.sqrt(self.rho * np.log(t) / pre_num_arm)\n",
    "            else:\n",
    "                q_values = pre_avg_rewards\n",
    "                \n",
    "            pre_q_values[i] = q_values\n",
    "        \n",
    "        # argmax\n",
    "        return probably_exploit(pre_q_values)\n",
    "    \n",
    "        \n",
    "    def update(self, arm, reward, context=None):\n",
    "        super().update(arm, reward, context)\n",
    "        # your code here\n",
    "        \n",
    "        pre_num_arm = self.count_arms[arm]\n",
    "        cur_num_arm = pre_num_arm + 1\n",
    "        pre_avg_rewards = self.avg_rewards[arm]\n",
    "        self.count_arms[arm] = cur_num_arm\n",
    "        \n",
    "        if pre_num_arm > 0:\n",
    "            new_avg_rewards = (pre_avg_rewards*pre_num_arm + reward) / cur_num_arm\n",
    "        else:\n",
    "            new_avg_rewards = reward\n",
    "            \n",
    "        self.avg_rewards[arm] = new_avg_rewards\n",
    "        \n",
    "        "
   ]
  },
  {
   "cell_type": "markdown",
   "metadata": {
    "id": "R1UHpQ8ymx0V"
   },
   "source": [
    "## 2. Implement off-policy evaluation"
   ]
  },
  {
   "cell_type": "code",
   "execution_count": 7,
   "metadata": {
    "id": "xG7FSMNumx0V"
   },
   "outputs": [],
   "source": [
    "def offlineEvaluate(mab, arms, rewards, contexts, n_rounds=None):\n",
    "    \"\"\"Offline evaluation of a multi-armed bandit\n",
    "    \n",
    "    Parameters\n",
    "    ----------\n",
    "    mab : instance of MAB\n",
    "        MAB to evaluate.\n",
    "    \n",
    "    arms : integer numpy.ndarray, shape (n_events,) \n",
    "        Array containing the history of pulled arms, represented as integer \n",
    "        indices in the set {0, ..., mab.n_arms}\n",
    "    \n",
    "    rewards : float numpy.ndarray, shape (n_events,)\n",
    "        Array containing the history of rewards.\n",
    "    \n",
    "    contexts : float numpy.ndarray, shape (n_events, n_arms, n_dims)\n",
    "        Array containing the history of contexts presented to the arms. \n",
    "        The 0-th axis indexes the events in the history, the 1-st axis \n",
    "        indexes the arms and the 2-nd axis indexed the features.\n",
    "        \n",
    "    n_rounds : int, default=None\n",
    "        Number of matching events to evaluate the MAB on. If None, \n",
    "        continue evaluating until the historical events are exhausted.\n",
    "    \n",
    "    Returns\n",
    "    -------\n",
    "    out : float numpy.ndarray\n",
    "        Rewards for the matching events.\n",
    "    \"\"\"\n",
    "    # your code here\n",
    "    \n",
    "    #history = []\n",
    "    \n",
    "    total_payoff = []\n",
    "    t = 1\n",
    "    \n",
    "    for event_index in range(len(arms)):\n",
    "        \n",
    "        cur_arm = arms[event_index]\n",
    "        cur_reward = rewards[event_index]\n",
    "        cur_context = contexts[event_index]\n",
    "        \n",
    "        if t > n_rounds:\n",
    "            break\n",
    "            \n",
    "        if mab.play(cur_context) == cur_arm:\n",
    "            t += 1\n",
    "            total_payoff.append(cur_reward)\n",
    "            mab.update(cur_arm, cur_reward, cur_context)\n",
    "            \n",
    "            #history.append((cur_arm, cur_reward, cur_context))\n",
    "        \n",
    "        \n",
    "    return total_payoff"
   ]
  },
  {
   "cell_type": "code",
   "execution_count": 8,
   "metadata": {
    "id": "mYggxYzXmx0a"
   },
   "outputs": [],
   "source": [
    "# load dataset here\n",
    "txt = np.loadtxt(\"dataset.txt\", dtype=int)\n",
    "arms, rewards, contexts = txt[:, 0], txt[:, 1], txt[:, 2:]"
   ]
  },
  {
   "cell_type": "code",
   "execution_count": 9,
   "metadata": {
    "colab": {
     "base_uri": "https://localhost:8080/",
     "height": 34
    },
    "id": "vnVmQ4ztmx0c",
    "outputId": "c0f043cf-f09a-4547-d05f-80fa1545903a"
   },
   "outputs": [
    {
     "name": "stdout",
     "output_type": "stream",
     "text": [
      "EpsGreedy average reward 0.25125\n"
     ]
    }
   ],
   "source": [
    "mab = EpsGreedy(10, 0.05)\n",
    "results_EpsGreedy = offlineEvaluate(mab, arms, rewards, contexts, 800)\n",
    "print('EpsGreedy average reward', np.mean(results_EpsGreedy))"
   ]
  },
  {
   "cell_type": "code",
   "execution_count": 10,
   "metadata": {
    "colab": {
     "base_uri": "https://localhost:8080/",
     "height": 34
    },
    "id": "2gMCHuuOmx0e",
    "outputId": "6f16a4de-6e3f-486f-cf73-404dea9dfb35"
   },
   "outputs": [
    {
     "name": "stdout",
     "output_type": "stream",
     "text": [
      "UCB average reward 0.175\n"
     ]
    }
   ],
   "source": [
    "mab = UCB(10, 1.0)\n",
    "results_UCB = offlineEvaluate(mab, arms, rewards, contexts, 800)\n",
    "print('UCB average reward', np.mean(results_UCB))"
   ]
  },
  {
   "cell_type": "markdown",
   "metadata": {
    "id": "gnl4UNRlmx0g"
   },
   "source": [
    "## 3. Implement LinUCB contextual MAB"
   ]
  },
  {
   "cell_type": "code",
   "execution_count": 11,
   "metadata": {
    "id": "-pWd8vnxmx0h"
   },
   "outputs": [],
   "source": [
    "class LinUCB(MAB):\n",
    "    \"\"\"Contextual multi-armed bandit (LinUCB)\n",
    "\n",
    "    Parameters\n",
    "    ----------\n",
    "    n_arms : int\n",
    "        Number of arms.\n",
    "\n",
    "    n_dims : int\n",
    "        Number of features for each arm's context.\n",
    "\n",
    "    alpha : float\n",
    "        Positive real explore-exploit parameter.\n",
    "    \"\"\"\n",
    "    def __init__(self, n_arms, n_dims, alpha):\n",
    "        super().__init__(n_arms)\n",
    "        # your code here\n",
    "        \n",
    "        self.n_dims = n_dims\n",
    "        self.alpha = alpha\n",
    "        self.A_list = [np.identity(n_dims) for col in range(self.n_arms)]\n",
    "        self.b_list = [np.zeros((n_dims, 1)) for col in range(self.n_arms)]\n",
    "        \n",
    "    \n",
    "    def play(self, context):\n",
    "        super().play(context)\n",
    "        # your code here\n",
    "        \n",
    "        p_ta = [0.0 for i in range(self.n_arms)]\n",
    "        \n",
    "        for i in range(self.n_arms):\n",
    "            \n",
    "            x_ta = context[i*10 : (i + 1)*10].reshape(-1, 1)\n",
    "            \n",
    "            theta_a = np.linalg.inv(self.A_list[i]) @ self.b_list[i]\n",
    "            \n",
    "            p_ta[i] = theta_a.T @ x_ta + self.alpha * np.sqrt(np.linalg.multi_dot([x_ta.T, np.linalg.inv(self.A_list[i]), x_ta]))\n",
    "            \n",
    "        # argmax\n",
    "        return probably_exploit(p_ta)\n",
    "    \n",
    "    \n",
    "    def update(self, arm, reward, context):\n",
    "        super().update(arm, reward, context)\n",
    "        # your code here\n",
    "        \n",
    "        pre_A = self.A_list[arm]\n",
    "        pre_b = self.b_list[arm]\n",
    "        \n",
    "        x_tat = context[arm*10 : (arm + 1)*10].reshape(-1, 1)\n",
    "        \n",
    "        self.A_list[arm] = pre_A + x_tat @ x_tat.T\n",
    "        self.b_list[arm] = pre_b + reward * x_tat\n",
    "        "
   ]
  },
  {
   "cell_type": "code",
   "execution_count": 12,
   "metadata": {
    "colab": {
     "base_uri": "https://localhost:8080/",
     "height": 34
    },
    "id": "xnnqlXz3mx0j",
    "outputId": "b8d64c50-36f8-4685-94dd-b917c5ef8bdb"
   },
   "outputs": [
    {
     "name": "stdout",
     "output_type": "stream",
     "text": [
      "LinUCB average reward 0.53\n"
     ]
    }
   ],
   "source": [
    "mab = LinUCB(10, 10, 1.0)\n",
    "results_LinUCB = offlineEvaluate(mab, arms, rewards, contexts, 800)\n",
    "print('LinUCB average reward', np.mean(results_LinUCB))"
   ]
  },
  {
   "cell_type": "markdown",
   "metadata": {
    "id": "Svg6UgXPmx0l"
   },
   "source": [
    "## 4. Implement TreeBootstrap contextual MAB"
   ]
  },
  {
   "cell_type": "code",
   "execution_count": 13,
   "metadata": {
    "id": "_yI_evDNmx0l"
   },
   "outputs": [],
   "source": [
    "class TreeBootstrap(MAB):\n",
    "    \"\"\"Contextual Thompson sampled multi-armed bandit (TreeBootstrap)\n",
    "\n",
    "    Parameters\n",
    "    ----------\n",
    "    n_arms : int\n",
    "        Number of arms.\n",
    "\n",
    "    n_dims : int\n",
    "        Number of features for each arm's context.\n",
    "\n",
    "    tree : instance of sklearn.tree.DecisionTreeClassifier, optional\n",
    "        Decision tree to use for predicting the expected future reward. \n",
    "        Defaults to sklearn.tree.DecisionTreeClassifier().\n",
    "    \"\"\"\n",
    "    def __init__(self, n_arms, n_dims, tree=DecisionTreeClassifier()):\n",
    "        super().__init__(n_arms)\n",
    "        # your code here\n",
    "        \n",
    "        self.n_dims = n_dims\n",
    "        self.tree = tree\n",
    "        self.history = [[] for i in range(n_arms)]\n",
    "\n",
    "        \n",
    "    def play(self, context):\n",
    "        super().play(context)\n",
    "        # your code here\n",
    "        \n",
    "        predict = [0 for i in range(self.n_arms)]\n",
    "        context_vec = []\n",
    "        \n",
    "        for i in range(self.n_arms):\n",
    "            context_vec.append(context[i*10 : (i + 1)*10])\n",
    "            \n",
    "        for i in range(self.n_arms):\n",
    "            if len(self.history[i]) == 0:\n",
    "                predict[i] = (1)\n",
    "            else:\n",
    "                samples_X = [list(random.choice(self.history[i])) for j in range(len(self.history[i]))]\n",
    "                samples_y = [1 for j in range(len(self.history[i]))]\n",
    "                clf = self.tree\n",
    "                clf.fit(samples_X, samples_y)\n",
    "                predict[i] = clf.predict_proba(context_vec[i].reshape(1, -1))[0][0]\n",
    "                            \n",
    "        # argmax\n",
    "        return probably_exploit(predict)\n",
    " \n",
    "    \n",
    "    def update(self, arm, reward, context):\n",
    "        super().update(arm, reward, context)\n",
    "        # your code here\n",
    "        \n",
    "        context_vec = []\n",
    "        for i in range(self.n_arms):\n",
    "            context_vec.append(context[i*10 : (i + 1)*10])\n",
    "            \n",
    "        for i in range(self.n_arms):\n",
    "            if len(self.history[i]) == 0:\n",
    "                a = context_vec[i] + [0]\n",
    "                b = context_vec[i] + [1]\n",
    "                self.history[i].append(a)\n",
    "                self.history[i].append(b)   \n",
    "            else:\n",
    "                c = context_vec[i] + [reward]\n",
    "                self.history[i].append(c)\n",
    "                \n",
    "        "
   ]
  },
  {
   "cell_type": "code",
   "execution_count": 14,
   "metadata": {
    "colab": {
     "base_uri": "https://localhost:8080/",
     "height": 34
    },
    "id": "dM2-RW5Xmx0o",
    "outputId": "3db5ea77-f2c2-4cab-e9d2-81d83cc13387"
   },
   "outputs": [
    {
     "name": "stdout",
     "output_type": "stream",
     "text": [
      "TreeBootstrap average reward 0.1\n"
     ]
    }
   ],
   "source": [
    "mab = TreeBootstrap(10, 10)\n",
    "results_TreeBootstrap = offlineEvaluate(mab, arms, rewards, contexts, 800)\n",
    "print('TreeBootstrap average reward', np.mean(results_TreeBootstrap))"
   ]
  },
  {
   "cell_type": "markdown",
   "metadata": {
    "id": "u8n8KZ0amx0s"
   },
   "source": [
    "## 5. Evaluation and hyperparameter tuning for LinUCB\n",
    "### 5.A."
   ]
  },
  {
   "cell_type": "code",
   "execution_count": 15,
   "metadata": {
    "id": "ICfq9UrRmx0t"
   },
   "outputs": [],
   "source": [
    "T = np.arange(1, 801, 1)\n",
    "\n",
    "def get_results(results):\n",
    "    cum_results = np.cumsum(results)\n",
    "    return [cum_results[i]/T[i] for i in range(800)]"
   ]
  },
  {
   "cell_type": "code",
   "execution_count": 16,
   "metadata": {
    "colab": {
     "base_uri": "https://localhost:8080/",
     "height": 282
    },
    "id": "6_zS9aRy-F4r",
    "outputId": "9e59f819-c6b5-46a9-d22a-07e0f662420f"
   },
   "outputs": [
    {
     "data": {
      "text/plain": [
       "<matplotlib.legend.Legend at 0x1a0a76bef0>"
      ]
     },
     "execution_count": 16,
     "metadata": {},
     "output_type": "execute_result"
    },
    {
     "data": {
      "image/png": "[encoded data removed]",
      "text/plain": [
       "<matplotlib.figure.Figure at 0x1a08fbdda0>"
      ]
     },
     "metadata": {},
     "output_type": "display_data"
    }
   ],
   "source": [
    "fig = plt.figure()\n",
    "ax = plt.axes()\n",
    "ax.plot(T, get_results(results_EpsGreedy), 'r', label='EpsGreedy')\n",
    "ax.plot(T, get_results(results_UCB), 'b', label='UCB')\n",
    "ax.plot(T, get_results(results_LinUCB), 'g', label='LinUCB')\n",
    "ax.plot(T, get_results(results_TreeBootstrap), 'k', label='TreeBootstrap')\n",
    "ax.legend(loc='upper right')"
   ]
  },
  {
   "cell_type": "markdown",
   "metadata": {
    "id": "kBcdQpLImx0x"
   },
   "source": [
    "### 5.B."
   ]
  },
  {
   "cell_type": "code",
   "execution_count": 17,
   "metadata": {
    "colab": {
     "base_uri": "https://localhost:8080/",
     "height": 51
    },
    "id": "ymCC44bmmx0y",
    "outputId": "c33448e0-c7f8-4ba1-f7f9-b7972f1e9bfb"
   },
   "outputs": [
    {
     "name": "stdout",
     "output_type": "stream",
     "text": [
      "Max score: 0.70875\n",
      "alpha: 0.1\n"
     ]
    }
   ],
   "source": [
    "alphas = np.arange(0.1, 2.2, 0.2)\n",
    "scores = []\n",
    "max_score = 0\n",
    "max_alpha = 0\n",
    "for alpha in alphas:\n",
    "    \n",
    "    score = np.mean(offlineEvaluate(LinUCB(10, 10, alpha), arms, rewards, contexts, 800))\n",
    "    scores.append(score)\n",
    "\n",
    "    if score > max_score:\n",
    "        max_score = score\n",
    "        max_alpha = alpha\n",
    "        \n",
    "print(\"Max score: \" + str(max_score))\n",
    "print(\"alpha: \" + str(max_alpha))"
   ]
  },
  {
   "cell_type": "code",
   "execution_count": 18,
   "metadata": {
    "colab": {
     "base_uri": "https://localhost:8080/",
     "height": 296
    },
    "id": "_J_baHubmx00",
    "outputId": "1f1a23b0-91d6-49f3-9089-62023cd98fe8"
   },
   "outputs": [
    {
     "name": "stdout",
     "output_type": "stream",
     "text": [
      "0.70875 0.1\n"
     ]
    },
    {
     "data": {
      "image/png": "[encoded data removed]",
      "text/plain": [
       "<matplotlib.figure.Figure at 0x1a0a323320>"
      ]
     },
     "metadata": {},
     "output_type": "display_data"
    }
   ],
   "source": [
    "print(max_score, max_alpha)\n",
    "ax = plt.figure().subplots()\n",
    "ax.plot(alphas, scores)\n",
    "ax.set_xlabel(r\"$\\alpha$\")\n",
    "ax.set_ylabel(\"scores\")\n",
    "plt.show()"
   ]
  },
  {
   "cell_type": "markdown",
   "metadata": {
    "id": "p1B06IEnmx02"
   },
   "source": [
    "## 6. Implement KernelUCB contextual MAB"
   ]
  },
  {
   "cell_type": "code",
   "execution_count": 19,
   "metadata": {
    "id": "mPOH1l2qmx03"
   },
   "outputs": [],
   "source": [
    "class KernelUCB(MAB):\n",
    "    \"\"\"Kernelised contextual multi-armed bandit (Kernelised LinUCB)\n",
    "    \n",
    "    Parameters\n",
    "    ----------\n",
    "    n_arms : int\n",
    "        Number of arms.\n",
    "\n",
    "    n_dims : int\n",
    "        Number of features for each arm's context.\n",
    "\n",
    "    gamma : float\n",
    "        Positive real explore-exploit parameter.\n",
    "    \n",
    "    eta : float\n",
    "        Positive real explore-exploit parameter.\n",
    "    \n",
    "    kern : callable\n",
    "        A kernel function from sklearn.metrics.pairwise.\n",
    "    \"\"\"\n",
    "    def __init__(self, n_arms, n_dims, gamma, eta, kern):\n",
    "        super().__init__(n_arms)\n",
    "        # your code here\n",
    "        \n",
    "        self.n_dims = n_dims\n",
    "        self.gamma = gamma\n",
    "        self.eta = eta\n",
    "        self.kern = kern\n",
    "        self.count_arms = [0 for i in range(self.n_arms)]\n",
    "        self.mu_t = list([1] + [0]*(self.n_arms-1))\n",
    "        self.y = []\n",
    "        self.xt_history = []\n",
    "        self.K_t1_inv = None\n",
    "        self.yt = None\n",
    "\n",
    "        \n",
    "    def play(self, context):\n",
    "        super().play(context)\n",
    "        # your code here\n",
    "        \n",
    "        pre_t = sum(self.count_arms)\n",
    "        t = pre_t + 1\n",
    "        mu_t = [0 for i in range(self.n_arms)]\n",
    "        \n",
    "        if t != 1:\n",
    "\n",
    "            for i in range(self.n_arms):\n",
    "                x_at = np.array(context[i*10 : (i+1)*10])\n",
    "                c = np.array([self.kern(x_at.reshape(1, -1), xt_h.reshape(1, -1)) for xt_h in self.xt_history]).reshape(-1, 1)\n",
    "                sigma_at = np.sqrt(self.kern(x_at.reshape(1, -1), x_at.reshape(1, -1)) - np.linalg.multi_dot([c.T, self.K_t1_inv, c]))\n",
    "                mu_t[i] = np.linalg.multi_dot([c.T, self.K_t1_inv, self.yt]) + self.eta / np.sqrt(self.gamma) * sigma_at      \n",
    "        \n",
    "        # argmax\n",
    "        return probably_exploit(mu_t)\n",
    "        \n",
    "    \n",
    "    def update(self, arm, reward, context):\n",
    "        super().update(arm, reward, context)\n",
    "        # your code here\n",
    "        \n",
    "        pre_t = sum(self.count_arms)\n",
    "        t = pre_t + 1  \n",
    "        xt = context[arm*10 : (arm+1)*10].reshape(-1, 1)\n",
    "        self.xt_history.append(xt)\n",
    "        self.y.append(reward)\n",
    "        self.yt = np.array(self.y).reshape(-1, 1)\n",
    "        yt_1 = np.array(self.y).reshape(-1, 1)\n",
    "        \n",
    "        if t == 1:\n",
    "            self.K_t1_inv = 1 / (self.kern(xt.reshape(1, -1), xt.reshape(1, -1)) + self.gamma)\n",
    "        else:\n",
    "            b = np.array([self.kern(xt.reshape(1, -1), xt_h.reshape(1, -1)) for xt_h in self.xt_history[:-1]]).reshape(-1, 1)\n",
    "            Kt_inv = self.K_t1_inv\n",
    "            K22 = np.linalg.inv(self.kern(xt.reshape(1, -1), xt.reshape(1, -1)) + self.gamma - np.linalg.multi_dot([b.T, Kt_inv, b]))\n",
    "            K11 = Kt_inv + K22* np.linalg.multi_dot([Kt_inv, b, b.T, Kt_inv])   \n",
    "            K12 = (-K22) * np.linalg.multi_dot([Kt_inv, b])\n",
    "            K21 = (-K22) * np.linalg.multi_dot([b.T, Kt_inv])\n",
    "            a = np.block([[K11, K12], [K21, K22]])\n",
    "            self.K_t1_inv = a\n",
    "\n",
    "        pre_num_arm = self.count_arms[arm]\n",
    "        cur_num_arm = pre_num_arm + 1\n",
    "        self.count_arms[arm] = cur_num_arm"
   ]
  },
  {
   "cell_type": "code",
   "execution_count": 20,
   "metadata": {
    "colab": {
     "base_uri": "https://localhost:8080/",
     "height": 34
    },
    "id": "_06PzNQMmx06",
    "outputId": "b7b4ad4e-a24c-481a-f7a2-8472525ae077"
   },
   "outputs": [
    {
     "name": "stdout",
     "output_type": "stream",
     "text": [
      "KernelUCB average reward 0.69875\n"
     ]
    }
   ],
   "source": [
    "mab = KernelUCB(10, 10, 1.0, 0.1, rbf_kernel)\n",
    "results_KernelUCB = offlineEvaluate(mab, arms, rewards, contexts, 800)\n",
    "print('KernelUCB average reward', np.mean(results_KernelUCB))"
   ]
  },
  {
   "cell_type": "code",
   "execution_count": 21,
   "metadata": {
    "id": "60NXYhip_2za"
   },
   "outputs": [
    {
     "name": "stdout",
     "output_type": "stream",
     "text": [
      "Max score: 0.785\n",
      "gamma: 1.0 eta: 0.5\n"
     ]
    }
   ],
   "source": [
    "max_score = 0\n",
    "max_gamma = 0\n",
    "max_eta = 0\n",
    "max_results_KernelUCB = []\n",
    "\n",
    "gammas = [0.1, 0.3, 0.5, 0.7, 1.0]\n",
    "etas = [0.1, 0.3, 0.5, 0.7, 1.0]\n",
    "\n",
    "for gamma in gammas:\n",
    "    for eta in etas:\n",
    "        \n",
    "        mab = KernelUCB(10, 10, gamma, eta, rbf_kernel)\n",
    "        results_KernelUCB = offlineEvaluate(mab, arms, rewards, contexts, 800)\n",
    "        score = np.mean(results_KernelUCB)\n",
    "        \n",
    "        if score > max_score: \n",
    "            max_score = score\n",
    "            max_gamma = gamma\n",
    "            max_eta = eta\n",
    "            max_results_KernelUCB = results_KernelUCB\n",
    "                \n",
    "print(\"Max score: \"+ str(max_score))\n",
    "print(\"gamma: \" + str(max_gamma) + \" eta: \" + str(max_eta))"
   ]
  },
  {
   "cell_type": "code",
   "execution_count": 22,
   "metadata": {
    "colab": {
     "base_uri": "https://localhost:8080/",
     "height": 282
    },
    "id": "Mu2Hwa6C9Knb",
    "outputId": "e23ae7cd-d3a8-4fe2-a13e-66e284f2fcd3"
   },
   "outputs": [
    {
     "data": {
      "text/plain": [
       "<matplotlib.legend.Legend at 0x1a0a3b04e0>"
      ]
     },
     "execution_count": 22,
     "metadata": {},
     "output_type": "execute_result"
    },
    {
     "data": {
      "image/png": "[encoded data removed]",
      "text/plain": [
       "<matplotlib.figure.Figure at 0x1a08fc7198>"
      ]
     },
     "metadata": {},
     "output_type": "display_data"
    }
   ],
   "source": [
    "fig = plt.figure()\n",
    "ax = plt.axes()\n",
    "x = np.linspace(1, 800, 800)\n",
    "ax.plot(T, get_results(results_LinUCB), 'g', label='LinUCB')\n",
    "ax.plot(T, get_results(max_results_KernelUCB), 'c', label='KernelUCB')\n",
    "ax.legend(loc='lower right')"
   ]
  }
 ],
 "metadata": {
  "colab": {
   "collapsed_sections": [],
   "name": "SML-proj2.ipynb",
   "provenance": []
  },
  "kernelspec": {
   "display_name": "Python 3",
   "language": "python",
   "name": "python3"
  },
  "language_info": {
   "codemirror_mode": {
    "name": "ipython",
    "version": 3
   },
   "file_extension": ".py",
   "mimetype": "text/x-python",
   "name": "python",
   "nbconvert_exporter": "python",
   "pygments_lexer": "ipython3",
   "version": "3.7.1"
  }
 },
 "nbformat": 4,
 "nbformat_minor": 1
}
