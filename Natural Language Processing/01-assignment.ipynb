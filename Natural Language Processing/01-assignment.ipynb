{
 "cells": [
  {
   "cell_type": "markdown",
   "metadata": {},
   "source": [
    "# Homework 1: Preprocessing and Text Classification"
   ]
  },
  {
   "cell_type": "markdown",
   "metadata": {},
   "source": [
    "Student Name: Chien-Lin Chen\n",
    "\n",
    "Student ID: 900380"
   ]
  },
  {
   "cell_type": "markdown",
   "metadata": {},
   "source": [
    "# General Info\n",
    "\n",
    "<b>Due date</b>: Sunday, 5 Apr 2020 5pm\n",
    "\n",
    "<b>Submission method</b>: Canvas submission\n",
    "\n",
    "<b>Submission materials</b>: completed copy of this iPython notebook\n",
    "\n",
    "<b>Late submissions</b>: -20% per day (both week and weekend days counted)\n",
    "\n",
    "<b>Marks</b>: 10% of mark for class (with 9% on correctness + 1% on quality and efficiency of your code)\n",
    "\n",
    "<b>Materials</b>: See [Using Jupyter Notebook and Python page](https://canvas.lms.unimelb.edu.au/courses/17601/pages/using-jupyter-notebook-and-python?module_item_id=1678430) on Canvas (under Modules>Resources) for information on the basic setup required for this class, including an iPython notebook viewer and the python packages NLTK, Numpy, Scipy, Matplotlib, Scikit-Learn, and Gensim. In particular, if you are not using a lab computer which already has it installed, we recommend installing all the data for NLTK, since you will need various parts of it to complete this assignment. You can also use any Python built-in packages, but do not use any other 3rd party packages (the packages listed above are all fine to use); if your iPython notebook doesn't run on the marker's machine, you will lose marks. <b> You should use Python 3</b>.  \n",
    "\n",
    "To familiarize yourself with NLTK, here is a free online book:  Steven Bird, Ewan Klein, and Edward Loper (2009). <a href=http://nltk.org/book>Natural Language Processing with Python</a>. O'Reilly Media Inc. You may also consult the <a href=https://www.nltk.org/api/nltk.html>NLTK API</a>.\n",
    "\n",
    "<b>Evaluation</b>: Your iPython notebook should run end-to-end without any errors in a reasonable amount of time, and you must follow all instructions provided below, including specific implementation requirements and instructions for what needs to be printed (please avoid printing output we don't ask for). You should edit the sections below where requested, but leave the rest of the code as is. You should leave the output from running your code in the iPython notebook you submit, to assist with marking. The amount each section is worth is given in parenthesis after the instructions. \n",
    "\n",
    "You will be marked not only on the correctness of your methods, but also the quality and efficency of your code: in particular, you should be careful to use Python built-in functions and operators when appropriate and pick descriptive variable names that adhere to <a href=\"https://www.python.org/dev/peps/pep-0008/\">Python style requirements</a>. If you think it might be unclear what you are doing, you should comment your code to help the marker make sense of it.\n",
    "\n",
    "<b>Updates</b>: Any major changes to the assignment will be announced via Canvas. Minor changes and clarifications will be announced on the discussion board; we recommend you check it regularly.\n",
    "\n",
    "<b>Academic misconduct</b>: For most people, collaboration will form a natural part of the undertaking of this homework, and we encourge you to discuss it in general terms with other students. However, this ultimately is still an individual task, and so reuse of code or other instances of clear influence will be considered cheating. We will be checking submissions for originality and will invoke the University’s <a href=\"http://academichonesty.unimelb.edu.au/policy.html\">Academic Misconduct policy</a> where inappropriate levels of collusion or plagiarism are deemed to have taken place."
   ]
  },
  {
   "cell_type": "markdown",
   "metadata": {},
   "source": [
    "# Overview\n",
    "\n",
    "In this homework, you'll be working with a collection tweets. The task is to classify whether a tweet constitutes a rumour event. This homework involves writing code to preprocess data and perform text classification."
   ]
  },
  {
   "cell_type": "markdown",
   "metadata": {},
   "source": [
    "# 1. Preprocessing (5 marks)"
   ]
  },
  {
   "cell_type": "markdown",
   "metadata": {},
   "source": [
    "**Instructions**: Run the code below to download the tweet corpus for the assignment. Note: the download may take some time. **No implementation is needed.**"
   ]
  },
  {
   "cell_type": "code",
   "execution_count": 208,
   "metadata": {},
   "outputs": [
    {
     "name": "stdout",
     "output_type": "stream",
     "text": [
      "Done. File downloaded: rumour-data.tgz\n"
     ]
    }
   ],
   "source": [
    "import requests\n",
    "import os\n",
    "from pathlib import Path\n",
    "\n",
    "fname = 'rumour-data.tgz'\n",
    "data_dir = os.path.splitext(fname)[0] #'rumour-data'\n",
    "\n",
    "my_file = Path(fname)\n",
    "if not my_file.is_file():\n",
    "    url = \"https://github.com/jhlau/jhlau.github.io/blob/master/files/rumour-data.tgz?raw=true\"\n",
    "    r = requests.get(url)\n",
    "\n",
    "    #Save to the current directory\n",
    "    with open(fname, 'wb') as f:\n",
    "        f.write(r.content)\n",
    "        \n",
    "print(\"Done. File downloaded:\", my_file)\n"
   ]
  },
  {
   "cell_type": "markdown",
   "metadata": {},
   "source": [
    "**Instructions**: Run the code to extract the zip file. Note: the extraction may take a minute or two. **No implementation is needed.**"
   ]
  },
  {
   "cell_type": "code",
   "execution_count": 209,
   "metadata": {},
   "outputs": [
    {
     "name": "stdout",
     "output_type": "stream",
     "text": [
      "Extraction done.\n"
     ]
    }
   ],
   "source": [
    "import tarfile\n",
    "\n",
    "#decompress rumour-data.tgz\n",
    "tar = tarfile.open(fname, \"r:gz\")\n",
    "tar.extractall()\n",
    "tar.close()\n",
    "\n",
    "#remove superfluous files (e.g. .DS_store)\n",
    "extra_files = []\n",
    "for r, d, f in os.walk(data_dir):\n",
    "    for file in f:\n",
    "        if (file.startswith(\".\")):\n",
    "            extra_files.append(os.path.join(r, file))\n",
    "for f in extra_files:\n",
    "    os.remove(f)\n",
    "\n",
    "print(\"Extraction done.\")"
   ]
  },
  {
   "cell_type": "markdown",
   "metadata": {},
   "source": [
    "### Question 1 (1.0 mark)\n",
    "\n",
    "**Instructions**: The corpus data is in the *rumour-data* folder. It contains 2 sub-folders: *non-rumours* and *rumours*. As the names suggest, *rumours* contains all rumour-propagating tweets, while *non-rumours* has normal tweets. Within  *rumours* and *non-rumours*, you'll find some sub-folders, each named with an ID. Each of these IDs constitutes an 'event', where an event is defined as consisting a **source tweet** and its **reactions**.\n",
    "\n",
    "An illustration of the folder structure is given below:\n",
    "\n",
    "    rumour-data\n",
    "        - rumours\n",
    "            - 498254340310966273\n",
    "                - reactions\n",
    "                    - 498254340310966273.json\n",
    "                    - 498260814487642112.json\n",
    "                - source-tweet\n",
    "                    - 498254340310966273.json\n",
    "        - non-rumours\n",
    "\n",
    "Now we need to gather the tweet messages for rumours and non-rumour events. As the individual tweets are stored in json format, we need to use a json parser to parse and collect the actual tweet message. The function `get_tweet_text_from_json(file_path)` is provided to do that.\n",
    "\n",
    "**Task**: Complete the `get_events(event_dir)` function. The function should return **a list of events** for a particular class of tweets (e.g. rumours), and each event should contain the source tweet message and all reaction tweet messages.\n",
    "\n",
    "**Check**: Use the assertion statements in *\"For your testing\"* below for the expected output."
   ]
  },
  {
   "cell_type": "code",
   "execution_count": 210,
   "metadata": {},
   "outputs": [
    {
     "name": "stdout",
     "output_type": "stream",
     "text": [
      "Number of rumour events = 500\n",
      "Number of non-rumour events = 1000\n"
     ]
    }
   ],
   "source": [
    "import json\n",
    "\n",
    "def get_tweet_text_from_json(file_path):\n",
    "    with open(file_path) as json_file:\n",
    "        data = json.load(json_file)\n",
    "        return data[\"text\"]\n",
    "    \n",
    "def get_events(event_dir):\n",
    "    \n",
    "    event_list = []\n",
    "    \n",
    "    for event in sorted(os.listdir(event_dir)):\n",
    "        \n",
    "        a_event = {}\n",
    "        \n",
    "        source_tweet = get_tweet_text_from_json(event_dir + \"/\" + event + \"/source-tweet/\"+ event + \".json\")\n",
    "\n",
    "        reactions = []\n",
    "        \n",
    "        # files in a event reactions\n",
    "        reactions_list = os.listdir(event_dir + \"/\"  + event + \"/reactions\")\n",
    "        \n",
    "        for i in range(len(reactions_list)):\n",
    "            reactions.append(get_tweet_text_from_json(event_dir + \"/\" + event + \"/reactions/\"+ reactions_list[i]))\n",
    "        \n",
    "        a_event[source_tweet] = reactions\n",
    "\n",
    "        event_list.append(a_event)\n",
    "    \n",
    "    return event_list\n",
    "    \n",
    "#a list of events, and each event is a list of tweets (source tweet + reactions)    \n",
    "rumour_events = get_events(os.path.join(data_dir, \"rumours\"))\n",
    "nonrumour_events = get_events(os.path.join(data_dir, \"non-rumours\"))\n",
    "\n",
    "print(\"Number of rumour events =\", len(rumour_events))\n",
    "print(\"Number of non-rumour events =\", len(nonrumour_events))"
   ]
  },
  {
   "cell_type": "markdown",
   "metadata": {},
   "source": [
    "**For your testing:**"
   ]
  },
  {
   "cell_type": "code",
   "execution_count": 211,
   "metadata": {},
   "outputs": [],
   "source": [
    "assert(len(rumour_events) == 500)\n",
    "assert(len(nonrumour_events) == 1000)"
   ]
  },
  {
   "cell_type": "markdown",
   "metadata": {},
   "source": [
    "### Question 2 (1.0 mark)\n",
    "\n",
    "**Instructions**: Next we need to preprocess the collected tweets to create a bag-of-words representation. The preprocessing steps required here are: (1) tokenize each tweet into individual word tokens (using NLTK `TweetTokenizer`); and (2) remove stopwords (based on NLTK `stopwords`).\n",
    "\n",
    "**Task**: Complete the `preprocess_events(event)` function. The function takes **a list of events** as input, and returns **a list of preprocessed events**. Each preprocessed event should have a dictionary of words and frequencies.\n",
    "\n",
    "**Check**: Use the assertion statements in *\"For your testing\"* below for the expected output."
   ]
  },
  {
   "cell_type": "code",
   "execution_count": 212,
   "metadata": {},
   "outputs": [
    {
     "name": "stdout",
     "output_type": "stream",
     "text": [
      "Number of preprocessed rumour events = 500\n",
      "Number of preprocessed non-rumour events = 1000\n"
     ]
    }
   ],
   "source": [
    "import nltk\n",
    "from nltk.tokenize import TweetTokenizer\n",
    "from nltk.corpus import stopwords\n",
    "from collections import defaultdict\n",
    "\n",
    "tt = TweetTokenizer()\n",
    "stopwords = set(stopwords.words('english'))\n",
    "\n",
    "def preprocess_events(events):\n",
    "\n",
    "    preprocessed_event_list = []\n",
    "    \n",
    "    for i in range(len(events)):\n",
    "        \n",
    "        word_tokens = {}\n",
    "        \n",
    "        for source, reactions in events[i].items():\n",
    "            \n",
    "            source_tokens = tt.tokenize(source)\n",
    "            \n",
    "            # filter the stop words\n",
    "            source_tokens_filtered = [w for w in source_tokens if not w in stopwords]\n",
    "            \n",
    "            # frequency for a word token in the source\n",
    "            for s_word in source_tokens_filtered:\n",
    "                if s_word in word_tokens:\n",
    "                    word_tokens[s_word] += 1\n",
    "                else:\n",
    "                    word_tokens[s_word] = 1\n",
    "\n",
    "            # for each reaction belong to the same source\n",
    "            for reaction in reactions:\n",
    "                \n",
    "                reaction_tokens = tt.tokenize(reaction)\n",
    "                \n",
    "                # filter the stop words\n",
    "                reaction_tokens_filtered = [w for w in reaction_tokens if not w in stopwords]\n",
    "                \n",
    "                # frequency for a word token in the reactions\n",
    "                for r_word in reaction_tokens_filtered:\n",
    "                    if r_word in word_tokens:\n",
    "                        word_tokens[r_word] += 1\n",
    "                    else:\n",
    "                        word_tokens[r_word] = 1\n",
    "                \n",
    "            preprocessed_event_list.append(word_tokens)\n",
    "    \n",
    "    return preprocessed_event_list\n",
    "\n",
    "preprocessed_rumour_events = preprocess_events(rumour_events)\n",
    "preprocessed_nonrumour_events = preprocess_events(nonrumour_events)\n",
    "\n",
    "print(\"Number of preprocessed rumour events =\", len(preprocessed_rumour_events))\n",
    "print(\"Number of preprocessed non-rumour events =\", len(preprocessed_nonrumour_events))"
   ]
  },
  {
   "cell_type": "markdown",
   "metadata": {},
   "source": [
    "**For your testing**:"
   ]
  },
  {
   "cell_type": "code",
   "execution_count": 213,
   "metadata": {},
   "outputs": [],
   "source": [
    "assert(len(preprocessed_rumour_events) == 500)\n",
    "assert(len(preprocessed_nonrumour_events) == 1000)"
   ]
  },
  {
   "cell_type": "markdown",
   "metadata": {},
   "source": [
    "**Instructions**: Hashtags (i.e. topic tags which start with #) pose an interesting tokenisation problem because they often include multiple words written without spaces or capitalization. Run the code below to collect all unique hashtags in the preprocessed data. **No implementation is needed.**\n",
    "\n"
   ]
  },
  {
   "cell_type": "code",
   "execution_count": 214,
   "metadata": {},
   "outputs": [
    {
     "name": "stdout",
     "output_type": "stream",
     "text": [
      "Number of hashtags = 1829\n"
     ]
    }
   ],
   "source": [
    "def get_all_hashtags(events):\n",
    "    hashtags = set([])\n",
    "    for event in events:\n",
    "        for word, frequency in event.items():\n",
    "            if word.startswith(\"#\"):\n",
    "                hashtags.add(word)\n",
    "    return hashtags\n",
    "\n",
    "hashtags = get_all_hashtags(preprocessed_rumour_events + preprocessed_nonrumour_events)\n",
    "print(\"Number of hashtags =\", len(hashtags))"
   ]
  },
  {
   "cell_type": "markdown",
   "metadata": {},
   "source": [
    "### Question 3 (2.0 mark)\n",
    "\n",
    "**Instructions**: Our task here to tokenize the hashtags, by implementing a reversed version of the MaxMatch algorithm discussed in class, where matching begins at the end of the hashtag and progresses backwards. NLTK has a list of words that you can use for matching, see starter code below. Be careful about efficiency with respect to doing word lookups. One extra challenge you have to deal with is that the provided list of words includes only lemmas: your MaxMatch algorithm should match inflected forms by converting them into lemmas using the NLTK lemmatizer before matching. When lemmatising a word, you also need to provide the part-of-speech tag of the word. You should use `nltk.tag.pos_tag` for doing part-of-speech tagging.\n",
    "\n",
    "Note that the list of words is incomplete, and, if you are unable to make any longer match, your code should default to matching a single letter. Create a new list of tokenized hashtags (this should be a list of lists of strings) and use slicing to print out the last 20 hashtags in the list.\n",
    "\n",
    "For example, given \"#speakup\", the algorithm should produce: \\[\"#\", \"speak\", \"up\"\\]. And note that you do not need to delete the hashtag symbol (\"#\") from the tokenised outputs.\n",
    "\n",
    "**Task**: Complete the `tokenize_hashtags(hashtags)` function by implementing a reversed MaxMatch algorithm. The function takes as input **a set of hashtags**, and returns **a dictionary** where key=\"hashtag\" and value=\"a list of word tokens\".\n",
    "\n",
    "**Check**: Use the assertion statements in *\"For your testing\"* below for the expected output."
   ]
  },
  {
   "cell_type": "code",
   "execution_count": 215,
   "metadata": {},
   "outputs": [],
   "source": [
    "from nltk.corpus import wordnet\n",
    "\n",
    "lemmatizer = nltk.stem.wordnet.WordNetLemmatizer()\n",
    "words = set(nltk.corpus.words.words()) #a list of words provided by NLTK"
   ]
  },
  {
   "cell_type": "code",
   "execution_count": 216,
   "metadata": {},
   "outputs": [],
   "source": [
    "def lemmatize(hashtag):\n",
    "    \n",
    "    pos_tag = nltk.tag.pos_tag([hashtag])[0][1]\n",
    "    \n",
    "    if pos_tag == \"NN\" or pos_tag == \"NNS\" or pos_tag == \"NNP\" or pos_tag == \"NNPS\":\n",
    "        return lemmatizer.lemmatize(hashtag,'n')\n",
    "    \n",
    "    elif pos_tag == \"JJS\" or pos_tag == \"JJR\" or pos_tag == \"JJS\":\n",
    "        return lemmatizer.lemmatize(hashtag,'a')\n",
    "    \n",
    "    elif pos_tag == \"RB\" or pos_tag == \"RBR\" or pos_tag == \"RBS\":\n",
    "        return lemmatizer.lemmatize(hashtag,'r')\n",
    "    \n",
    "    elif pos_tag == \"VB\" or pos_tag == \"VBD\" or pos_tag == \"VBG\" or pos_tag == \"VBN\" or \\\n",
    "         pos_tag == \"VBP\" or pos_tag == \"VBZ\":\n",
    "        return lemmatizer.lemmatize(hashtag,'v')\n",
    "    \n",
    "    else:\n",
    "        return hashtag"
   ]
  },
  {
   "cell_type": "code",
   "execution_count": 217,
   "metadata": {},
   "outputs": [],
   "source": [
    "def reverse_maxmatch(hashtag, dictionary, hashtag_length):\n",
    "    \n",
    "    index = hashtag_length\n",
    "    \n",
    "    hashtag_tokens = []\n",
    "    \n",
    "    while index > 0:\n",
    "        \n",
    "        token = None\n",
    "        \n",
    "        # get the hashtag subword by starting at the end of a string\n",
    "        # search for the possible longest subword in the dictionary\n",
    "        for i in range(hashtag_length, 0, -1):\n",
    "            \n",
    "            \n",
    "            if index - i < 0:\n",
    "                continue\n",
    "                \n",
    "            else:\n",
    "                subword = hashtag[index - i: index]\n",
    "            \n",
    "                # found a subword that is in dictionary\n",
    "                if subword in dictionary:\n",
    "                    token = subword\n",
    "                    hashtag_tokens.append(token)\n",
    "                    index -= i\n",
    "                    break\n",
    "                    \n",
    "                # try lemmatize the subword and find in the dictionary\n",
    "                subword_lemma = lemmatize(subword)\n",
    "                if subword_lemma in dictionary:\n",
    "                    token = subword_lemma\n",
    "                    hashtag_tokens.append(token)\n",
    "                    index -= i\n",
    "                    break\n",
    "                       \n",
    "        # cannot find the last character \n",
    "        if token is None:\n",
    "            hashtag_tokens.append(hashtag[index - 1])\n",
    "            index -= 1\n",
    "            \n",
    "    # reverse the tokens found\n",
    "    return hashtag_tokens[::-1]"
   ]
  },
  {
   "cell_type": "code",
   "execution_count": 218,
   "metadata": {},
   "outputs": [
    {
     "name": "stdout",
     "output_type": "stream",
     "text": [
      "[('#Barbarism', ['#', 'B', 'ar', 'bar', 'ism']), ('#AttackInOttawa', ['#', 'A', 't', 'tack', 'I', 'n', 'Ottawa']), ('#corruption', ['#', 'corruption']), ('#pedantry', ['#', 'pedantry']), ('#LoveForCanada', ['#', 'Lo', 'v', 'e', 'For', 'Canada']), ('#redblacks', ['#', 'red', 'black']), ('#PrayForFerguson', ['#', 'P', 'ray', 'For', 'Ferguson']), ('#KeyStoner', ['#', 'K', 'ey', 'S', 'toner']), ('#FreeSpeech', ['#', 'F', 'ree', 'S', 'pee', 'c', 'h']), ('#foxnewsunday', ['#', 'fox', 'new', 'sun', 'day']), ('#myNYPD', ['#', 'my', 'N', 'Y', 'P', 'D']), ('#world', ['#', 'world']), ('#foolsnotmartyrs', ['#', 'fool', 'snot', 'martyr']), ('#PRAY', ['#', 'P', 'R', 'A', 'Y']), ('#pilots', ['#', 'pilot']), ('#SayNoToIslamophobia', ['#', 'S', 'ay', 'No', 'T', 'o', 'I', 'sla', 'moph', 'obi', 'a']), ('#runtelldat', ['#', 'r', 'untell', 'd', 'at']), ('#naive', ['#', 'naive']), ('#TenNews', ['#', 'T', 'en', 'N', 'e', 'w']), ('#LiarsLie', ['#', 'L', 'i', 'ar', 'L', 'ie'])]\n"
     ]
    }
   ],
   "source": [
    "def tokenize_hashtags(hashtags):\n",
    "\n",
    "    hashtags_dic = {}\n",
    "    \n",
    "    for hashtag in hashtags:\n",
    "        \n",
    "        hashtag_tokens = reverse_maxmatch(hashtag, words, len(hashtag))\n",
    "\n",
    "        hashtags_dic[hashtag] = hashtag_tokens\n",
    "\n",
    "    return hashtags_dic\n",
    "\n",
    "tokenized_hashtags = tokenize_hashtags(hashtags)\n",
    "print(list(tokenized_hashtags.items())[:20])"
   ]
  },
  {
   "cell_type": "markdown",
   "metadata": {},
   "source": [
    "**For your testing:**"
   ]
  },
  {
   "cell_type": "code",
   "execution_count": 219,
   "metadata": {},
   "outputs": [],
   "source": [
    "assert(len(tokenized_hashtags) == len(hashtags))"
   ]
  },
  {
   "cell_type": "markdown",
   "metadata": {},
   "source": [
    "### Question 4 (1.0 mark)\n",
    "\n",
    "**Instructions**: Now that we have the tokenized hashtags, we need to go back and update the bag-of-words representation for each event.\n",
    "\n",
    "**Task**: Complete the ``update_event_bow(events)`` function. The function takes **a list of preprocessed events**, and for each event, it looks for every hashtag it has and updates the bag-of-words dictionary with the tokenized hashtag tokens. Note: you do not need to delete the counts of the original hashtags when updating the bag-of-words (e.g., if a document has \"#speakup\":2 in its bag-of-words representation, you do not need to delete this hashtag and its counts)."
   ]
  },
  {
   "cell_type": "code",
   "execution_count": 220,
   "metadata": {},
   "outputs": [
    {
     "name": "stdout",
     "output_type": "stream",
     "text": [
      "Number of preprocessed rumour events = 500\n",
      "Number of preprocessed non-rumour events = 1000\n"
     ]
    }
   ],
   "source": [
    "def update_event_bow(events):\n",
    "    \n",
    "    for event in events:\n",
    "\n",
    "        a_event_hashtags = {}\n",
    "        \n",
    "        for word, freq in event.items():\n",
    "            \n",
    "            if word[0] == \"#\" and len(word) != 1:\n",
    "                a_event_hashtags[word] = freq\n",
    "        \n",
    "        for hashtag, hashtag_freq in a_event_hashtags.items():\n",
    "            \n",
    "            hashtag_tokens = reverse_maxmatch(hashtag, words, len(hashtag))\n",
    "\n",
    "            # update the frequency of the word tokens from the hashtag tokens\n",
    "            for token in hashtag_tokens:\n",
    "                \n",
    "                if token in event:\n",
    "                    event[token] += hashtag_freq\n",
    "                else:\n",
    "                    event[token] = hashtag_freq    \n",
    "            \n",
    "update_event_bow(preprocessed_rumour_events)\n",
    "update_event_bow(preprocessed_nonrumour_events)\n",
    "\n",
    "print(\"Number of preprocessed rumour events =\", len(preprocessed_rumour_events))\n",
    "print(\"Number of preprocessed non-rumour events =\", len(preprocessed_nonrumour_events))"
   ]
  },
  {
   "cell_type": "markdown",
   "metadata": {},
   "source": [
    "# Text Classification (4 marks)"
   ]
  },
  {
   "cell_type": "markdown",
   "metadata": {},
   "source": [
    "### Question 5 (1.0 mark)\n",
    "\n",
    "**Instructions**: Here we are interested to do text classification, to predict, given a tweet and its reactions, whether it is a rumour or not. The task here is to create training, development and test partitions from the preprocessed events and convert the bag-of-words representation into feature vectors.\n",
    "\n",
    "**Task**: Using scikit-learn, create training, development and test partitions with a 60%/20%/20% ratio. Remember to preserve the ratio of rumour/non-rumour events for all your partitions. Next, turn the bag-of-words dictionary of each event into a feature vector, using scikit-learn `DictVectorizer`."
   ]
  },
  {
   "cell_type": "code",
   "execution_count": 221,
   "metadata": {},
   "outputs": [
    {
     "name": "stderr",
     "output_type": "stream",
     "text": [
      "/Users/iphoneoppa/anaconda3/lib/python3.7/site-packages/sklearn/model_selection/_split.py:2179: FutureWarning: From version 0.21, test_size will always complement train_size unless both are specified.\n",
      "  FutureWarning)\n"
     ]
    }
   ],
   "source": [
    "from sklearn.model_selection import train_test_split\n",
    "\n",
    "rumor_train, rumor_dev_test = train_test_split(preprocessed_rumour_events, train_size = 0.6)\n",
    "rumor_dev, rumor_test = train_test_split(rumor_dev_test, train_size = 0.5)\n",
    "rumor_train_category = [\"rumor\" for i in range(len(rumor_train))]\n",
    "rumor_dev_category = [\"rumor\" for i in range(len(rumor_dev))]\n",
    "rumor_test_category = [\"rumor\" for i in range(len(rumor_test))]\n",
    "\n",
    "nonrumor_train, nonrumor_dev_test = train_test_split(preprocessed_nonrumour_events, train_size = 0.6)\n",
    "nonrumor_dev, nonrumor_test = train_test_split(nonrumor_dev_test, train_size = 0.5)\n",
    "nonrumor_train_category = [\"nonrumor\" for i in range(len(nonrumor_train))]\n",
    "nonrumor_dev_category = [\"nonrumor\" for i in range(len(nonrumor_dev))]\n",
    "nonrumor_test_category = [\"nonrumor\" for i in range(len(nonrumor_test))]"
   ]
  },
  {
   "cell_type": "code",
   "execution_count": 222,
   "metadata": {},
   "outputs": [],
   "source": [
    "X_train = rumor_train + nonrumor_train\n",
    "y_train = rumor_train_category + nonrumor_train_category\n",
    "\n",
    "X_dev = rumor_dev + nonrumor_dev\n",
    "y_dev = rumor_dev_category + nonrumor_dev_category\n",
    "\n",
    "X_test = rumor_test + nonrumor_test\n",
    "y_test = rumor_test_category + nonrumor_test_category"
   ]
  },
  {
   "cell_type": "code",
   "execution_count": 223,
   "metadata": {},
   "outputs": [
    {
     "name": "stdout",
     "output_type": "stream",
     "text": [
      "Vocabulary size = 27090\n"
     ]
    }
   ],
   "source": [
    "from sklearn.feature_extraction import DictVectorizer\n",
    "\n",
    "vectorizer = DictVectorizer()\n",
    "\n",
    "training_data = vectorizer.fit_transform(X_train)\n",
    "\n",
    "development_data = vectorizer.transform(X_dev)\n",
    "\n",
    "test_data = vectorizer.transform(X_test)\n",
    "\n",
    "print(\"Vocabulary size =\", len(vectorizer.vocabulary_))"
   ]
  },
  {
   "cell_type": "markdown",
   "metadata": {},
   "source": [
    "### Question 6 (2.0 mark)\n",
    "\n",
    "**Instructions**: Now, let's build some classifiers. Here, we'll be comparing Naive Bayes and Logistic Regression. For each, you need to first find a good value for their main regularisation (hyper)parameters, which you should identify using the scikit-learn docs or other resources. Use the development set you created for this tuning process; do **not** use cross-validation in the training set, or involve the test set in any way. You don't need to show all your work, but you do need to print out the accuracy with enough different settings to strongly suggest you have found an optimal or near-optimal choice. We should not need to look at your code to interpret the output.\n",
    "\n",
    "**Task**: Implement two text classifiers: Naive Bayes and Logistic Regression. Tune the hyper-parameters of these classifiers and print the task performance for different hyper-parameter settings."
   ]
  },
  {
   "cell_type": "code",
   "execution_count": 224,
   "metadata": {},
   "outputs": [],
   "source": [
    "from sklearn.naive_bayes import MultinomialNB\n",
    "from sklearn.linear_model import LogisticRegression"
   ]
  },
  {
   "cell_type": "code",
   "execution_count": 225,
   "metadata": {},
   "outputs": [
    {
     "data": {
      "image/png": "[encoded data removed]",
      "text/plain": [
       "<Figure size 432x288 with 1 Axes>"
      ]
     },
     "metadata": {
      "needs_background": "light"
     },
     "output_type": "display_data"
    },
    {
     "name": "stdout",
     "output_type": "stream",
     "text": [
      "max score: 0.8333333333333334\n",
      "parameter: 0.076\n"
     ]
    }
   ],
   "source": [
    "import matplotlib.pyplot as plt\n",
    "\n",
    "alpha_parameters = [x*0.001 for x in range(1, 10000, 1)]\n",
    "a_scores = []\n",
    "max_score_a = 0\n",
    "max_alpha = 0\n",
    "\n",
    "for i in range(len(alpha_parameters)):\n",
    "    \n",
    "    alpha_para = alpha_parameters[i]\n",
    "    \n",
    "    model = MultinomialNB(alpha = alpha_para)\n",
    "    \n",
    "    model.fit(training_data, y_train)\n",
    "    \n",
    "    score = model.score(development_data, y_dev)\n",
    "    \n",
    "    a_scores.append(score)\n",
    "    \n",
    "    if score > max_score_a:\n",
    "        max_score_a = score\n",
    "        max_alpha = alpha_parameters[i]\n",
    "    \n",
    "plt.plot(alpha_parameters, a_scores)\n",
    "plt.xlabel(\"alpha parameter\")\n",
    "plt.ylabel(\"score\")\n",
    "plt.title(\"MNB alpha and score\")\n",
    "plt.show()\n",
    "\n",
    "print(\"max score: \" + str(max_score))\n",
    "print(\"parameter: \" + str(max_alpha))"
   ]
  },
  {
   "cell_type": "code",
   "execution_count": 226,
   "metadata": {},
   "outputs": [
    {
     "name": "stderr",
     "output_type": "stream",
     "text": [
      "/Users/iphoneoppa/anaconda3/lib/python3.7/site-packages/sklearn/linear_model/logistic.py:433: FutureWarning: Default solver will be changed to 'lbfgs' in 0.22. Specify a solver to silence this warning.\n",
      "  FutureWarning)\n"
     ]
    },
    {
     "data": {
      "image/png": "[encoded data removed]",
      "text/plain": [
       "<Figure size 432x288 with 1 Axes>"
      ]
     },
     "metadata": {
      "needs_background": "light"
     },
     "output_type": "display_data"
    },
    {
     "name": "stdout",
     "output_type": "stream",
     "text": [
      "max score: 0.81\n",
      "parameter: 4.7\n"
     ]
    }
   ],
   "source": [
    "C_parameters = [x*0.1 for x in range(1, 300, 1)]\n",
    "C_scores = []\n",
    "max_score_C = 0\n",
    "max_C = 0\n",
    "\n",
    "for i in range(len(C_parameters)):\n",
    "    \n",
    "    C_para = C_parameters[i]\n",
    "    \n",
    "    model = LogisticRegression(C = C_para)\n",
    "    \n",
    "    model.fit(training_data, y_train)\n",
    "    \n",
    "    score = model.score(development_data, y_dev)\n",
    "    \n",
    "    C_scores.append(score)\n",
    "    \n",
    "    if score > max_score_C:\n",
    "        max_score_C = score\n",
    "        max_C = C_parameters[i]\n",
    "    \n",
    "plt.plot(C_parameters, C_scores)\n",
    "plt.xlabel(\"C parameter\")\n",
    "plt.ylabel(\"score\")\n",
    "plt.title(\"LR C and score\")\n",
    "plt.show()\n",
    "\n",
    "print(\"max score: \" + str(max_score_C))\n",
    "print(\"parameter: \" + str(max_C))"
   ]
  },
  {
   "cell_type": "markdown",
   "metadata": {},
   "source": [
    "**Grid Search**"
   ]
  },
  {
   "cell_type": "code",
   "execution_count": 227,
   "metadata": {},
   "outputs": [
    {
     "name": "stdout",
     "output_type": "stream",
     "text": [
      "Best Score:  0.7433333333333333\n",
      "Best Paramaters:  {'alpha': 0.0001}\n"
     ]
    },
    {
     "name": "stderr",
     "output_type": "stream",
     "text": [
      "/Users/iphoneoppa/anaconda3/lib/python3.7/site-packages/sklearn/model_selection/_split.py:2053: FutureWarning: You should specify a value for 'cv' instead of relying on the default value. The default value will change from 3 to 5 in version 0.22.\n",
      "  warnings.warn(CV_WARNING, FutureWarning)\n",
      "/Users/iphoneoppa/anaconda3/lib/python3.7/site-packages/sklearn/model_selection/_search.py:841: DeprecationWarning: The default of the `iid` parameter will change from True to False in version 0.22 and will be removed in 0.24. This will change numeric results when test-set sizes are unequal.\n",
      "  DeprecationWarning)\n"
     ]
    }
   ],
   "source": [
    "from sklearn.model_selection import GridSearchCV\n",
    "\n",
    "MNB_parameters = {\"alpha\":[0.0001, 0.001, 0.01, 0.1, 1, 10, 100, 1000]}\n",
    "\n",
    "MNB_grid = GridSearchCV(estimator = MultinomialNB(), param_grid = MNB_parameters)\n",
    "MNB_grid_result = MNB_grid.fit(development_data, y_dev)\n",
    "\n",
    "print('Best Score: ', MNB_grid_result.best_score_)\n",
    "print('Best Paramaters: ', MNB_grid_result.best_params_)"
   ]
  },
  {
   "cell_type": "code",
   "execution_count": 228,
   "metadata": {},
   "outputs": [
    {
     "name": "stderr",
     "output_type": "stream",
     "text": [
      "/Users/iphoneoppa/anaconda3/lib/python3.7/site-packages/sklearn/model_selection/_split.py:2053: FutureWarning: You should specify a value for 'cv' instead of relying on the default value. The default value will change from 3 to 5 in version 0.22.\n",
      "  warnings.warn(CV_WARNING, FutureWarning)\n",
      "/Users/iphoneoppa/anaconda3/lib/python3.7/site-packages/sklearn/linear_model/logistic.py:433: FutureWarning: Default solver will be changed to 'lbfgs' in 0.22. Specify a solver to silence this warning.\n",
      "  FutureWarning)\n"
     ]
    },
    {
     "name": "stdout",
     "output_type": "stream",
     "text": [
      "Best Score:  0.7166666666666667\n",
      "Best Paramaters:  {'C': 1, 'penalty': 'l2'}\n"
     ]
    },
    {
     "name": "stderr",
     "output_type": "stream",
     "text": [
      "/Users/iphoneoppa/anaconda3/lib/python3.7/site-packages/sklearn/model_selection/_search.py:841: DeprecationWarning: The default of the `iid` parameter will change from True to False in version 0.22 and will be removed in 0.24. This will change numeric results when test-set sizes are unequal.\n",
      "  DeprecationWarning)\n"
     ]
    }
   ],
   "source": [
    "LR_parameters = {\"penalty\": ['l1', 'l2'], \"C\": [x for x in range(1, 50)]}\n",
    "\n",
    "LR_grid = GridSearchCV(estimator = LogisticRegression(), param_grid = LR_parameters)\n",
    "LR_grid_result = LR_grid.fit(development_data, y_dev)\n",
    "\n",
    "print('Best Score: ', LR_grid_result.best_score_)\n",
    "print('Best Paramaters: ', LR_grid_result.best_params_)"
   ]
  },
  {
   "cell_type": "markdown",
   "metadata": {},
   "source": [
    "### Question 7 (1.0 mark)\n",
    "\n",
    "**Instructions**: Using the best settings you have found, compare the two classifiers based on performance in the test set. Print out both accuracy and macro-averaged F-score for each classifier. Be sure to label your output.\n",
    "\n",
    "**Task**: Compute test performance in terms of accuracy and macro-averaged F-score for both Naive Bayes and Logistic Regression, using optimal hyper-parameter settings."
   ]
  },
  {
   "cell_type": "code",
   "execution_count": 229,
   "metadata": {},
   "outputs": [
    {
     "name": "stderr",
     "output_type": "stream",
     "text": [
      "/Users/iphoneoppa/anaconda3/lib/python3.7/site-packages/sklearn/linear_model/logistic.py:433: FutureWarning: Default solver will be changed to 'lbfgs' in 0.22. Specify a solver to silence this warning.\n",
      "  FutureWarning)\n"
     ]
    },
    {
     "name": "stdout",
     "output_type": "stream",
     "text": [
      "MultinomialNB(alpha=0.076, class_prior=None, fit_prior=True)\n",
      "accuracy:\n",
      "0.7633333333333333\n",
      "F-score:\n",
      "0.7357024977975208\n",
      "Report:\n",
      "              precision    recall  f1-score   support\n",
      "\n",
      "    nonrumor       0.83      0.81      0.82       200\n",
      "       rumor       0.64      0.66      0.65       100\n",
      "\n",
      "   micro avg       0.76      0.76      0.76       300\n",
      "   macro avg       0.73      0.74      0.74       300\n",
      "weighted avg       0.77      0.76      0.76       300\n",
      "\n",
      "\n",
      "\n",
      "LogisticRegression(C=4.7, class_weight=None, dual=False, fit_intercept=True,\n",
      "          intercept_scaling=1, max_iter=100, multi_class='warn',\n",
      "          n_jobs=None, penalty='l2', random_state=None, solver='warn',\n",
      "          tol=0.0001, verbose=0, warm_start=False)\n",
      "accuracy:\n",
      "0.7133333333333334\n",
      "F-score:\n",
      "0.6470588235294117\n",
      "Report:\n",
      "              precision    recall  f1-score   support\n",
      "\n",
      "    nonrumor       0.75      0.86      0.80       200\n",
      "       rumor       0.60      0.42      0.49       100\n",
      "\n",
      "   micro avg       0.71      0.71      0.71       300\n",
      "   macro avg       0.67      0.64      0.65       300\n",
      "weighted avg       0.70      0.71      0.70       300\n",
      "\n",
      "\n",
      "\n"
     ]
    }
   ],
   "source": [
    "###\n",
    "# Your answer BEGINS HERE\n",
    "###\n",
    "from sklearn import model_selection\n",
    "from sklearn.metrics import accuracy_score, f1_score, classification_report\n",
    "    \n",
    "clfs = [MultinomialNB(alpha = max_alpha), LogisticRegression(C = max_C)]\n",
    "for clf in clfs:\n",
    "    y_predictions = model_selection.cross_val_predict(clf, test_data, y_test, cv=10)\n",
    "    print(clf)\n",
    "    print(\"accuracy:\")\n",
    "    print(accuracy_score( y_test, y_predictions))\n",
    "    print(\"F-score:\")\n",
    "    print(f1_score( y_test, y_predictions, average='macro'))\n",
    "    print(\"Report:\")\n",
    "    print(classification_report( y_test, y_predictions))\n",
    "    print(\"\\n\")"
   ]
  }
 ],
 "metadata": {
  "kernelspec": {
   "display_name": "Python 3",
   "language": "python",
   "name": "python3"
  },
  "language_info": {
   "codemirror_mode": {
    "name": "ipython",
    "version": 3
   },
   "file_extension": ".py",
   "mimetype": "text/x-python",
   "name": "python",
   "nbconvert_exporter": "python",
   "pygments_lexer": "ipython3",
   "version": "3.7.1"
  }
 },
 "nbformat": 4,
 "nbformat_minor": 2
}
